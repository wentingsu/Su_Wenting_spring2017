{
 "cells": [
  {
   "cell_type": "markdown",
   "metadata": {},
   "source": [
    "# Assignments, Expressions, and Prints"
   ]
  },
  {
   "cell_type": "markdown",
   "metadata": {},
   "source": [
    "### Assignment Statements\n",
    "* Assignments create object references\n",
    "* Names are created when first assigned\n",
    "* Names must be assigned before being referenced."
   ]
  },
  {
   "cell_type": "code",
   "execution_count": 1,
   "metadata": {
    "collapsed": true
   },
   "outputs": [],
   "source": [
    "a = 1           # Simple assignment\n",
    "b = 2\n",
    "c,d = 3,4       # Tuple assignment\n",
    "[x,y] = [5,6]   # List assignment"
   ]
  },
  {
   "cell_type": "code",
   "execution_count": 2,
   "metadata": {
    "collapsed": false
   },
   "outputs": [
    {
     "name": "stdout",
     "output_type": "stream",
     "text": [
      "4 3\n"
     ]
    }
   ],
   "source": [
    "d,c = c,d       # Swapping variables\n",
    "print (c,d)"
   ]
  },
  {
   "cell_type": "code",
   "execution_count": null,
   "metadata": {
    "collapsed": true
   },
   "outputs": [],
   "source": [
    "[a, b, c] = (1, 2, 3)\n",
    "(a, b, c) = \"ABC\""
   ]
  },
  {
   "cell_type": "code",
   "execution_count": 3,
   "metadata": {
    "collapsed": false
   },
   "outputs": [
    {
     "name": "stdout",
     "output_type": "stream",
     "text": [
      "S M\n"
     ]
    }
   ],
   "source": [
    "string = 'SPAM'\n",
    "a, b, c, d = string\n",
    "print(a,d)\n",
    "# a, b, c = string     # Will give error."
   ]
  },
  {
   "cell_type": "code",
   "execution_count": 4,
   "metadata": {
    "collapsed": false
   },
   "outputs": [
    {
     "name": "stdout",
     "output_type": "stream",
     "text": [
      "S P AM\n",
      "S P AM\n"
     ]
    }
   ],
   "source": [
    "(a, b), c = string[:2], string[2:]           # Nesting and using index and slice\n",
    "print(a,b,c)\n",
    "((a, b), c) = ('SP', 'AM')                   # Paired by shape and position\n",
    "print(a,b,c)"
   ]
  },
  {
   "cell_type": "code",
   "execution_count": 5,
   "metadata": {
    "collapsed": false
   },
   "outputs": [
    {
     "name": "stdout",
     "output_type": "stream",
     "text": [
      "1 [2, 3, 4]\n",
      "[1, 2, 3] 4\n"
     ]
    }
   ],
   "source": [
    "seq = [1, 2, 3, 4]\n",
    "# a, b = seq                 # Error\n",
    "a, *b = seq\n",
    "print(a,b)\n",
    "*a, b = seq\n",
    "print(a,b)"
   ]
  },
  {
   "cell_type": "code",
   "execution_count": 6,
   "metadata": {
    "collapsed": false
   },
   "outputs": [
    {
     "name": "stdout",
     "output_type": "stream",
     "text": [
      "1 [2, 3] 4\n",
      "1 2 [3, 4]\n"
     ]
    }
   ],
   "source": [
    "a, *b, c = seq\n",
    "print(a,b,c)\n",
    "a, b, *c = seq\n",
    "print(a,b,c)"
   ]
  },
  {
   "cell_type": "code",
   "execution_count": 7,
   "metadata": {
    "collapsed": false
   },
   "outputs": [
    {
     "name": "stdout",
     "output_type": "stream",
     "text": [
      "1 2 3 4 []\n",
      "1 2 3 4 []\n"
     ]
    }
   ],
   "source": [
    "a, b, c, d, *e = seq\n",
    "print(a, b, c, d, e)\n",
    "a, b, *e, c, d = seq\n",
    "print(a, b, c, d, e)"
   ]
  },
  {
   "cell_type": "code",
   "execution_count": 8,
   "metadata": {
    "collapsed": false
   },
   "outputs": [
    {
     "name": "stdout",
     "output_type": "stream",
     "text": [
      "[1, 2, 3, 4]\n"
     ]
    }
   ],
   "source": [
    "# Error Cases :\n",
    "# a, *b, c, *d = seq           \n",
    "# a, b = seq\n",
    "# *a = seq\n",
    "*a, = seq\n",
    "print(a)"
   ]
  },
  {
   "cell_type": "markdown",
   "metadata": {},
   "source": [
    "### Multiple-Target Assignments"
   ]
  },
  {
   "cell_type": "code",
   "execution_count": null,
   "metadata": {
    "collapsed": true
   },
   "outputs": [],
   "source": [
    "a = b = c = 'spam'\n",
    "# is same as :\n",
    "c = 'spam' \n",
    "b = c\n",
    "a = b"
   ]
  },
  {
   "cell_type": "code",
   "execution_count": 9,
   "metadata": {
    "collapsed": false
   },
   "outputs": [
    {
     "name": "stdout",
     "output_type": "stream",
     "text": [
      "0 1\n",
      "[42] [42]\n"
     ]
    }
   ],
   "source": [
    "# Remember mutability vs immutability\n",
    "a = b = 0\n",
    "b = b + 1\n",
    "print(a,b)\n",
    "a = b = []\n",
    "b.append(42)\n",
    "print(a,b)"
   ]
  },
  {
   "cell_type": "code",
   "execution_count": null,
   "metadata": {
    "collapsed": true
   },
   "outputs": [],
   "source": [
    "L = [1, 2]\n",
    "M = L                  # L and M reference the same object\n",
    "L = L + [3, 4]         # Concatenation makes a new object\n",
    "print('1.')\n",
    "print(L, M)            # Changes L but not M\n",
    "L = [1, 2] \n",
    "M = L\n",
    "L += [3, 4]            # But += really means extend\n",
    "print('1.')\n",
    "print(L, M)            # M sees the in-place change too!"
   ]
  },
  {
   "cell_type": "code",
   "execution_count": null,
   "metadata": {
    "collapsed": true
   },
   "outputs": [],
   "source": [
    "L = [1, 2]\n",
    "L.append(3)     # This is in-place change\n",
    "print(L)\n",
    "L = L.append(4)    # append returns None\n",
    "print(L)"
   ]
  },
  {
   "cell_type": "markdown",
   "metadata": {
    "collapsed": true
   },
   "source": [
    "!['Augmented assignment'](img/a1.png)"
   ]
  },
  {
   "cell_type": "code",
   "execution_count": null,
   "metadata": {
    "collapsed": true
   },
   "outputs": [],
   "source": [
    "# Speed considerations\n",
    "L = [1, 2]\n",
    "L = L + [3]         # Concatenate: slower\n",
    "L.append(4)         # Faster, but in place\n",
    "L.extend([7, 8])    "
   ]
  },
  {
   "cell_type": "markdown",
   "metadata": {},
   "source": [
    "### Variable Naming :\n",
    "* Syntax: (underscore or letter) + (any number of letters, digits, or underscores)\n",
    "* Case matters: SPAM is not the same as spam\n",
    "* Reserved words are off-limits\n",
    "#### Few points to remember\n",
    "* _X variables are not imported by from module import *\n",
    "* ____X __ __ are usually system-defined\n",
    "* __X are localized variable"
   ]
  },
  {
   "cell_type": "code",
   "execution_count": null,
   "metadata": {
    "collapsed": true
   },
   "outputs": [],
   "source": [
    "# Some print(...) variations\n",
    "# print([object, ...][, sep=' '][, end='\\n'][, file=sys.stdout])\n",
    "x = 'spam'\n",
    "y = 99\n",
    "z = ['eggs']\n",
    "print(x, y, z, sep='')\n",
    "print(x, y, z, sep=', ')\n",
    "print(x, y, z, sep='...', end='!\\n')\n",
    "print(x, y, z, sep='...', file=open('data.txt', 'w'))   # Print to a file"
   ]
  },
  {
   "cell_type": "markdown",
   "metadata": {},
   "source": [
    "# If Tests and Syntax Rules\n",
    "if test1:\n",
    "\n",
    "    statements1\n",
    "elif test2:\n",
    "\n",
    "    statements2\n",
    "else: \n",
    "\n",
    "    statements3"
   ]
  },
  {
   "cell_type": "code",
   "execution_count": 10,
   "metadata": {
    "collapsed": false
   },
   "outputs": [
    {
     "name": "stdout",
     "output_type": "stream",
     "text": [
      "One\n",
      "Small Number\n"
     ]
    }
   ],
   "source": [
    "a = 1\n",
    "if a ==1:\n",
    "    print('One')\n",
    "\n",
    "if (a>1):\n",
    "    print('Large Number')\n",
    "else:\n",
    "    print('Small Number')"
   ]
  },
  {
   "cell_type": "code",
   "execution_count": 11,
   "metadata": {
    "collapsed": false
   },
   "outputs": [
    {
     "name": "stdout",
     "output_type": "stream",
     "text": [
      "Bad choice\n"
     ]
    }
   ],
   "source": [
    "# Using it with structures\n",
    "branch = {'spam': 1.25, 'ham': 1.99, 'eggs': 0.99}\n",
    "choice = 'bacon'\n",
    "if choice in branch:\n",
    "    print(branch[choice]) \n",
    "else:\n",
    "    print('Bad choice')"
   ]
  },
  {
   "cell_type": "markdown",
   "metadata": {},
   "source": [
    "### Points to note :\n",
    "* Multiple indentation used to denote nested conditions\n",
    "* Do not mix tabs and spaces\n",
    "* Statements may span multiple lines if they end in a backslash or open syntactic pair"
   ]
  },
  {
   "cell_type": "code",
   "execution_count": null,
   "metadata": {
    "collapsed": true
   },
   "outputs": [],
   "source": [
    "L = [\"Good\", \"Bad\",\n",
    "\"Ugly\"]\n",
    "if a == b and c == d and \\ \n",
    "    d == e and f == g:\n",
    "    print('olde')\n",
    "if (a == b and c == d and\n",
    "    d == e and e == f):\n",
    "    print('olde')"
   ]
  },
  {
   "cell_type": "code",
   "execution_count": null,
   "metadata": {
    "collapsed": true
   },
   "outputs": [],
   "source": [
    "x = 1; y = 2; print(x) # More than one simple statement"
   ]
  },
  {
   "cell_type": "markdown",
   "metadata": {},
   "source": [
    "## Truth Values and Boolean Tests\n",
    "* All objects have an inherent Boolean true or false value.\n",
    "* Any nonzero number or nonempty object is true.\n",
    "* Zero numbers, empty objects, and the special object None are considered false.\n",
    "* Comparisons and equality tests are applied recursively to data structures.\n",
    "* Comparisons and equality tests return True or False (custom versions of 1 and 0).\n",
    "* Boolean and and or operators return a true or false operand object.\n",
    "* Boolean operators stop evaluating (“short circuit”) as soon as a result is known.\n",
    "\n",
    "\n",
    "X and Y\n",
    "* Is true if both X and Y are true\n",
    "\n",
    "X or Y\n",
    "* Is true if either X or Y is true\n",
    "\n",
    "not X\n",
    "* Is true if X is false (the expression returns True or False)"
   ]
  },
  {
   "cell_type": "code",
   "execution_count": 12,
   "metadata": {
    "collapsed": false,
    "scrolled": true
   },
   "outputs": [
    {
     "data": {
      "text/plain": [
       "(2, 3)"
      ]
     },
     "execution_count": 12,
     "metadata": {},
     "output_type": "execute_result"
    }
   ],
   "source": [
    "2 or 3, 3 or 2 # Return left operand if true, else return right operand (true or false)"
   ]
  },
  {
   "cell_type": "code",
   "execution_count": 13,
   "metadata": {
    "collapsed": false
   },
   "outputs": [
    {
     "name": "stdout",
     "output_type": "stream",
     "text": [
      "3\n",
      "{}\n"
     ]
    }
   ],
   "source": [
    "print([] or 3)\n",
    "print([] or {})"
   ]
  },
  {
   "cell_type": "code",
   "execution_count": null,
   "metadata": {
    "collapsed": true
   },
   "outputs": [],
   "source": [
    "print(2 and 3, 3 and 2) # Return left operand if false\n",
    "print([] and {})        # Else, return right operand (true or false)\n",
    "print(3 and [])"
   ]
  },
  {
   "cell_type": "code",
   "execution_count": null,
   "metadata": {
    "collapsed": true
   },
   "outputs": [],
   "source": [
    "# Ternary operator\n",
    "# A = Y if X else Z\n",
    "A = 't' if 'spam' else 'f'     # A='t'\n",
    "A = 't' if '' else 'f'         # A='f'"
   ]
  },
  {
   "cell_type": "markdown",
   "metadata": {},
   "source": [
    "# while and for Loops"
   ]
  },
  {
   "cell_type": "code",
   "execution_count": null,
   "metadata": {
    "collapsed": true
   },
   "outputs": [],
   "source": [
    "'''\n",
    "1.\n",
    "while test:\n",
    "    statements\n",
    "else:\n",
    "    statements\n",
    "    \n",
    "2.\n",
    "while test: \n",
    "    statements\n",
    "    if test: break\n",
    "    if test: continue \n",
    "else:\n",
    "    statements\n",
    "'''"
   ]
  },
  {
   "cell_type": "code",
   "execution_count": null,
   "metadata": {
    "collapsed": true
   },
   "outputs": [],
   "source": [
    "x = 'spam' \n",
    "while x:\n",
    "    print(x, end=' ') \n",
    "    x = x[1:]"
   ]
  },
  {
   "cell_type": "code",
   "execution_count": 5,
   "metadata": {
    "collapsed": false
   },
   "outputs": [
    {
     "name": "stdout",
     "output_type": "stream",
     "text": [
      "--- 10 ---\n",
      "--- 9 ---\n",
      "8 --- 8 ---\n",
      "--- 7 ---\n",
      "6 --- 6 ---\n",
      "--- 5 ---\n",
      "4 --- 4 ---\n",
      "--- 3 ---\n",
      "2 --- 2 ---\n",
      "--- 1 ---\n",
      "0 "
     ]
    }
   ],
   "source": [
    "x = 10 \n",
    "while x:\n",
    "    print('---',x,'---')\n",
    "    x = x-1\n",
    "    if x % 2 != 0: continue \n",
    "    print(x, end=' ')"
   ]
  },
  {
   "cell_type": "code",
   "execution_count": 3,
   "metadata": {
    "collapsed": false
   },
   "outputs": [
    {
     "name": "stdout",
     "output_type": "stream",
     "text": [
      "9 8 7 6 "
     ]
    }
   ],
   "source": [
    "x = 10 \n",
    "while x:\n",
    "    x = x-1\n",
    "    if x ==5: break \n",
    "    print(x, end=' ')"
   ]
  },
  {
   "cell_type": "code",
   "execution_count": 15,
   "metadata": {
    "collapsed": false
   },
   "outputs": [
    {
     "name": "stdout",
     "output_type": "stream",
     "text": [
      "6 has factor 3\n"
     ]
    }
   ],
   "source": [
    "y =6\n",
    "x = y // 2 \n",
    "while x > 1:\n",
    "    if y % x == 0:\n",
    "        print(y, 'has factor', x) \n",
    "        break\n",
    "    x -= 1 \n",
    "else:\n",
    "    print(y, 'is prime')"
   ]
  },
  {
   "cell_type": "markdown",
   "metadata": {},
   "source": [
    "## for Loops"
   ]
  },
  {
   "cell_type": "code",
   "execution_count": null,
   "metadata": {
    "collapsed": true
   },
   "outputs": [],
   "source": [
    "'''\n",
    "1.\n",
    "for target in object: \n",
    "    statements\n",
    "else:\n",
    "    statements\n",
    "    \n",
    "2.\n",
    "for target in object: \n",
    "    statements\n",
    "    if test: break\n",
    "    if test: continue \n",
    "else:\n",
    "    statements\n",
    "'''"
   ]
  },
  {
   "cell_type": "code",
   "execution_count": null,
   "metadata": {
    "collapsed": true
   },
   "outputs": [],
   "source": [
    "for x in [\"spam\", \"eggs\", \"ham\"]:\n",
    "    print(x, end=' ')\n",
    "prod = 1\n",
    "for item in [1, 2, 3, 4]: prod *= item"
   ]
  },
  {
   "cell_type": "code",
   "execution_count": null,
   "metadata": {
    "collapsed": true
   },
   "outputs": [],
   "source": [
    "S = \"lumberjack\"\n",
    "for x in S: print(x, end=' ')"
   ]
  },
  {
   "cell_type": "code",
   "execution_count": null,
   "metadata": {
    "collapsed": true
   },
   "outputs": [],
   "source": [
    "T = [(1, 2), (3, 4), (5, 6)]\n",
    "for (a, b) in T:\n",
    "    print(a, b)\n",
    "D = {'a': 1, 'b': 2, 'c': 3}\n",
    "for key in D:\n",
    "    print(key, '=>', D[key])\n",
    "for (key, value) in D.items():\n",
    "    print(key, '=>', value)"
   ]
  },
  {
   "cell_type": "code",
   "execution_count": null,
   "metadata": {
    "collapsed": true
   },
   "outputs": [],
   "source": [
    "for (a, *b, c) in [(1, 2, 3, 4), (5, 6, 7, 8)]:\n",
    "    print(a, b, c)\n",
    "for i in range(3):\n",
    "    print(i)"
   ]
  }
 ],
 "metadata": {
  "anaconda-cloud": {},
  "kernelspec": {
   "display_name": "Python [default]",
   "language": "python",
   "name": "python3"
  },
  "language_info": {
   "codemirror_mode": {
    "name": "ipython",
    "version": 3
   },
   "file_extension": ".py",
   "mimetype": "text/x-python",
   "name": "python",
   "nbconvert_exporter": "python",
   "pygments_lexer": "ipython3",
   "version": "3.5.2"
  }
 },
 "nbformat": 4,
 "nbformat_minor": 0
}
