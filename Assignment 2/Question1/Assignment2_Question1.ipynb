{
 "cells": [
  {
   "cell_type": "markdown",
   "metadata": {},
   "source": [
    "# Question 1\n",
    "* Learn and understand Zipf’s Law.\n",
    "* Pick any file (or files) in NLTK package.\n",
    "* Prove if Zipf’s Law works in Natural Language or not. \n",
    "* REQUIREMNTS: (Must Do)\n",
    "1. Use ’glob’ to open and read file. If read multiple files use LOOP to achieve.\n",
    "2. Create at least one function and one lambda function.\n",
    "3. Save your data as an CSV file contains (Word, Rank, Frequency) with TITLE and Sort it by RANK. \n",
    "4. Open your CSV file, generate a log-log figure according to the data you saved.\n",
    "5. Write a conclusion at the end of your code base on your figure."
   ]
  },
  {
   "cell_type": "code",
   "execution_count": 6,
   "metadata": {
    "collapsed": true
   },
   "outputs": [],
   "source": [
    "#import csv,glob, re, string and get the list of punctuation\n",
    "import glob\n",
    "import re\n",
    "import string\n",
    "import csv\n",
    "punc=string.punctuation"
   ]
  },
  {
   "cell_type": "code",
   "execution_count": 7,
   "metadata": {
    "collapsed": false
   },
   "outputs": [],
   "source": [
    "#define a function and pass the file name \n",
    "def functionZif(str):\n",
    "    path = 'inaugural/'+ str +'.txt'\n",
    "    #define a list named words to get the list of the words from .txt\n",
    "    #step1: get all clean words in a .txt\n",
    "    words = []\n",
    "    #define a list append the words withouth te punc.\n",
    "    clean_all_words = []\n",
    "    #open the file using glob and get the lines using .readlines()\n",
    "    for file in glob.glob(path):\n",
    "        infile = open(file, 'r')  \n",
    "        lines = infile.readlines()\n",
    "        for line in lines:  \n",
    "            #get the clean word list using .lower() and remove the punc\n",
    "            lower_line= line.lower()\n",
    "            if lower_line not in punc:\n",
    "                words = words + (lower_line.split())\n",
    "    #remove all the punc\n",
    "    clean_all_words = (' '.join(word.strip(punc) for word in words)).split()  \n",
    "    \n",
    "    #Step2: get the sorted word-frequency \n",
    "    wordFreq ={}\n",
    "    for word in clean_all_words:\n",
    "        if word not in wordFreq:\n",
    "            wordFreq[word] =1  #give the value 1 if it is the new key\n",
    "        else:\n",
    "            wordFreq[word] +=1 #if it is not the new key then accumulate the value\n",
    "    #sort the word-freq using lambda.\n",
    "    wordFreq = sorted(wordFreq.items(), key=lambda x: x[1], reverse=True)\n",
    "    \n",
    "    #step3: get the three cololum of lists contains rank, word, frequency.\n",
    "    wordList=[]\n",
    "    freqList=[]\n",
    "    rankList=[]\n",
    "    \n",
    "    for k, v in wordFreq:\n",
    "        wordList.append(k)\n",
    "        freqList.append(v)    \n",
    "    #define the rank list\n",
    "    def f(n):\n",
    "        return list(range(1, n+1))\n",
    "    \n",
    "    rankList=f(len(wordFreq))\n",
    "#     rankList.insert(0,'rank')\n",
    "#     wordList.insert(0,'word')\n",
    "#     freqList.insert(0,'freq')\n",
    "    \n",
    "    #open a filw for writing.\n",
    "    csv_out = open ('zif/'+ 'zif-' + str+'.csv','w')\n",
    "    #create the csv writer object.\n",
    "    mywriter = csv.writer(csv_out)\n",
    "    #add the column title for each list\n",
    "    mywriter.writerow(['rank', 'word', 'freq'])\n",
    "     #writerow - one row of data at a time\n",
    "    for row in zip(rankList,wordList,freqList):      \n",
    "        mywriter.writerow(row)\n",
    "    #close the file\n",
    "    csv_out.close()\n",
    "\n",
    "functionZif('1789-Washington')\n",
    "functionZif('1797-Adams')\n"
   ]
  },
  {
   "cell_type": "code",
   "execution_count": 156,
   "metadata": {
    "collapsed": false,
    "scrolled": true
   },
   "outputs": [
    {
     "data": {
      "text/plain": [
       "1430"
      ]
     },
     "execution_count": 156,
     "metadata": {},
     "output_type": "execute_result"
    }
   ],
   "source": [
    "#example: get the clean words\n",
    "# path = '/Users/wentingsu/nltk_data/corpora/inaugural/1789-Washington.txt'\n",
    "# #define a list named words to get the list of the words from .txt\n",
    "# words = []\n",
    "# clean_words = []\n",
    "# for file in glob.glob(path):\n",
    "#     infile = open(file, 'r')  \n",
    "#     lines = infile.readlines()\n",
    "#     for line in lines:       \n",
    "#         lower_line= line.lower()\n",
    "#         if lower_line not in punc:\n",
    "#             words = words + (lower_line.split())\n",
    "# clean_words = (' '.join(word.strip(punc) for word in words)).split()\n",
    "# len(clean_words)"
   ]
  },
  {
   "cell_type": "code",
   "execution_count": null,
   "metadata": {
    "collapsed": true
   },
   "outputs": [],
   "source": [
    "#example: to get sort word -freq\n",
    "# wordFreq ={}\n",
    "# for word in clean_words:\n",
    "#     if word not in wordFreq:\n",
    "#         wordFreq[word] =1  #give the value 1 if it is the new key\n",
    "#     else:\n",
    "#         wordFreq[word] +=1 #if it is not the new key then accumulate the value\n",
    "# wordFreq = sorted(wordFreq.items(), key=lambda x: x[1], reverse=True)\n",
    "\n",
    "# for k, v in wordFreq[:20]:\n",
    "#     print(k, v)"
   ]
  },
  {
   "cell_type": "markdown",
   "metadata": {},
   "source": [
    "# Question 1 continue \n",
    "1. (Optional) Use ‘matplotlib’ to generate a log-log figure in your code.  Before Submission Please Check:\n",
    "2. Do I have Markdown TITLE at very beginning?\n",
    "3. Do I use the required method to open and read files?\n",
    "4. Do I use 'def' and ‘lambda’ in my code?\n",
    "5. Do I write your code in small blocks instead of in one big block?  Do I have proper outputs or comments to show your progress?\n",
    "6. Do I add TITLE in your CSV file? Is the data well sorted?\n",
    "7. Do I create the figure with right form(log-log) in your csv file?\n",
    "8. Do I give the conclusion at the end of your code?\n",
    "9. ALL DONE? Submit your .ipynb file and your CSV file. DO NOT ZIP!"
   ]
  },
  {
   "cell_type": "code",
   "execution_count": 3,
   "metadata": {
    "collapsed": false
   },
   "outputs": [],
   "source": [
    "#import matplotlib. and pandas\n",
    "import matplotlib.pyplot as plt\n",
    "import pandas as pd"
   ]
  },
  {
   "cell_type": "code",
   "execution_count": 4,
   "metadata": {
    "collapsed": false
   },
   "outputs": [],
   "source": [
    "#use a simple statement to load the surveys data.\n",
    "df = pd.read_csv('zif/zif-1789-Washington.csv', index_col='rank')\n",
    "#there's a column in surveys.csv named \"plot\" which would make an excellent value to plot.\n",
    "plot_data = df['freq']"
   ]
  },
  {
   "cell_type": "code",
   "execution_count": 7,
   "metadata": {
    "collapsed": false
   },
   "outputs": [
    {
     "data": {
      "image/png": "[encoded data removed]",
      "text/plain": [
       "<matplotlib.figure.Figure at 0x1129d64a8>"
      ]
     },
     "metadata": {},
     "output_type": "display_data"
    }
   ],
   "source": [
    "#an array of plot data indexed by the rank value. Let's plot it and give it a label.\n",
    "plt.plot(plot_data, label='rank-freq')\n",
    "#give the x-axis name\n",
    "plt.xlabel('Rank')\n",
    "#give the y-axis name\n",
    "plt.ylabel('Word Frequency')\n",
    "#set a title\n",
    "plt.title('The Word-Freq Figure')\n",
    "plt.show()\n",
    "# plt.savefig('zif/word-freq.png')"
   ]
  },
  {
   "cell_type": "code",
   "execution_count": 8,
   "metadata": {
    "collapsed": false
   },
   "outputs": [
    {
     "data": {
      "image/png": "[encoded data removed]",
      "text/plain": [
       "<matplotlib.figure.Figure at 0x112808a90>"
      ]
     },
     "metadata": {},
     "output_type": "display_data"
    }
   ],
   "source": [
    "plt.loglog(plot_data,'gx', label='loglog fugure')\n",
    "\n",
    "plt.xlabel('log(Rank)')\n",
    "plt.ylabel('log(Word Frequency)')\n",
    "plt.title('The Loglog(Word-Freq)Figure')\n",
    "plt.show()\n",
    "# plt.savefig('zif/loglog-word-freq.png')"
   ]
  },
  {
   "cell_type": "markdown",
   "metadata": {},
   "source": [
    "### Conclusion: Zipf’s Law works in Natural Language. "
   ]
  }
 ],
 "metadata": {
  "anaconda-cloud": {},
  "kernelspec": {
   "display_name": "Python [conda root]",
   "language": "python",
   "name": "conda-root-py"
  },
  "language_info": {
   "codemirror_mode": {
    "name": "ipython",
    "version": 3
   },
   "file_extension": ".py",
   "mimetype": "text/x-python",
   "name": "python",
   "nbconvert_exporter": "python",
   "pygments_lexer": "ipython3",
   "version": "3.5.2"
  }
 },
 "nbformat": 4,
 "nbformat_minor": 1
}
