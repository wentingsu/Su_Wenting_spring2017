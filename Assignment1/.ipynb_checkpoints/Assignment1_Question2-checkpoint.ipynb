{
 "cells": [
  {
   "cell_type": "markdown",
   "metadata": {},
   "source": [
    "# Question 2\n",
    "\n",
    "1. Under package Gutenberg get content from file 'melville-moby_dick.txt.' (HINT: Words? Raw?)\n",
    "\n",
    "2. Find out frequency of 26 characters. (Turn uppercase into lowercase and count as one character)\n",
    "\n",
    "3. List all 26 characters in order base on their frequency. (From most frequent to least frequent) Try NOT to use FreqDist module.\n"
   ]
  },
  {
   "cell_type": "code",
   "execution_count": 1,
   "metadata": {
    "collapsed": true
   },
   "outputs": [],
   "source": [
    "# from nltk.corpus import gutenberg\n",
    "from nltk.corpus import gutenberg "
   ]
  },
  {
   "cell_type": "code",
   "execution_count": 2,
   "metadata": {
    "collapsed": false,
    "scrolled": true
   },
   "outputs": [
    {
     "name": "stdout",
     "output_type": "stream",
     "text": [
      "[Moby Dick by Herman Melville \n"
     ]
    }
   ],
   "source": [
    "# get content from file 'melville-moby_dick.txt.' by using raw\n",
    "raw_melville = gutenberg.raw('melville-moby_dick.txt')\n",
    "print(raw_melville[:30])"
   ]
  },
  {
   "cell_type": "code",
   "execution_count": 16,
   "metadata": {
    "collapsed": false
   },
   "outputs": [
    {
     "name": "stdout",
     "output_type": "stream",
     "text": [
      "[moby dick by herman melville \n"
     ]
    }
   ],
   "source": [
    "# turn uppercase into lowercase\n",
    "lower_melville = raw_melville.lower()\n",
    "print(lower_melville[:30])"
   ]
  },
  {
   "cell_type": "code",
   "execution_count": 17,
   "metadata": {
    "collapsed": false
   },
   "outputs": [],
   "source": [
    "import re"
   ]
  },
  {
   "cell_type": "code",
   "execution_count": 18,
   "metadata": {
    "collapsed": false
   },
   "outputs": [
    {
     "name": "stdout",
     "output_type": "stream",
     "text": [
      "mobydickbyhermanmelvilleetymologysuppliedbyalateconsumptiveushertoagrammarschool\n"
     ]
    }
   ],
   "source": [
    "#remove all the punctuations, numbers, and empty by using regex\n",
    "clean_melville = re.sub(\"[^a-zA-Z]\",'',lower_melville)\n",
    "print(clean_melville[:80])"
   ]
  },
  {
   "cell_type": "code",
   "execution_count": 19,
   "metadata": {
    "collapsed": false,
    "scrolled": true
   },
   "outputs": [
    {
     "name": "stdout",
     "output_type": "stream",
     "text": [
      "e 117092\n",
      "t 87996\n",
      "a 77916\n",
      "o 69326\n",
      "n 65617\n",
      "i 65434\n",
      "s 64231\n",
      "h 62896\n",
      "r 52134\n",
      "l 42793\n",
      "d 38219\n",
      "u 26697\n",
      "m 23277\n",
      "c 22507\n",
      "w 22222\n",
      "f 20833\n",
      "g 20820\n",
      "p 17255\n",
      "b 16877\n",
      "y 16872\n",
      "v 8598\n",
      "k 8059\n",
      "q 1556\n",
      "j 1082\n",
      "x 1030\n",
      "z 632\n"
     ]
    }
   ],
   "source": [
    "#define a new dict named charcount to store the key and value pair\n",
    "charcount = {}\n",
    "for char in clean_melville:\n",
    "    if char not in charcount:\n",
    "        charcount[char] = 1  #give the value 1 if it is the new key\n",
    "    else:\n",
    "        charcount[char] += 1 #if it is not the new key then accumulate the value\n",
    "        \n",
    "charcount = sorted(charcount.items(), key=lambda x: x[1], reverse=True)\n",
    "#sort the dict according to the value of each key.\n",
    "\n",
    "#print the sorted characters\n",
    "for k, v in charcount:\n",
    "    print(k, v)"
   ]
  },
  {
   "cell_type": "code",
   "execution_count": null,
   "metadata": {
    "collapsed": true
   },
   "outputs": [],
   "source": [
    "# clean_melville2 = clean_melville.rstrip()\n",
    "# print(clean_melville2[:80])"
   ]
  }
 ],
 "metadata": {
  "anaconda-cloud": {},
  "kernelspec": {
   "display_name": "Python [conda root]",
   "language": "python",
   "name": "conda-root-py"
  },
  "language_info": {
   "codemirror_mode": {
    "name": "ipython",
    "version": 3
   },
   "file_extension": ".py",
   "mimetype": "text/x-python",
   "name": "python",
   "nbconvert_exporter": "python",
   "pygments_lexer": "ipython3",
   "version": "3.5.2"
  }
 },
 "nbformat": 4,
 "nbformat_minor": 1
}
