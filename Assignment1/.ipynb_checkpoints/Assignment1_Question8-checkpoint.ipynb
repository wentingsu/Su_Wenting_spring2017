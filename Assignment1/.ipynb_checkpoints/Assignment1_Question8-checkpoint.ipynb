{
 "cells": [
  {
   "cell_type": "markdown",
   "metadata": {},
   "source": [
    "# Question 8\n",
    "\n",
    "1. Use nps_chat and wordlist corpus.\n",
    "2. If you find a word in nps_chat but not in wordlist, it is considered an unusual word. (e.g. Heyyyy, gr8, 4ever can be considered unusual words for this analysis)\n",
    "3. Find out how many unusual words people speak in chat (notice: usernames should not be counted)\n",
    "4. Bonus: What if I want to  count : ) , : ( all these emoticons in. (optional)\n"
   ]
  },
  {
   "cell_type": "code",
   "execution_count": 1,
   "metadata": {
    "collapsed": false
   },
   "outputs": [],
   "source": [
    "# from nltk.corpus import nps_chat and words\n",
    "from nltk.corpus import nps_chat as nps\n",
    "from nltk.corpus import words"
   ]
  },
  {
   "cell_type": "code",
   "execution_count": 2,
   "metadata": {
    "collapsed": false
   },
   "outputs": [],
   "source": [
    "# get the two word list of nps_chat and words\n",
    "chatWords= nps.words()\n",
    "wordlist = words.words() "
   ]
  },
  {
   "cell_type": "code",
   "execution_count": 3,
   "metadata": {
    "collapsed": false
   },
   "outputs": [],
   "source": [
    "# import string and get all letters and numbers to clean the content\n",
    "import string\n",
    "AllChar = string.ascii_letters\n",
    "nums =string.digits\n",
    "punc=string.punctuation\n",
    "# print(AllChar)\n",
    "# print(nums)"
   ]
  },
  {
   "cell_type": "code",
   "execution_count": 76,
   "metadata": {
    "collapsed": false
   },
   "outputs": [],
   "source": [
    "# unusualWords =[]\n",
    "# for word in chatWords:\n",
    "#     if word not in wordlist:\n",
    "#         unusualWords.append(word)\n",
    "# len(unusualWords)"
   ]
  },
  {
   "cell_type": "code",
   "execution_count": 4,
   "metadata": {
    "collapsed": false
   },
   "outputs": [
    {
     "data": {
      "text/plain": [
       "3450"
      ]
     },
     "execution_count": 4,
     "metadata": {},
     "output_type": "execute_result"
    }
   ],
   "source": [
    "#If you find a word in nps_chat but not in wordlist, it is considered an unusual word.\n",
    "unusualWords =[]\n",
    "for word in chatWords:\n",
    "    if word not in wordlist:#find the words in nps_chat but not in wordlist\n",
    "        if word.startswith('U') == 0:#remove the user count\n",
    "            unusualWords.append(word)        \n",
    "uniqu_unusual = set(unusualWords)\n",
    "len(uniqu_unusual)"
   ]
  },
  {
   "cell_type": "code",
   "execution_count": 5,
   "metadata": {
    "collapsed": false
   },
   "outputs": [
    {
     "name": "stdout",
     "output_type": "stream",
     "text": [
      "the number of unusual word is: 3450\n"
     ]
    }
   ],
   "source": [
    "uniqu = set(unusualWords)\n",
    "print('the number of unusual word is:', len(uniqu))"
   ]
  },
  {
   "cell_type": "code",
   "execution_count": 6,
   "metadata": {
    "collapsed": false
   },
   "outputs": [
    {
     "data": {
      "text/plain": [
       "3030"
      ]
     },
     "execution_count": 6,
     "metadata": {},
     "output_type": "execute_result"
    }
   ],
   "source": [
    "#Bonus: What if I want to count : ) , : ( all these emoticons in. (optional)\n",
    "\n",
    "#step1: to remove the words startswith or endwith char. \n",
    "#some emotions contain the letters so not use find method\n",
    "withletters=[]\n",
    "for char in AllChar: # for char in AllChar:\n",
    "    for word in uniqu: \n",
    "        if word.endswith(char)==1 or word.startswith(char)==1:\n",
    "#         if word.find(char)!= 1:\n",
    "            withletters.append(word)\n",
    "unique_withletters = set(withletters)  \n",
    "len(unique_withletters)"
   ]
  },
  {
   "cell_type": "code",
   "execution_count": 7,
   "metadata": {
    "collapsed": false
   },
   "outputs": [],
   "source": [
    "unique_withletters = set(withletters)  "
   ]
  },
  {
   "cell_type": "code",
   "execution_count": 39,
   "metadata": {
    "collapsed": false
   },
   "outputs": [
    {
     "name": "stdout",
     "output_type": "stream",
     "text": [
      "the number of emotion is around: 167\n"
     ]
    }
   ],
   "source": [
    "#step2: remove the nummbers\n",
    "emotion =[]\n",
    "for one in uniqu:\n",
    "    if one not in unique_withletters:\n",
    "         if one.isdigit() == 0:\n",
    "            emotion.append(one)\n",
    "emoBeforeNum = set(emotion)     \n",
    "# print(len(emoBeforeNum))\n",
    "\n",
    "#get the list that starts with number like '70%', '9:10';\n",
    "withNum =[]\n",
    "for num in nums:\n",
    "    for one in emotion:\n",
    "        if one.startswith(num) == 1:\n",
    "            withNum.append(one)\n",
    "uniNum = set(withNum)\n",
    "# len(uniNum)\n",
    "\n",
    "finalemo=[]\n",
    "for each in emoBeforeNum:# clean the items that contain numbers.\n",
    "    if each not in uniNum and each.endswith('>')==0 and each.startswith('<')==0:\n",
    "    # remove the item like '<empty>'\n",
    "        finalemo.append(each)\n",
    "\n",
    "finalemotion=[]       \n",
    "for one in finalemo:\n",
    "    if one.startswith('((((((((') == 0: #clean the list\n",
    "        if one.endswith('))))')==0:#clean the list\n",
    "            if one.startswith('[[[[') == 0:#clean the list\n",
    "                 if one.startswith(']]]]') == 0:#clean the list\n",
    "                        if one.endswith('*')==0 and one.startswith('*')==0:#clean the list\n",
    "                            if one.endswith(':')==0 and one.startswith(':')==0:#clean the list\n",
    "                                finalemotion.append(one)\n",
    "\n",
    "# print(len(finalemo))\n",
    "print('the number of emotion is around:', len(finalemotion))\n",
    "# print((finalemotion))"
   ]
  },
  {
   "cell_type": "code",
   "execution_count": 22,
   "metadata": {
    "collapsed": false
   },
   "outputs": [
    {
     "name": "stdout",
     "output_type": "stream",
     "text": [
      "{'2:55', '1016.', '64.8', '70%', '9:10', '05.', '4.20', '85%', '56.', '98.5', '2.3', '4:03', '14-16', '43.', '39.3', '1.98', '59%', '45.5', '93%', '147.7', '10:49', '30.', '1.99', '30.00.', '6:38', '102.6', '47.', '16.', '121.7', '20.', '29.88.', '55.', '73%', '1012.', '55%', '06.', '68%', '6:41', '3:45', '100%', '6:53', '6:51', '7:45', '65%', '9.53', '76%', '3~<-..4@.', '75%', '98.6', '46.', '12%'}\n"
     ]
    }
   ],
   "source": [
    "# #remove the item start with number\n",
    "# newfinal =[]\n",
    "# for num in nums:\n",
    "#     for one in final:\n",
    "#         if one.startswith(num) == 1:\n",
    "#             newfinal.append(one)\n",
    "# print(set(newfinal)) "
   ]
  }
 ],
 "metadata": {
  "anaconda-cloud": {},
  "kernelspec": {
   "display_name": "Python [conda root]",
   "language": "python",
   "name": "conda-root-py"
  },
  "language_info": {
   "codemirror_mode": {
    "name": "ipython",
    "version": 3
   },
   "file_extension": ".py",
   "mimetype": "text/x-python",
   "name": "python",
   "nbconvert_exporter": "python",
   "pygments_lexer": "ipython3",
   "version": "3.5.2"
  }
 },
 "nbformat": 4,
 "nbformat_minor": 1
}
