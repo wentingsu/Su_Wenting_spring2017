{
 "cells": [
  {
   "cell_type": "markdown",
   "metadata": {},
   "source": [
    "# Question 4\n",
    "\n",
    "1. Under package nps_chat, see what files are in it.\n",
    "2. Find 'user121' and see how many posts he posted in all.\n",
    "3. Find out how many unique user in each age range group. (20s, 30s,...)(Hint: files' name)"
   ]
  },
  {
   "cell_type": "code",
   "execution_count": 1,
   "metadata": {
    "collapsed": true
   },
   "outputs": [],
   "source": [
    "# from nltk.corpus import nps_chat\n",
    "from nltk.corpus import nps_chat as nps"
   ]
  },
  {
   "cell_type": "code",
   "execution_count": 3,
   "metadata": {
    "collapsed": false,
    "scrolled": true
   },
   "outputs": [
    {
     "data": {
      "text/plain": [
       "['10-19-20s_706posts.xml',\n",
       " '10-19-30s_705posts.xml',\n",
       " '10-19-40s_686posts.xml',\n",
       " '10-19-adults_706posts.xml',\n",
       " '10-24-40s_706posts.xml',\n",
       " '10-26-teens_706posts.xml',\n",
       " '11-06-adults_706posts.xml',\n",
       " '11-08-20s_705posts.xml',\n",
       " '11-08-40s_706posts.xml',\n",
       " '11-08-adults_705posts.xml',\n",
       " '11-08-teens_706posts.xml',\n",
       " '11-09-20s_706posts.xml',\n",
       " '11-09-40s_706posts.xml',\n",
       " '11-09-adults_706posts.xml',\n",
       " '11-09-teens_706posts.xml']"
      ]
     },
     "execution_count": 3,
     "metadata": {},
     "output_type": "execute_result"
    }
   ],
   "source": [
    "#Under package nps_chat, see what files are in it.\n",
    "nps.fileids()"
   ]
  },
  {
   "cell_type": "code",
   "execution_count": 8,
   "metadata": {
    "collapsed": false
   },
   "outputs": [
    {
     "name": "stdout",
     "output_type": "stream",
     "text": [
      "['<!--', 'edited', 'with', 'XMLSpy', 'v2007', 'sp1', '(http://www.altova.com)', 'by', 'Eric', 'Forsyth', '(Naval', 'Postgraduate', 'School)', '--', '<Session', 'xmlns:xsi=\"http://www.w3.org/2001/XMLSchema-instance\"', 'xsi:noNamespaceSchemaLocation=\"postClassPOSTagset.xsd\"', '<Posts', '<Post', 'class=\"Statement\"', 'user=\"10-19-20sUser7\"', 'now', 'im', 'left', 'with', 'this', 'gay', 'name<terminals', '<t', 'pos=\"RB\"']\n"
     ]
    }
   ],
   "source": [
    "#step: clean the data: \n",
    "#1.get all content from all .xmls\n",
    "all_raw = nps.raw(nps.fileids())\n",
    "#2. replace '>' with '' to splite the user part.\n",
    "new_all_raw = all_raw.replace(\">\", \" \")\n",
    "#3. use split method returns a list of all the words in the string\n",
    "linePost= new_all_raw.split()\n",
    "print(linePost[:30])"
   ]
  },
  {
   "cell_type": "code",
   "execution_count": 30,
   "metadata": {
    "collapsed": false
   },
   "outputs": [
    {
     "name": "stdout",
     "output_type": "stream",
     "text": [
      "the number of User121 is 132\n",
      "the number of posts is  132\n"
     ]
    }
   ],
   "source": [
    "#step: last step we can find all the user in format 'user=\"10-19-20sUser7\"'\n",
    "num121 = 0\n",
    "for user in linePost:\n",
    "    if user.endswith('User121\"') == 1:\n",
    "        #find all user121 by using endswith method \n",
    "        num121 +=1\n",
    "print('the number of User121 is', num121)\n",
    "print('the number of posts is ', num121)# the number of the user is the same as the posts"
   ]
  },
  {
   "cell_type": "code",
   "execution_count": 31,
   "metadata": {
    "collapsed": false
   },
   "outputs": [
    {
     "name": "stdout",
     "output_type": "stream",
     "text": [
      "{'teens', '40s', '20s', '30s', 'adults'}\n"
     ]
    }
   ],
   "source": [
    "#step: to find how many unique age group \n",
    "all_xml = nps.fileids()\n",
    "clean_xmls =[]\n",
    "for xml in all_xml:\n",
    "    clean_xml = xml[6:-13] # get rid of the left and right side to get the name of group\n",
    "    clean_xmls.append(clean_xml)\n",
    "uniqu_xml = set(clean_xmls)\n",
    "print(uniqu_xml)"
   ]
  },
  {
   "cell_type": "code",
   "execution_count": 34,
   "metadata": {
    "collapsed": false
   },
   "outputs": [],
   "source": [
    "#find all the unique user from all xml\n",
    "num3=0\n",
    "AllusrList=[]\n",
    "for line in linePost:\n",
    "    if line.startswith('user=\"') != 0:#use the method startswith to get the all users \n",
    "        AllusrList.append(line)\n",
    "        num3 += 1\n",
    "# print(AllusrList)"
   ]
  },
  {
   "cell_type": "code",
   "execution_count": 36,
   "metadata": {
    "collapsed": false
   },
   "outputs": [
    {
     "name": "stdout",
     "output_type": "stream",
     "text": [
      "the number in 20s is:  162\n",
      "the number in 30s is:  44\n",
      "the number in 40s is:  80\n",
      "the number in teens is:  206\n",
      "the number in adults is:  138\n"
     ]
    }
   ],
   "source": [
    "#define a function to calculate the number of unique user in different group\n",
    "def UserFunction(str):\n",
    "    count_user =0\n",
    "    for user in uniqu_users:\n",
    "        if user.startswith(str) ==1: # use the method startswith to get the number of str function passed \n",
    "            count_user +=1 \n",
    "    print ('the number in', str, 'is: ', count_user)\n",
    "\n",
    "UserFunction('20s'),\n",
    "UserFunction('30s'),\n",
    "UserFunction('40s'),\n",
    "UserFunction('teens'),\n",
    "UserFunction('adults')"
   ]
  },
  {
   "cell_type": "code",
   "execution_count": 22,
   "metadata": {
    "collapsed": false
   },
   "outputs": [],
   "source": [
    "# posts = nps.xml_posts() #get all posts content from all nps files.\n",
    "# # print(posts[:20])"
   ]
  }
 ],
 "metadata": {
  "anaconda-cloud": {},
  "kernelspec": {
   "display_name": "Python [conda root]",
   "language": "python",
   "name": "conda-root-py"
  },
  "language_info": {
   "codemirror_mode": {
    "name": "ipython",
    "version": 3
   },
   "file_extension": ".py",
   "mimetype": "text/x-python",
   "name": "python",
   "nbconvert_exporter": "python",
   "pygments_lexer": "ipython3",
   "version": "3.5.2"
  }
 },
 "nbformat": 4,
 "nbformat_minor": 1
}
