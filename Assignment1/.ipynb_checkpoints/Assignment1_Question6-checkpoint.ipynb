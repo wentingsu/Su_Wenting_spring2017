{
 "cells": [
  {
   "cell_type": "markdown",
   "metadata": {},
   "source": [
    "# Question 6\n",
    "\n",
    "1. Under Inaugural Address package\n",
    "2. For every president, find out how many unique words they used in speech. \n",
    "3. We will just assume that President Bush means one person (technically it is incorrect but we will ignore it)"
   ]
  },
  {
   "cell_type": "code",
   "execution_count": 26,
   "metadata": {
    "collapsed": false
   },
   "outputs": [],
   "source": [
    "# from nltk.corpus import inaugural\n",
    "from nltk.corpus import inaugural"
   ]
  },
  {
   "cell_type": "code",
   "execution_count": 27,
   "metadata": {
    "collapsed": true
   },
   "outputs": [],
   "source": [
    "# import string to get punctuation list\n",
    "import string\n",
    "punc=string.punctuation"
   ]
  },
  {
   "cell_type": "code",
   "execution_count": 33,
   "metadata": {
    "collapsed": false
   },
   "outputs": [
    {
     "name": "stdout",
     "output_type": "stream",
     "text": [
      "{'Obama', 'Jackson', 'Eisenhower', 'Reagan', 'Bush', 'Johnson', 'Taft', 'Buchanan', 'Washington', 'Coolidge', 'Jefferson', 'VanBuren', 'Carter', 'Roosevelt', 'McKinley', 'Nixon', 'Harrison', 'Madison', 'Pierce', 'Taylor', 'Harding', 'Polk', 'Monroe', 'Adams', 'Cleveland', 'Wilson', 'Hoover', 'Grant', 'Truman', 'Lincoln', 'Clinton', 'Garfield', 'Hayes', 'Kennedy'}\n"
     ]
    }
   ],
   "source": [
    "#step1: get unique president list\n",
    "List=inaugural.fileids()\n",
    "clean_names = []\n",
    "uniqu_names =[]\n",
    "for name in List:\n",
    "    clean_name = name[5:-4]\n",
    "    clean_names.append(clean_name)\n",
    "uniqu_names=set(clean_names)\n",
    "# print (uniqu_name)\n",
    "print (uniqu_names)"
   ]
  },
  {
   "cell_type": "code",
   "execution_count": 34,
   "metadata": {
    "collapsed": false
   },
   "outputs": [
    {
     "name": "stdout",
     "output_type": "stream",
     "text": [
      "Obama 892\n",
      "Jackson 810\n",
      "Eisenhower 1175\n",
      "Reagan 1359\n",
      "Bush 1479\n",
      "Johnson 528\n",
      "Taft 1375\n",
      "Buchanan 893\n",
      "Washington 628\n",
      "Coolidge 1159\n",
      "Jefferson 1208\n",
      "VanBuren 1254\n",
      "Carter 492\n",
      "Roosevelt 1601\n",
      "McKinley 1594\n",
      "Nixon 981\n",
      "Harrison 2542\n",
      "Madison 865\n",
      "Pierce 1116\n",
      "Taylor 483\n",
      "Harding 1119\n",
      "Polk 1259\n",
      "Monroe 1679\n",
      "Adams 1441\n",
      "Cleveland 1168\n",
      "Wilson 950\n",
      "Hoover 993\n",
      "Grant 813\n",
      "Truman 740\n",
      "Lincoln 1176\n",
      "Clinton 1058\n",
      "Garfield 968\n",
      "Hayes 800\n",
      "Kennedy 535\n"
     ]
    }
   ],
   "source": [
    "lastList = {}\n",
    "for one in uniqu_names:\n",
    "#     stri = one\n",
    "#     def indexFunc(one):\n",
    "    indices = [i for i, x in enumerate(cleanAll) if x == one]\n",
    "#   the second step : to get all the indices of each president\n",
    "    fileid=[]\n",
    "    for i in indices:\n",
    "        f= inaugural.fileids()[i]\n",
    "        fileid.append(f)\n",
    "#   the thrid step: pass the index to find the all .txts of each president\n",
    "    presiWords=[]\n",
    "    presiWords = inaugural.words(fileids=fileid)\n",
    "#   the forth step: clean each txt and get the number of unique words for each president   \n",
    "    cleanWordList=[]\n",
    "    for word in presiWords:\n",
    "        lower_word = word.lower()\n",
    "        if lower_word.isdigit() == 0:\n",
    "            if lower_word not in punc:\n",
    "                cleanWordList.append(lower_word)\n",
    "    uniqu_word=[]\n",
    "    uniqu_word = set(cleanWordList) #get the count of unique words\n",
    "    lastList[one] = len(uniqu_word)\n",
    "\n",
    "    print(one, lastList[one])\n",
    "# print(lastList)"
   ]
  },
  {
   "cell_type": "code",
   "execution_count": 19,
   "metadata": {
    "collapsed": false
   },
   "outputs": [],
   "source": [
    "# #example to get the indeces\n",
    "# def indexFunc(str):\n",
    "#     indices = [i for i, x in enumerate(cleanAll) if x == str]\n",
    "#     return indices\n",
    "    \n",
    "# indexFunc('Lincoln')"
   ]
  },
  {
   "cell_type": "code",
   "execution_count": 21,
   "metadata": {
    "collapsed": false
   },
   "outputs": [],
   "source": [
    "# # example to pass the fileids \n",
    "# f3 = inaugural.fileids()[0]\n",
    "# f4 = inaugural.fileids()[1]\n",
    "\n",
    "# presiWords2 = inaugural.words(fileids=[f3,f4])\n",
    "\n",
    "# def function1(wordlist):\n",
    "#     cleanWordList=[]\n",
    "#     for word in wordlist:\n",
    "#         lower_word = word.lower()\n",
    "#         if lower_word.isdigit() == 0:\n",
    "#             if lower_word not in punc:\n",
    "#                 cleanWordList.append(lower_word)\n",
    "#     uniqu_word = set(cleanWordList)\n",
    "#     return len(uniqu_word)\n",
    "\n",
    "# function1(presiWords2)"
   ]
  }
 ],
 "metadata": {
  "anaconda-cloud": {},
  "kernelspec": {
   "display_name": "Python [conda root]",
   "language": "python",
   "name": "conda-root-py"
  },
  "language_info": {
   "codemirror_mode": {
    "name": "ipython",
    "version": 3
   },
   "file_extension": ".py",
   "mimetype": "text/x-python",
   "name": "python",
   "nbconvert_exporter": "python",
   "pygments_lexer": "ipython3",
   "version": "3.5.2"
  }
 },
 "nbformat": 4,
 "nbformat_minor": 1
}
