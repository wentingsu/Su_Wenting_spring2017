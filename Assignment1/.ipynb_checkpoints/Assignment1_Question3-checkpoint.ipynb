{
 "cells": [
  {
   "cell_type": "markdown",
   "metadata": {},
   "source": [
    "# Question 3\n",
    "\n",
    "1. Under package Webtext, see what files are in it.\n",
    "2. Get content in file 'pirates.txt'.\n",
    "3. According to the number of lines for Jack Sparrow and Will Turner, find out who is the real leading man in this movie."
   ]
  },
  {
   "cell_type": "code",
   "execution_count": 19,
   "metadata": {
    "collapsed": true
   },
   "outputs": [],
   "source": [
    "# from nltk.corpus import webtext\n",
    "from nltk.corpus import webtext"
   ]
  },
  {
   "cell_type": "code",
   "execution_count": 26,
   "metadata": {
    "collapsed": false
   },
   "outputs": [
    {
     "data": {
      "text/plain": [
       "['firefox.txt',\n",
       " 'grail.txt',\n",
       " 'overheard.txt',\n",
       " 'pirates.txt',\n",
       " 'singles.txt',\n",
       " 'wine.txt']"
      ]
     },
     "execution_count": 26,
     "metadata": {},
     "output_type": "execute_result"
    }
   ],
   "source": [
    "#Under package Webtext, see what files are in it.\n",
    "webtext.fileids()"
   ]
  },
  {
   "cell_type": "code",
   "execution_count": 27,
   "metadata": {
    "collapsed": false
   },
   "outputs": [
    {
     "name": "stdout",
     "output_type": "stream",
     "text": [
      "PIRATES OF THE CARRI\n"
     ]
    }
   ],
   "source": [
    "#2. Get content in file 'pirates.txt'.\n",
    "raw_txt = webtext.raw('pirates.txt')\n",
    "print(raw_txt[:20])"
   ]
  },
  {
   "cell_type": "code",
   "execution_count": 28,
   "metadata": {
    "collapsed": false
   },
   "outputs": [
    {
     "name": "stdout",
     "output_type": "stream",
     "text": [
      "the real leading man is Jack Sparrow\n"
     ]
    }
   ],
   "source": [
    "#According to the number of lines for Jack Sparrow and Will Turner, \n",
    "#find out who is the real leading man in this movie.\n",
    "\n",
    "#use method splitlines() to returns a list with all the lines in string\n",
    "lineLiest= raw_txt.splitlines()\n",
    "\n",
    "num1=0 # define a int named num1\n",
    "num2=0 # define a int named num2\n",
    "\n",
    "for line in lineLiest:\n",
    "    def countF(str): # define a function to get the count of a string\n",
    "        return line.count(str)\n",
    "    if countF('Jack Sparrow') != 0:\n",
    "        num1 += 1 # count the number of 'Jack Sparrow'\n",
    "    if countF('Will Turner') != 0:\n",
    "        num2 += 1 # count the number of 'Will Turner'\n",
    "    \n",
    "    #define the function to print the outcomes by comparing the count of two strings\n",
    "    if num1 > num2: \n",
    "        def leadingman():\n",
    "            print('the real leading man is Jack Sparrow')\n",
    "    else:\n",
    "        def leadingman():\n",
    "            print('the real leading man is Will Turner')\n",
    "\n",
    "leadingman()"
   ]
  },
  {
   "cell_type": "code",
   "execution_count": 25,
   "metadata": {
    "collapsed": false
   },
   "outputs": [
    {
     "name": "stdout",
     "output_type": "stream",
     "text": [
      "28\n"
     ]
    }
   ],
   "source": [
    "# # ps: example to get the count of one string \n",
    "# lineLiest= raw_txt.splitlines()\n",
    "# num1=0\n",
    "# for line in lineLiest:\n",
    "#     if line.count('Jack Sparrow') != 0:\n",
    "#         num1 += 1\n",
    "# print(num1)"
   ]
  }
 ],
 "metadata": {
  "anaconda-cloud": {},
  "kernelspec": {
   "display_name": "Python [conda root]",
   "language": "python",
   "name": "conda-root-py"
  },
  "language_info": {
   "codemirror_mode": {
    "name": "ipython",
    "version": 3
   },
   "file_extension": ".py",
   "mimetype": "text/x-python",
   "name": "python",
   "nbconvert_exporter": "python",
   "pygments_lexer": "ipython3",
   "version": "3.5.2"
  }
 },
 "nbformat": 4,
 "nbformat_minor": 1
}
