{
 "cells": [
  {
   "cell_type": "markdown",
   "metadata": {},
   "source": [
    "# Question 7\n",
    "\n",
    "#### 1. Use Name corpus, calculate the probability of a name being of a male or female base on the last character(s) of name.\n",
    "#### 2. Sample steps:\n",
    "    2.1. For char ‘a’:\n",
    "\ttotal_names = sum(names ending with ‘a’)\n",
    "\tmale_names = sum(male names ending with ‘a’)\n",
    "\tfemale_names = sum(female names ending with ‘a’)\n",
    "\tProbability of name being male = 100 * male_names / total_names\n",
    "    2.2. Do this for all characters. \n",
    "#### 3 Output must come with proper title (e.g. [a] male: 25%, female: 60%)\n"
   ]
  },
  {
   "cell_type": "code",
   "execution_count": 2,
   "metadata": {
    "collapsed": false
   },
   "outputs": [
    {
     "data": {
      "text/plain": [
       "['female.txt', 'male.txt']"
      ]
     },
     "execution_count": 2,
     "metadata": {},
     "output_type": "execute_result"
    }
   ],
   "source": [
    "# from nltk.corpus import names\n",
    "from nltk.corpus import names\n",
    "names.fileids()\n",
    "# names.words(names.fileids()[1:2])"
   ]
  },
  {
   "cell_type": "code",
   "execution_count": 3,
   "metadata": {
    "collapsed": false,
    "scrolled": true
   },
   "outputs": [
    {
     "name": "stdout",
     "output_type": "stream",
     "text": [
      "abcdefghijklmnopqrstuvwxyz\n"
     ]
    }
   ],
   "source": [
    "# import the string to get the lowercase characters\n",
    "import string\n",
    "AllChar = string.ascii_letters[:26]\n",
    "print(AllChar)"
   ]
  },
  {
   "cell_type": "code",
   "execution_count": 8,
   "metadata": {
    "collapsed": false,
    "scrolled": true
   },
   "outputs": [
    {
     "name": "stdout",
     "output_type": "stream",
     "text": [
      "[ a ] male 2%  female: 98%\n",
      "[ b ] male 70%  female: 30%\n",
      "[ c ] male 100%  female: 0%\n",
      "[ d ] male 85%  female: 15%\n",
      "[ e ] male 25%  female: 75%\n",
      "[ f ] male 93%  female: 7%\n",
      "[ g ] male 76%  female: 24%\n",
      "[ h ] male 47%  female: 53%\n",
      "[ i ] male 14%  female: 86%\n",
      "[ j ] male 75%  female: 25%\n",
      "[ k ] male 96%  female: 4%\n",
      "[ l ] male 51%  female: 49%\n",
      "[ m ] male 84%  female: 16%\n",
      "[ n ] male 55%  female: 45%\n",
      "[ o ] male 83%  female: 17%\n",
      "[ p ] male 90%  female: 10%\n",
      "[ q ] male 0%  female: 0%\n",
      "[ r ] male 80%  female: 20%\n",
      "[ s ] male 71%  female: 29%\n",
      "[ t ] male 71%  female: 29%\n",
      "[ u ] male 67%  female: 33%\n",
      "[ v ] male 89%  female: 11%\n",
      "[ w ] male 77%  female: 23%\n",
      "[ x ] male 50%  female: 50%\n",
      "[ y ] male 42%  female: 58%\n",
      "[ z ] male 73%  female: 27%\n"
     ]
    }
   ],
   "source": [
    "#get the name list of female and male\n",
    "total_female = names.words(names.fileids()[:1])\n",
    "total_male = names.words(names.fileids()[1:2])\n",
    "\n",
    "name_ends_f ={} #define the dict to store females name ends with each char\n",
    "name_ends_m ={} #define the dict to store males name ends with each char\n",
    "name_ends_total={} #define the dict to store total names ends with each char\n",
    "probability_f ={} #define the dict to store probability in female ends with each char\n",
    "probability_m ={}#define the dict to store probability in male ends with each char\n",
    "\n",
    "for char in AllChar:\n",
    "    name_female_ends=[]\n",
    "    for fname in total_female:\n",
    "        if fname.endswith(char)==1:\n",
    "            name_female_ends.append(fname)                     \n",
    "        else:\n",
    "            name_ends_f[char]=0\n",
    "    fCount=len(name_female_ends)\n",
    "    # get the count of each char in female name lists\n",
    "    \n",
    "    name_male_ends =[]\n",
    "    for mname in total_male:\n",
    "        if mname.endswith(char)==1:\n",
    "            name_male_ends.append(mname) \n",
    "        else:\n",
    "            name_ends_m[char]=0\n",
    "    mCount=len(name_male_ends)    \n",
    "    # get the count of each char in male name lists\n",
    "    \n",
    "    #get the total count of each char\n",
    "    totalCount = len(name_female_ends)+len(name_male_ends) \n",
    "    \n",
    "    name_ends_f[char]=fCount\n",
    "    name_ends_m[char]=mCount\n",
    "    name_ends_total[char]= totalCount\n",
    "    \n",
    "    if totalCount != 0:\n",
    "        probability_f[char] = 100*(fCount/totalCount)\n",
    "        probability_m[char] = 100*(mCount/totalCount)\n",
    "        \n",
    "    else:# to avoid the situation that divisor is zero\n",
    "        probability_f[char] = 0\n",
    "        probability_m[char] = 0\n",
    "    \n",
    "    #get the format results  \n",
    "    print('[',char,']', 'male', \"{0:.0f}%\".format(probability_m[char]),'','female:', \"{0:.0f}%\".format(probability_f[char]))\n",
    "\n",
    "\n",
    "# print(name_ends_f)\n",
    "# print(name_ends_m)\n",
    "# print(name_ends_total)\n",
    "# print(probability_f)\n"
   ]
  },
  {
   "cell_type": "code",
   "execution_count": 271,
   "metadata": {
    "collapsed": false
   },
   "outputs": [
    {
     "name": "stdout",
     "output_type": "stream",
     "text": [
      "18\n"
     ]
    }
   ],
   "source": [
    "# #example to get the count under one char\n",
    "# totals= names.words(names.fileids()[1:2])\n",
    "# total_ends = []\n",
    "\n",
    "# for name in totals:\n",
    "#     if name.endswith('p')==1:\n",
    "#         total_ends.append(name)\n",
    "# print(len(total_ends))\n"
   ]
  }
 ],
 "metadata": {
  "anaconda-cloud": {},
  "kernelspec": {
   "display_name": "Python [conda root]",
   "language": "python",
   "name": "conda-root-py"
  },
  "language_info": {
   "codemirror_mode": {
    "name": "ipython",
    "version": 3
   },
   "file_extension": ".py",
   "mimetype": "text/x-python",
   "name": "python",
   "nbconvert_exporter": "python",
   "pygments_lexer": "ipython3",
   "version": "3.5.2"
  }
 },
 "nbformat": 4,
 "nbformat_minor": 1
}
