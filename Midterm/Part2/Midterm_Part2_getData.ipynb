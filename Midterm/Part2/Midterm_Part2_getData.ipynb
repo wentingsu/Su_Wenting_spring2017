{
 "cells": [
  {
   "cell_type": "markdown",
   "metadata": {},
   "source": [
    "# Question2"
   ]
  },
  {
   "cell_type": "markdown",
   "metadata": {},
   "source": [
    "# Get data from Archive API"
   ]
  },
  {
   "cell_type": "code",
   "execution_count": 1,
   "metadata": {
    "collapsed": true
   },
   "outputs": [],
   "source": [
    "# importing the Requests module\n",
    "import requests\n",
    "import os\n",
    "import json\n",
    "#import inaugural\n",
    "from nltk.corpus import inaugural\n",
    "from nltk.corpus import gutenberg"
   ]
  },
  {
   "cell_type": "code",
   "execution_count": 3,
   "metadata": {
    "collapsed": true
   },
   "outputs": [],
   "source": [
    "nyt_key='03ca54f6496b44f68359d4cf2eb8565c'"
   ]
  },
  {
   "cell_type": "code",
   "execution_count": 66,
   "metadata": {
    "collapsed": false
   },
   "outputs": [
    {
     "name": "stdout",
     "output_type": "stream",
     "text": [
      "d375a0f9fc93413d8965965fc6bdefe9\n"
     ]
    }
   ],
   "source": [
    "#get the archive API Key\n",
    "nyt_key = os.getenv('auth_key')\n",
    "print(nyt_key)"
   ]
  },
  {
   "cell_type": "code",
   "execution_count": 2,
   "metadata": {
    "collapsed": true
   },
   "outputs": [],
   "source": [
    "#get a webpage\n",
    "r = requests.get('https://api.github.com/events')\n",
    "#Now, we have a Response object called r. We can get all the information we need from this object."
   ]
  },
  {
   "cell_type": "code",
   "execution_count": 78,
   "metadata": {
    "collapsed": false
   },
   "outputs": [],
   "source": [
    "#define a function to write the data to json file.\n",
    "def getData(year,month):\n",
    "    #get a webpage data \n",
    "    data = requests.get('http://api.nytimes.com/svc/archive/v1/'+ str(year) +'/'+ str(month) +'.json?api-key=' + nyt_key).json()\n",
    "    #give the path to create the folder\n",
    "    newpath_c = str(year)+'/'\n",
    "    if not os.path.exists(newpath_c):\n",
    "            os.makedirs(newpath_c) \n",
    "    #write the data to json file named their year-month\n",
    "    f=open(str(year)+'/'+ str(year)+'-'+ str(month)+'.json','w')\n",
    "    newData = json.dumps(data, sort_keys=True,indent=4)\n",
    "    f.write(newData)\n",
    "    f.close()"
   ]
  },
  {
   "cell_type": "code",
   "execution_count": 71,
   "metadata": {
    "collapsed": false
   },
   "outputs": [],
   "source": [
    "# getData(1851,8)"
   ]
  },
  {
   "cell_type": "code",
   "execution_count": 75,
   "metadata": {
    "collapsed": true
   },
   "outputs": [],
   "source": [
    "#define a function to get the list of the year.\n",
    "def f(n):\n",
    "        return list(range(1852, n+1))"
   ]
  },
  {
   "cell_type": "code",
   "execution_count": 79,
   "metadata": {
    "collapsed": false
   },
   "outputs": [],
   "source": [
    "#get the every month's data from 1851-1861\n",
    "for year in f(1861):\n",
    "    i=1\n",
    "    while i<=12:\n",
    "        getData(year,i)\n",
    "        i+=1"
   ]
  },
  {
   "cell_type": "code",
   "execution_count": 46,
   "metadata": {
    "collapsed": false
   },
   "outputs": [],
   "source": [
    "getData(2008,12)"
   ]
  },
  {
   "cell_type": "code",
   "execution_count": 42,
   "metadata": {
    "collapsed": true
   },
   "outputs": [],
   "source": [
    "def getData(year,month):\n",
    "    data = requests.get('http://api.nytimes.com/svc/archive/v1/'+ str(year) +'/'+ str(month) +'.json?api-key=' + nyt_archive_key).json()\n",
    "    f=open(str(year)+'-'+ str(month)+'.json','w')\n",
    "    newData = json.dumps(data, sort_keys=True, indent=4)\n",
    "    f.write(newData)\n",
    "    f.close()\n",
    "getData(2008,11)"
   ]
  },
  {
   "cell_type": "code",
   "execution_count": 7,
   "metadata": {
    "collapsed": true
   },
   "outputs": [],
   "source": [
    "i=6\n",
    "while i<=12:\n",
    "    getData(2011,i)\n",
    "    i+=1"
   ]
  },
  {
   "cell_type": "code",
   "execution_count": 37,
   "metadata": {
    "collapsed": true
   },
   "outputs": [],
   "source": [
    "i=1\n",
    "while i<=12:\n",
    "    getData(1999,i)\n",
    "    i+=1"
   ]
  },
  {
   "cell_type": "code",
   "execution_count": 47,
   "metadata": {
    "collapsed": true
   },
   "outputs": [],
   "source": [
    "i=1\n",
    "while i<=12:\n",
    "    getData(2009,i)\n",
    "    i+=1"
   ]
  },
  {
   "cell_type": "code",
   "execution_count": 39,
   "metadata": {
    "collapsed": true
   },
   "outputs": [],
   "source": []
  },
  {
   "cell_type": "code",
   "execution_count": 40,
   "metadata": {
    "collapsed": false
   },
   "outputs": [
    {
     "data": {
      "text/plain": [
       "[2000, 2001, 2002, 2003, 2004, 2005, 2006, 2007, 2008, 2009]"
      ]
     },
     "execution_count": 40,
     "metadata": {},
     "output_type": "execute_result"
    }
   ],
   "source": [
    "f(2009)"
   ]
  },
  {
   "cell_type": "code",
   "execution_count": 48,
   "metadata": {
    "collapsed": false
   },
   "outputs": [],
   "source": [
    "for year in f(2009):\n",
    "    i=1\n",
    "    while i<=12:\n",
    "        getData(year,i)\n",
    "        i+=1"
   ]
  },
  {
   "cell_type": "code",
   "execution_count": 6,
   "metadata": {
    "collapsed": false
   },
   "outputs": [
    {
     "data": {
      "text/plain": [
       "dict"
      ]
     },
     "execution_count": 6,
     "metadata": {},
     "output_type": "execute_result"
    }
   ],
   "source": [
    "data = r1.json()\n",
    "type(data)"
   ]
  },
  {
   "cell_type": "code",
   "execution_count": 8,
   "metadata": {
    "collapsed": false
   },
   "outputs": [],
   "source": [
    "f=open('result.json','w')\n",
    "newData = json.dumps(data, sort_keys=True, indent=4)\n",
    "f.write(newData)\n",
    "f.close()"
   ]
  },
  {
   "cell_type": "code",
   "execution_count": 23,
   "metadata": {
    "collapsed": true
   },
   "outputs": [],
   "source": [
    "r11 =requests.get('http://api.nytimes.com/svc/archive/v1/2010/11.json?api-key=d375a0f9fc93413d8965965fc6bdefe9')"
   ]
  },
  {
   "cell_type": "code",
   "execution_count": 24,
   "metadata": {
    "collapsed": true
   },
   "outputs": [],
   "source": [
    "r12 =requests.get('http://api.nytimes.com/svc/archive/v1/2010/12.json?api-key=d375a0f9fc93413d8965965fc6bdefe9')"
   ]
  },
  {
   "cell_type": "code",
   "execution_count": null,
   "metadata": {
    "collapsed": true
   },
   "outputs": [],
   "source": []
  },
  {
   "cell_type": "code",
   "execution_count": 3,
   "metadata": {
    "collapsed": true
   },
   "outputs": [],
   "source": [
    "#this is how you make an HTTP POST request:\n",
    "# payload = {'key1': 'value1', 'key2': 'value2'}\n",
    "r = requests.post('http://httpbin.org/post', data = {'key':'value'})"
   ]
  },
  {
   "cell_type": "code",
   "execution_count": null,
   "metadata": {
    "collapsed": true
   },
   "outputs": [],
   "source": [
    "r1 = requests.get('http://api.nytimes.com/svc/archive/v1/2010/1.json?api-key=d375a0f9fc93413d8965965fc6bdefe9')"
   ]
  },
  {
   "cell_type": "markdown",
   "metadata": {
    "collapsed": true
   },
   "source": [
    "# Get the data from Article Search API"
   ]
  },
  {
   "cell_type": "code",
   "execution_count": 4,
   "metadata": {
    "collapsed": false
   },
   "outputs": [
    {
     "name": "stdout",
     "output_type": "stream",
     "text": [
      "{'Eisenhower', 'Hoover', 'Reagan', 'Monroe', 'Washington', 'Hayes', 'Harrison', 'Wilson', 'Buchanan', 'Garfield', 'Jackson', 'Kennedy', 'Bush', 'Johnson', 'Adams', 'McKinley', 'Truman', 'Clinton', 'Pierce', 'Carter', 'Taft', 'Grant', 'Coolidge', 'Madison', 'Lincoln', 'Jefferson', 'Harding', 'Obama', 'Polk', 'Cleveland', 'VanBuren', 'Taylor', 'Roosevelt', 'Nixon'}\n"
     ]
    }
   ],
   "source": [
    "#step: get unique president list\n",
    "List=inaugural.fileids()\n",
    "clean_names = []\n",
    "uniqu_names =[]\n",
    "for name in List:\n",
    "    clean_name = name[5:-4]\n",
    "    clean_names.append(clean_name)\n",
    "uniqu_names=set(clean_names)\n",
    "# print (uniqu_name)\n",
    "print (uniqu_names)"
   ]
  },
  {
   "cell_type": "code",
   "execution_count": 9,
   "metadata": {
    "collapsed": false
   },
   "outputs": [],
   "source": [
    "#define a function to get the data\n",
    "def getArticleData(q):\n",
    "#     fl='&fl=snippet'\n",
    "    facet_field='&facet_field=source'\n",
    "    data=requests.get('https://api.nytimes.com/svc/search/v2/articlesearch.json?q='+ q + facet_field+ '&api-key='+nyt_archive_key).json()\n",
    "    f=open('president/'+ q +'.json','w')\n",
    "    newData = json.dumps(data, sort_keys=True, indent=4)\n",
    "    f.write(newData)\n",
    "    f.close()"
   ]
  },
  {
   "cell_type": "code",
   "execution_count": 41,
   "metadata": {
    "collapsed": true
   },
   "outputs": [],
   "source": [
    "getArticleData('Harrison')"
   ]
  },
  {
   "cell_type": "code",
   "execution_count": 6,
   "metadata": {
    "collapsed": false
   },
   "outputs": [],
   "source": [
    "for one in uniqu_names:\n",
    "    getArticleData(one)"
   ]
  },
  {
   "cell_type": "code",
   "execution_count": 42,
   "metadata": {
    "collapsed": false
   },
   "outputs": [],
   "source": [
    "# test_Data=requests.get('https://api.nytimes.com/svc/search/v2/articlesearch.json?q=inaugural&begin_date=17891225&end_date=20091231&&api-key=d375a0f9fc93413d8965965fc6bdefe9').json()\n",
    "# print(test_Data)"
   ]
  },
  {
   "cell_type": "markdown",
   "metadata": {
    "collapsed": true
   },
   "source": [
    "# Get the data from Books API"
   ]
  },
  {
   "cell_type": "code",
   "execution_count": 84,
   "metadata": {
    "collapsed": false
   },
   "outputs": [
    {
     "name": "stdout",
     "output_type": "stream",
     "text": [
      "{'austen', 'bible', 'bryant', 'edgeworth', 'burgess', 'carroll', 'chesterton', 'melville', 'shakespeare', 'whitman', 'blake', 'milton'}\n"
     ]
    }
   ],
   "source": [
    "#step: get unique president list\n",
    "ListTitle=gutenberg.fileids()\n",
    "clean_title = []\n",
    "uniqu_title =[]\n",
    "\n",
    "for title in ListTitle:\n",
    "    clean_title = title.replace(\"-\", \" \").split()\n",
    "    for one in clean_title:\n",
    "        if one.endswith('.txt')==0:\n",
    "            uniqu_title.append(one)\n",
    "    \n",
    "    uniqu_all_title=set(uniqu_title)\n",
    "# print (uniqu_name)\n",
    "# print (uniqu_all_title)\n",
    "all_books=uniqu_all_title\n",
    "print(all_books)"
   ]
  },
  {
   "cell_type": "code",
   "execution_count": 5,
   "metadata": {
    "collapsed": true
   },
   "outputs": [],
   "source": [
    "def getBooksData(title):\n",
    "#     fl='&fl=snippet'\n",
    "    data=requests.get('https://api.nytimes.com/svc/books/v3/lists/best-sellers/history.json?title='+ title+'&api-key='+nyt_key).json()\n",
    "    f=open('books/'+ title +'.json','w')\n",
    "    newData = json.dumps(data, sort_keys=True, indent=4)\n",
    "    f.write(newData)\n",
    "    f.close()"
   ]
  },
  {
   "cell_type": "code",
   "execution_count": 90,
   "metadata": {
    "collapsed": false
   },
   "outputs": [],
   "source": [
    "getBooksData('carroll')"
   ]
  },
  {
   "cell_type": "code",
   "execution_count": 7,
   "metadata": {
    "collapsed": false
   },
   "outputs": [],
   "source": [
    "for book in uniqu_names:\n",
    "    getBooksData(book)"
   ]
  },
  {
   "cell_type": "code",
   "execution_count": null,
   "metadata": {
    "collapsed": true
   },
   "outputs": [],
   "source": []
  },
  {
   "cell_type": "markdown",
   "metadata": {},
   "source": [
    "# Get the data from Community API"
   ]
  },
  {
   "cell_type": "code",
   "execution_count": null,
   "metadata": {
    "collapsed": true
   },
   "outputs": [],
   "source": [
    "http://api.nytimes.com/svc/community/v3/user-content/user.json"
   ]
  },
  {
   "cell_type": "code",
   "execution_count": 158,
   "metadata": {
    "collapsed": false
   },
   "outputs": [],
   "source": [
    "def getUserData(date):\n",
    "#     fl='&fl=snippet'\n",
    "    data=requests.get('http://api.nytimes.com/svc/community/v3/user-content/by-date.json?date='+date+'&api-key='+nyt_key).json()\n",
    "    f=open('2015_user/'+ date +'.json','w')\n",
    "    newData = json.dumps(data, sort_keys=True, indent=4)\n",
    "    f.write(newData)\n",
    "    f.close()"
   ]
  },
  {
   "cell_type": "code",
   "execution_count": 168,
   "metadata": {
    "collapsed": false
   },
   "outputs": [],
   "source": [
    "getUserData('2015-12-31')"
   ]
  },
  {
   "cell_type": "code",
   "execution_count": null,
   "metadata": {
    "collapsed": true
   },
   "outputs": [],
   "source": []
  },
  {
   "cell_type": "code",
   "execution_count": 124,
   "metadata": {
    "collapsed": false
   },
   "outputs": [
    {
     "name": "stdout",
     "output_type": "stream",
     "text": [
      "d7 : 2016-01-01\n",
      "d2 : 2016-12-31\n"
     ]
    }
   ],
   "source": [
    "from datetime import datetime,date,timedelta\n",
    "d1 = datetime.now()\n",
    "d2 = d1.date()\n",
    "d7 = datetime.strptime('2016-01-1','%Y-%m-%d').date()\n",
    "d8 = datetime.strptime('2016-12-31','%Y-%m-%d').date()\n",
    "# print(list(range(d7, d8)))\n",
    "\n",
    "print('d7 :',d7)\n",
    "print('d2 :',d8)"
   ]
  },
  {
   "cell_type": "code",
   "execution_count": 167,
   "metadata": {
    "collapsed": false
   },
   "outputs": [],
   "source": [
    "from datetime import datetime,date,timedelta\n",
    "def perdelta(start, end, delta):\n",
    "    curr = start\n",
    "    while curr < end:\n",
    "        yield curr\n",
    "        curr += delta\n",
    "dateList = []\n",
    "for result in perdelta(date(2015, 9, 1), date(2015, 12, 31), timedelta(days=1)):\n",
    "    getUserData(str(result))\n",
    "#     one = result\n",
    "#     print(one)"
   ]
  }
 ],
 "metadata": {
  "anaconda-cloud": {},
  "kernelspec": {
   "display_name": "Python [conda root]",
   "language": "python",
   "name": "conda-root-py"
  },
  "language_info": {
   "codemirror_mode": {
    "name": "ipython",
    "version": 3
   },
   "file_extension": ".py",
   "mimetype": "text/x-python",
   "name": "python",
   "nbconvert_exporter": "python",
   "pygments_lexer": "ipython3",
   "version": "3.5.2"
  }
 },
 "nbformat": 4,
 "nbformat_minor": 1
}
