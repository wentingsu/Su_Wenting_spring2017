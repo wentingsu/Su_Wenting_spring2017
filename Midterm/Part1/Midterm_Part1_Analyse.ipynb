{
 "cells": [
  {
   "cell_type": "markdown",
   "metadata": {},
   "source": [
    "# Part 1\n",
    "\n",
    "1. Enron Scandal Summary - Link to Investopedia article to get a brief summary about the what the scandal was.\n",
    "2. The enron data-set is available at CMU Enron data 1.82 GB tgz file.\n",
    "3. You can do any analysis of your choice. A better analysis is one which gives useful information."
   ]
  },
  {
   "cell_type": "markdown",
   "metadata": {},
   "source": [
    "# Analyse 1: \n",
    "\n",
    "* Kenneth Lay formed Enron in 1985 by after merging Houston Natural Gas and InterNorth; \n",
    "* Jeffrey Skilling was the former CEO of the Enron Corporation; \n",
    "\n",
    "\n",
    "1. Under the sent box of Kenneth Lay, open all the emails in it.\n",
    "2. Find out how many email address that Kenneth Lay is sent.\n",
    "3. Calculate the frequency of each email address and show the top 10 most frequent email address"
   ]
  },
  {
   "cell_type": "code",
   "execution_count": 1,
   "metadata": {
    "collapsed": true
   },
   "outputs": [],
   "source": [
    "# Import the email modules we'll need\n",
    "from email.parser import Parser\n",
    "#import glob, re, string and get the list of punctuation\n",
    "import glob\n",
    "import re\n",
    "import string\n",
    "import csv\n",
    "import os\n",
    "punc=string.punctuation"
   ]
  },
  {
   "cell_type": "code",
   "execution_count": 2,
   "metadata": {
    "collapsed": true
   },
   "outputs": [],
   "source": [
    "# lay-k ; skilling-j ; \n",
    "def getSentbox(str,emailBox):\n",
    "    path = '/Users/wentingsu/midterm/data/enron/maildir/'+ str+'/'+ emailBox+ '/'\n",
    "    filelist = os.listdir(path)\n",
    "    inboxList=[]\n",
    "    for i in filelist:\n",
    "        if i.endswith(\".\"):\n",
    "            with open(path+i) as f:\n",
    "                try:\n",
    "                    headers = Parser().parse(f)\n",
    "                    inboxList.append(headers['to'])\n",
    "#                     print(headers['from'])\n",
    "                \n",
    "                except (ValueError, KeyError, TypeError):\n",
    "                    print('Header format error')\n",
    "                \n",
    "    return (inboxList)"
   ]
  },
  {
   "cell_type": "code",
   "execution_count": 3,
   "metadata": {
    "collapsed": false
   },
   "outputs": [],
   "source": [
    "finalSentBox=[]\n",
    "for one in getSentbox('lay-k', 'sent'):\n",
    "    each = one.split()\n",
    "    if(len(each))>1:\n",
    "        for i in each:\n",
    "            finalSentBox.append(i)\n",
    "    else:\n",
    "        finalSentBox.append(one)\n",
    "# print(finalSentBox)    "
   ]
  },
  {
   "cell_type": "code",
   "execution_count": 4,
   "metadata": {
    "collapsed": false
   },
   "outputs": [
    {
     "data": {
      "text/plain": [
       "301"
      ]
     },
     "execution_count": 4,
     "metadata": {},
     "output_type": "execute_result"
    }
   ],
   "source": [
    "len(finalSentBox)"
   ]
  },
  {
   "cell_type": "code",
   "execution_count": 5,
   "metadata": {
    "collapsed": false
   },
   "outputs": [
    {
     "name": "stdout",
     "output_type": "stream",
     "text": [
      "lizard_ar@yahoo.com 10\n",
      "jeffrey.garten@yale.edu 8\n",
      "expense.report@enron.com 7\n",
      "katherine.brown@enron.com 7\n",
      "skimmel@iexalt.net 4\n",
      "sally.keepers@enron.com 4\n",
      "shea_dugger@i2.com 4\n",
      "jonathan.pershing@iea.org 4\n",
      "barbara.sain@compaq.com 4\n",
      "mtelle@velaw.com 3\n"
     ]
    }
   ],
   "source": [
    "Sentcount ={}\n",
    "for one in finalSentBox:\n",
    "    if one not in Sentcount:\n",
    "        Sentcount[one] = 1  #give the value 1 if it is the new key\n",
    "    else:\n",
    "        Sentcount[one] += 1 #if it is not the new key then accumulate the value\n",
    "\n",
    "Sentcount = sorted(Sentcount.items(), key=lambda x: x[1], reverse=True)\n",
    "\n",
    "for k, v in Sentcount[:10]:\n",
    "    print(k, v)"
   ]
  },
  {
   "cell_type": "markdown",
   "metadata": {},
   "source": [
    "# Analyse 2: \n",
    "\n",
    "* Kenneth Lay formed Enron in 1985 by after merging Houston Natural Gas and InterNorth; \n",
    "* Jeffrey Skilling was the former CEO of the Enron Corporation; \n",
    "\n",
    "1. Under the inbox of Kenneth Lay and Jeffrey Skilling, open all the emails in it.\n",
    "2. Find out how many email address that Kenneth Lay and Jeffrey Skilling have receieved. Take top 10 email address from Kenneth Lay and top 10 from Jeffrey Skilling.\n",
    "3. Find out the top 5 emails address that both Kenneth Lay and Jeffrey Skilling receieved."
   ]
  },
  {
   "cell_type": "code",
   "execution_count": 6,
   "metadata": {
    "collapsed": false
   },
   "outputs": [],
   "source": [
    "# lay-k ; skilling-j ; \n",
    "def getMailbox(str,emailBox):\n",
    "    path = '/Users/wentingsu/midterm/data/enron/maildir/'+ str+'/'+ emailBox+ '/'\n",
    "    filelist = os.listdir(path)\n",
    "    allmailList=[]\n",
    "    for i in filelist:\n",
    "        if i.endswith(\".\"):\n",
    "            with open(path+i) as f:\n",
    "                try:\n",
    "                    headers = Parser().parse(f)\n",
    "                    allmailList.append(headers['from'])\n",
    "#                     print(headers['from'])\n",
    "                \n",
    "                except (ValueError, KeyError, TypeError):\n",
    "                    print('Header format error')\n",
    "                \n",
    "    return allmailList"
   ]
  },
  {
   "cell_type": "code",
   "execution_count": 7,
   "metadata": {
    "collapsed": false
   },
   "outputs": [
    {
     "name": "stdout",
     "output_type": "stream",
     "text": [
      "Header format error\n",
      "Header format error\n",
      "Header format error\n"
     ]
    }
   ],
   "source": [
    "list1= getMailbox('lay-k','inbox')\n",
    "list2= getMailbox('skilling-j','inbox')"
   ]
  },
  {
   "cell_type": "code",
   "execution_count": 8,
   "metadata": {
    "collapsed": false
   },
   "outputs": [
    {
     "name": "stdout",
     "output_type": "stream",
     "text": [
      "no.address@enron.com 38\n",
      "svarga@kudlow.com 34\n",
      "dbrock@howard.edu 24\n",
      "mrslinda@lplpi.com 19\n",
      "karen.denne@enron.com 14\n",
      "brown_mary_jo@lilly.com 13\n",
      "enron_update@concureworkplace.com 13\n",
      "lynda.l.phinney@williams.com 11\n",
      "mailings@cnn.com 11\n",
      "40enron@enron.com 11\n"
     ]
    }
   ],
   "source": [
    "wordcount={}\n",
    "for word in list1:\n",
    "    if word not in wordcount:\n",
    "        wordcount[word] = 1  #give the value 1 if it is the new key\n",
    "    else:\n",
    "        wordcount[word] += 1 #if it is not the new key then accumulate the value\n",
    "\n",
    "wordcount = sorted(wordcount.items(), key=lambda x: x[1], reverse=True)\n",
    "for k, v in wordcount[:10]:\n",
    "    print(k, v)"
   ]
  },
  {
   "cell_type": "code",
   "execution_count": 9,
   "metadata": {
    "collapsed": false
   },
   "outputs": [
    {
     "name": "stdout",
     "output_type": "stream",
     "text": [
      "no.address@enron.com 77\n",
      "40enron@enron.com 70\n",
      "svarga@kudlow.com 39\n",
      "kenneth.thibodeaux@enron.com 39\n",
      "dottie@kerr-solutions.com 28\n",
      "boethia@hotmail.com 26\n",
      "david.morris@lehman.com 21\n",
      "jdent@mmcable.com 20\n",
      "amelia.alder@enron.com 19\n",
      "stephanie.strong@enron.com 14\n"
     ]
    }
   ],
   "source": [
    "wordcount={}\n",
    "for word in list2:\n",
    "    if word not in wordcount:\n",
    "        wordcount[word] = 1  #give the value 1 if it is the new key\n",
    "    else:\n",
    "        wordcount[word] += 1 #if it is not the new key then accumulate the value\n",
    "\n",
    "wordcount = sorted(wordcount.items(), key=lambda x: x[1], reverse=True)\n",
    "for k, v in wordcount[:10]:\n",
    "    print(k, v)"
   ]
  },
  {
   "cell_type": "code",
   "execution_count": 12,
   "metadata": {
    "collapsed": false
   },
   "outputs": [
    {
     "name": "stdout",
     "output_type": "stream",
     "text": [
      "213\n"
     ]
    }
   ],
   "source": [
    "common = []\n",
    "for email in list1:\n",
    "    if email in list2:\n",
    "        common.append(email)      \n",
    "print(len(common))"
   ]
  },
  {
   "cell_type": "code",
   "execution_count": 15,
   "metadata": {
    "collapsed": false
   },
   "outputs": [
    {
     "name": "stdout",
     "output_type": "stream",
     "text": [
      "no.address@enron.com 38\n",
      "svarga@kudlow.com 34\n",
      "karen.denne@enron.com 14\n",
      "40enron@enron.com 11\n",
      "joannie.williamson@enron.com 11\n"
     ]
    }
   ],
   "source": [
    "wordcount={}\n",
    "for word in common:\n",
    "    if word not in wordcount:\n",
    "        wordcount[word] = 1  #give the value 1 if it is the new key\n",
    "    else:\n",
    "        wordcount[word] += 1 #if it is not the new key then accumulate the value\n",
    "\n",
    "wordcount = sorted(wordcount.items(), key=lambda x: x[1], reverse=True)\n",
    "for k, v in wordcount[:5]:\n",
    "    print(k, v)"
   ]
  },
  {
   "cell_type": "code",
   "execution_count": 13,
   "metadata": {
    "collapsed": false
   },
   "outputs": [
    {
     "name": "stdout",
     "output_type": "stream",
     "text": [
      "1157\n"
     ]
    }
   ],
   "source": [
    "different = []\n",
    "for email in list1:\n",
    "    if email not in list2:\n",
    "        different.append(email)\n",
    "        \n",
    "print(len(different))"
   ]
  },
  {
   "cell_type": "code",
   "execution_count": 16,
   "metadata": {
    "collapsed": false
   },
   "outputs": [
    {
     "name": "stdout",
     "output_type": "stream",
     "text": [
      "dbrock@howard.edu 24\n",
      "mrslinda@lplpi.com 19\n",
      "brown_mary_jo@lilly.com 13\n",
      "enron_update@concureworkplace.com 13\n",
      "lynda.l.phinney@williams.com 11\n"
     ]
    }
   ],
   "source": [
    "wordcount={}\n",
    "for word in different:\n",
    "    if word not in wordcount:\n",
    "        wordcount[word] = 1  #give the value 1 if it is the new key\n",
    "    else:\n",
    "        wordcount[word] += 1 #if it is not the new key then accumulate the value\n",
    "\n",
    "wordcount = sorted(wordcount.items(), key=lambda x: x[1], reverse=True)\n",
    "for k, v in wordcount[:5]:\n",
    "    print(k, v)"
   ]
  },
  {
   "cell_type": "markdown",
   "metadata": {},
   "source": [
    "# Analyse 3: \n",
    "\n",
    "* Kenneth Lay formed Enron in 1985 by after merging Houston Natural Gas and InterNorth; \n",
    "* Jeffrey Skilling was the former CEO of the Enron Corporation; \n",
    "\n",
    "\n",
    "1. Pick all the files under CEO skilling-j folder and Get all the email Subjects.\n",
    "2. Calculate the frequency of each word in all subjects, and save the data as CSV file.(rank, word, frequency)\n",
    "3. Generate the Log-Log figure to prove if Zipf's law works in this."
   ]
  },
  {
   "cell_type": "code",
   "execution_count": null,
   "metadata": {
    "collapsed": true
   },
   "outputs": [],
   "source": [
    "import csv\n",
    "import re"
   ]
  },
  {
   "cell_type": "code",
   "execution_count": 23,
   "metadata": {
    "collapsed": false
   },
   "outputs": [],
   "source": [
    "#define a function to get the email files and pass the files name\n",
    "def getallSubjects(str):\n",
    "    # give the path of for different named folder\n",
    "    path = '/Users/wentingsu/midterm/data/enron/maildir/'+ str+'/'\n",
    "    #get the list of the folder that under each person\n",
    "    filelist = os.listdir(path)\n",
    "    subjectList = []\n",
    "    #for each folder to get all the files of emails   \n",
    "    for file in filelist[1:]:\n",
    "        emailList = os.listdir(path + file)\n",
    "        for i in emailList[1:]:\n",
    "            if i.endswith(\".\"):  # You could also add \"and i.startswith('f')\n",
    "                with open(path+file+'/'+ i) as f:\n",
    "                    try:\n",
    "                        headers = Parser().parse(f)\n",
    "#                         print('To: %s' % headers['subject'])\n",
    "                        subjectList.append(headers['subject'])\n",
    "    \n",
    "                    except (ValueError, KeyError, TypeError):\n",
    "                        print('Header format error')\n",
    "    return subjectList\n",
    "# getEmail('lay-k')"
   ]
  },
  {
   "cell_type": "code",
   "execution_count": 22,
   "metadata": {
    "collapsed": false
   },
   "outputs": [
    {
     "name": "stdout",
     "output_type": "stream",
     "text": [
      "Header format error\n",
      "Header format error\n",
      "Header format error\n",
      "Header format error\n"
     ]
    }
   ],
   "source": [
    "List3 = getallSubjects('skilling-j')"
   ]
  },
  {
   "cell_type": "code",
   "execution_count": 46,
   "metadata": {
    "collapsed": false
   },
   "outputs": [
    {
     "name": "stdout",
     "output_type": "stream",
     "text": [
      "17859\n"
     ]
    }
   ],
   "source": [
    "clean = []\n",
    "for word in List3:\n",
    "    lower_word=word.lower().split()\n",
    "    if(len(lower_word))>1:\n",
    "        for one in lower_word:\n",
    "            clean.append(one)\n",
    "    else:\n",
    "        clean.append(word)\n",
    "print(len(clean))"
   ]
  },
  {
   "cell_type": "code",
   "execution_count": 68,
   "metadata": {
    "collapsed": false
   },
   "outputs": [],
   "source": [
    "List4=[]\n",
    "for word in clean:\n",
    "    word1 = ''.join(re.findall(\"[a-zA-Z]+\", word)) \n",
    "    word2=word1.lower()  \n",
    "    if word2 != 're' and word2 !='fw' and word2 != '':\n",
    "        List4.append(word2)       \n",
    "# print(len(List4))\n",
    "# print(List4)"
   ]
  },
  {
   "cell_type": "code",
   "execution_count": 79,
   "metadata": {
    "collapsed": false
   },
   "outputs": [],
   "source": [
    "#Step2: get the sorted word-frequency \n",
    "def getFreq(myList):\n",
    "    wordFreq ={}\n",
    "    for word in myList:\n",
    "        if word not in wordFreq:\n",
    "            wordFreq[word] =1  #give the value 1 if it is the new key\n",
    "        else:\n",
    "            wordFreq[word] +=1 #if it is not the new key then accumulate the value\n",
    "    #sort the word-freq using lambda.\n",
    "    wordFreq = sorted(wordFreq.items(), key=lambda x: x[1], reverse=True)\n",
    "    return wordFreq"
   ]
  },
  {
   "cell_type": "code",
   "execution_count": 90,
   "metadata": {
    "collapsed": false
   },
   "outputs": [
    {
     "data": {
      "text/plain": [
       "list"
      ]
     },
     "execution_count": 90,
     "metadata": {},
     "output_type": "execute_result"
    }
   ],
   "source": [
    "wordFrequency = getFreq(List4)\n",
    "type(wordFrequency)\n",
    "# print(wordFrequency)"
   ]
  },
  {
   "cell_type": "code",
   "execution_count": 89,
   "metadata": {
    "collapsed": false
   },
   "outputs": [],
   "source": [
    "wordList=[]\n",
    "freqList=[]\n",
    "rankList=[]\n",
    "    \n",
    "for k, v in wordFrequency:\n",
    "    wordList.append(k)\n",
    "    freqList.append(v)    \n",
    "    #define the rank list\n",
    "def f(n):\n",
    "    return list(range(1, n+1))\n",
    "\n",
    "rankList=f(len(wordFrequency))\n",
    "\n",
    "# print(rankList)\n",
    "# print(wordList)\n",
    "# print(freqList)\n"
   ]
  },
  {
   "cell_type": "code",
   "execution_count": 91,
   "metadata": {
    "collapsed": true
   },
   "outputs": [],
   "source": [
    "#open a filw for writing.\n",
    "csv_out = open ('Midterm/Part1/subjectProve.csv','w')\n",
    "#create the csv writer object.\n",
    "mywriter = csv.writer(csv_out)\n",
    "#add the column title for each list\n",
    "mywriter.writerow(['rank', 'word', 'freq'])\n",
    "#writerow - one row of data at a time\n",
    "for row in zip(rankList,wordList,freqList):      \n",
    "    mywriter.writerow(row)\n",
    "    #close the file\n",
    "csv_out.close()"
   ]
  },
  {
   "cell_type": "code",
   "execution_count": 92,
   "metadata": {
    "collapsed": true
   },
   "outputs": [],
   "source": [
    "#import matplotlib. and pandas\n",
    "import matplotlib.pyplot as plt\n",
    "import pandas as pd"
   ]
  },
  {
   "cell_type": "code",
   "execution_count": 93,
   "metadata": {
    "collapsed": true
   },
   "outputs": [],
   "source": [
    "#use a simple statement to load the surveys data.\n",
    "df = pd.read_csv('Midterm/Part1/subjectProve.csv', index_col='rank')\n",
    "#there's a column in surveys.csv named \"plot\" which would make an excellent value to plot.\n",
    "plot_data = df['freq']"
   ]
  },
  {
   "cell_type": "code",
   "execution_count": 94,
   "metadata": {
    "collapsed": false
   },
   "outputs": [
    {
     "data": {
      "image/png": "[encoded data removed]",
      "text/plain": [
       "<matplotlib.figure.Figure at 0x10fa16a90>"
      ]
     },
     "metadata": {},
     "output_type": "display_data"
    }
   ],
   "source": [
    "#an array of plot data indexed by the rank value. Let's plot it and give it a label.\n",
    "plt.plot(plot_data, label='rank-freq')\n",
    "#give the x-axis name\n",
    "plt.xlabel('Rank')\n",
    "#give the y-axis name\n",
    "plt.ylabel('Word Frequency')\n",
    "#set a title\n",
    "plt.title('The Word-Freq Figure')\n",
    "plt.show()\n",
    "# plt.savefig('zif/word-freq.png')"
   ]
  },
  {
   "cell_type": "code",
   "execution_count": 95,
   "metadata": {
    "collapsed": false
   },
   "outputs": [
    {
     "data": {
      "image/png": "[encoded data removed]",
      "text/plain": [
       "<matplotlib.figure.Figure at 0x112f12668>"
      ]
     },
     "metadata": {},
     "output_type": "display_data"
    }
   ],
   "source": [
    "plt.loglog(plot_data,'gx', label='loglog fugure')\n",
    "\n",
    "plt.xlabel('log(Rank)')\n",
    "plt.ylabel('log(Word Frequency)')\n",
    "plt.title('The Loglog(Word-Freq)Figure')\n",
    "plt.show()"
   ]
  },
  {
   "cell_type": "markdown",
   "metadata": {},
   "source": [
    "### Conclusion: the subjects word frequency meets the Zipf's law."
   ]
  },
  {
   "cell_type": "code",
   "execution_count": 85,
   "metadata": {
    "collapsed": false
   },
   "outputs": [
    {
     "name": "stdout",
     "output_type": "stream",
     "text": [
      "To: tim.belden@enron.com\n",
      "Body: None\n",
      "From: phillip.allen@enron.com\n",
      "Subject: \n",
      "text/plain\n"
     ]
    }
   ],
   "source": [
    "#### If the e-mail headers are in a file, uncomment these two lines:\n",
    "with open('/Users/wentingsu/midterm/data/enron/maildir/allen-p/_sent_mail/1.') as fp:\n",
    "    headers = Parser().parse(fp)\n",
    "#Now the header items can be accessed as a dictionary:\n",
    "print('To: %s' % headers['to'])\n",
    "print('From: %s' % headers['from'])\n",
    "print('Subject: %s' % headers['subject'])\n",
    "print(headers.get_content_type())\n",
    "# print(headers.get_payload())"
   ]
  },
  {
   "cell_type": "code",
   "execution_count": 30,
   "metadata": {
    "collapsed": false
   },
   "outputs": [],
   "source": [
    "path = '/Users/wentingsu/midterm/data/enron/maildir/allen-p/'\n",
    "filelist = os.listdir(path)\n",
    "for file in filelist[1:2]:\n",
    "    emailList = os.listdir(path+file)\n",
    "#     print(emailList)   \n",
    "# print(filelist[1:])\n",
    "    for i in emailList[1:]:\n",
    "#         if i.endswith(\".\"):  # You could also add \"and i.startswith('f')\n",
    "        with open(path+file+'/'+ i) as f:\n",
    "            headers = Parser().parse(f)\n",
    "#         print('Subject: %s' % headers['subject'])"
   ]
  }
 ],
 "metadata": {
  "anaconda-cloud": {},
  "kernelspec": {
   "display_name": "Python [conda root]",
   "language": "python",
   "name": "conda-root-py"
  },
  "language_info": {
   "codemirror_mode": {
    "name": "ipython",
    "version": 3
   },
   "file_extension": ".py",
   "mimetype": "text/x-python",
   "name": "python",
   "nbconvert_exporter": "python",
   "pygments_lexer": "ipython3",
   "version": "3.5.2"
  }
 },
 "nbformat": 4,
 "nbformat_minor": 1
}
