{
 "cells": [
  {
   "cell_type": "markdown",
   "metadata": {},
   "source": [
    "# Question 6\n",
    "\n",
    "1. Under Inaugural Address package\n",
    "2. For every president, find out how many unique words they used in speech. \n",
    "3. We will just assume that President Bush means one person (technically it is incorrect but we will ignore it)"
   ]
  },
  {
   "cell_type": "code",
   "execution_count": 265,
   "metadata": {
    "collapsed": false
   },
   "outputs": [
    {
     "data": {
      "text/plain": [
       "['1789-Washington.txt', '1793-Washington.txt']"
      ]
     },
     "execution_count": 265,
     "metadata": {},
     "output_type": "execute_result"
    }
   ],
   "source": [
    "from nltk.corpus import inaugural\n",
    "inaugural.fileids()[:2]"
   ]
  },
  {
   "cell_type": "code",
   "execution_count": null,
   "metadata": {
    "collapsed": true
   },
   "outputs": [],
   "source": [
    "#1. find out the unique presidents"
   ]
  },
  {
   "cell_type": "code",
   "execution_count": 79,
   "metadata": {
    "collapsed": false,
    "scrolled": true
   },
   "outputs": [
    {
     "data": {
      "text/plain": [
       "56"
      ]
     },
     "execution_count": 79,
     "metadata": {},
     "output_type": "execute_result"
    }
   ],
   "source": [
    "len(inaugural.fileids())"
   ]
  },
  {
   "cell_type": "code",
   "execution_count": 80,
   "metadata": {
    "collapsed": false
   },
   "outputs": [
    {
     "data": {
      "text/plain": [
       "str"
      ]
     },
     "execution_count": 80,
     "metadata": {},
     "output_type": "execute_result"
    }
   ],
   "source": [
    "import string\n",
    "punc=string.punctuation\n",
    "type(punc)"
   ]
  },
  {
   "cell_type": "code",
   "execution_count": 83,
   "metadata": {
    "collapsed": false
   },
   "outputs": [
    {
     "name": "stdout",
     "output_type": "stream",
     "text": [
      "{'Eisenhower', 'Roosevelt', 'Kennedy', 'Johnson', 'Carter', 'Truman', 'Garfield', 'Jackson', 'Lincoln', 'Hoover', 'Harding', 'Jefferson', 'Harrison', 'Washington', 'Clinton', 'McKinley', 'Cleveland', 'Wilson', 'Taylor', 'Nixon', 'Reagan', 'Polk', 'Hayes', 'Grant', 'Taft', 'VanBuren', 'Monroe', 'Adams', 'Madison', 'Obama', 'Coolidge', 'Pierce', 'Bush', 'Buchanan'}\n"
     ]
    }
   ],
   "source": [
    "#step1: get unique president\n",
    "List=inaugural.fileids()\n",
    "clean_names = []\n",
    "for name in List:\n",
    "    clean_name = name[5:-4]\n",
    "    clean_names.append(clean_name)\n",
    "uniqu_name=set(clean_names)\n",
    "# print (uniqu_name)\n",
    "print (uniqu_name)"
   ]
  },
  {
   "cell_type": "code",
   "execution_count": 135,
   "metadata": {
    "collapsed": false
   },
   "outputs": [
    {
     "data": {
      "text/plain": [
       "['1789-Washington.txt', '1793-Washington.txt', '1797-Adams.txt']"
      ]
     },
     "execution_count": 135,
     "metadata": {},
     "output_type": "execute_result"
    }
   ],
   "source": [
    "inaugural.fileids()[:3]"
   ]
  },
  {
   "cell_type": "code",
   "execution_count": 180,
   "metadata": {
    "collapsed": false
   },
   "outputs": [
    {
     "name": "stdout",
     "output_type": "stream",
     "text": [
      "['Washington', 'Washington', 'Adams', 'Jefferson', 'Jefferson', 'Madison', 'Madison', 'Monroe', 'Monroe', 'Adams', 'Jackson', 'Jackson', 'VanBuren', 'Harrison', 'Polk', 'Taylor', 'Pierce', 'Buchanan', 'Lincoln', 'Lincoln', 'Grant', 'Grant', 'Hayes', 'Garfield', 'Cleveland', 'Harrison', 'Cleveland', 'McKinley', 'McKinley', 'Roosevelt', 'Taft', 'Wilson', 'Wilson', 'Harding', 'Coolidge', 'Hoover', 'Roosevelt', 'Roosevelt', 'Roosevelt', 'Roosevelt', 'Truman', 'Eisenhower', 'Eisenhower', 'Kennedy', 'Johnson', 'Nixon', 'Nixon', 'Carter', 'Reagan', 'Reagan', 'Bush', 'Clinton', 'Clinton', 'Bush', 'Bush', 'Obama']\n"
     ]
    }
   ],
   "source": [
    "All=inaugural.fileids()\n",
    "cleanAll = []\n",
    "for one in All:\n",
    "    newOne = one[5:-4]\n",
    "    cleanAll.append(newOne)\n",
    "print(cleanAll)"
   ]
  },
  {
   "cell_type": "code",
   "execution_count": 148,
   "metadata": {
    "collapsed": false
   },
   "outputs": [
    {
     "name": "stdout",
     "output_type": "stream",
     "text": [
      "[]\n"
     ]
    }
   ],
   "source": [
    "index=[]\n",
    "for x in enumerate(cleanAll):\n",
    "    if x == 'Adams':\n",
    "        index.append(cleanAll.index(x))\n",
    "print(index)"
   ]
  },
  {
   "cell_type": "code",
   "execution_count": 241,
   "metadata": {
    "collapsed": false
   },
   "outputs": [
    {
     "data": {
      "text/plain": [
       "[41, 42]"
      ]
     },
     "execution_count": 241,
     "metadata": {},
     "output_type": "execute_result"
    }
   ],
   "source": [
    "def indexFunc(str):\n",
    "    indices = [i for i, x in enumerate(cleanAll) if x == str]\n",
    "    return indices\n",
    "    \n",
    "indexFunc('Eisenhower')"
   ]
  },
  {
   "cell_type": "code",
   "execution_count": 161,
   "metadata": {
    "collapsed": false
   },
   "outputs": [
    {
     "data": {
      "text/plain": [
       "['1989-Bush.txt', '2001-Bush.txt', '2005-Bush.txt']"
      ]
     },
     "execution_count": 161,
     "metadata": {},
     "output_type": "execute_result"
    }
   ],
   "source": [
    "# def indexFunc(str):\n",
    "#     indices = [i for i, x in enumerate(cleanAll) if x == str]\n",
    "# #   the second step : to get all the indices of each president\n",
    "#     fileids=[]\n",
    "#     for i in indices:\n",
    "#         f= inaugural.fileids()[i]\n",
    "#         fileids.append(f)\n",
    "#     return fileids\n",
    "\n",
    "# indexFunc('Bush')\n",
    "\n"
   ]
  },
  {
   "cell_type": "code",
   "execution_count": 167,
   "metadata": {
    "collapsed": false
   },
   "outputs": [
    {
     "data": {
      "text/plain": [
       "['When', 'it', 'was', 'first', 'perceived', ',', 'in', ...]"
      ]
     },
     "execution_count": 167,
     "metadata": {},
     "output_type": "execute_result"
    }
   ],
   "source": [
    "\n",
    "# def indexFunc(str):\n",
    "#     indices = [i for i, x in enumerate(cleanAll) if x == str]\n",
    "# #   the second step : to get all the indices of each president\n",
    "#     fileids=[]\n",
    "#     for i in indices:\n",
    "#         f= inaugural.fileids()[i]\n",
    "#         fileids.append(f)\n",
    "# #   the thrid step: pass the index to find the all .txts of each president\n",
    "#     presiWords = inaugural.words(fileids=[f1,f2])\n",
    "#     return presiWords\n",
    "    \n",
    "\n",
    "# indexFunc('Bush')\n"
   ]
  },
  {
   "cell_type": "code",
   "execution_count": 256,
   "metadata": {
    "collapsed": false
   },
   "outputs": [
    {
     "name": "stdout",
     "output_type": "stream",
     "text": [
      "{'Eisenhower', 'Roosevelt', 'Kennedy', 'Johnson', 'Carter', 'Truman', 'Garfield', 'Jackson', 'Lincoln', 'Hoover', 'Harding', 'Jefferson', 'Harrison', 'Washington', 'Clinton', 'McKinley', 'Cleveland', 'Wilson', 'Taylor', 'Nixon', 'Reagan', 'Polk', 'Hayes', 'Grant', 'Taft', 'VanBuren', 'Monroe', 'Adams', 'Madison', 'Obama', 'Coolidge', 'Pierce', 'Bush', 'Buchanan'}\n"
     ]
    }
   ],
   "source": [
    "#step1: get unique president\n",
    "List=inaugural.fileids()\n",
    "clean_names = []\n",
    "uniqu_name =[]\n",
    "for name in List:\n",
    "    clean_name = name[5:-4]\n",
    "    clean_names.append(clean_name)\n",
    "uniqu_name=set(clean_names)\n",
    "# print (uniqu_name)\n",
    "print (uniqu_name)"
   ]
  },
  {
   "cell_type": "code",
   "execution_count": 264,
   "metadata": {
    "collapsed": false
   },
   "outputs": [
    {
     "name": "stdout",
     "output_type": "stream",
     "text": [
      "{'Eisenhower': 1175, 'Jackson': 810, 'Washington': 628, 'Pierce': 1116, 'Clinton': 1058, 'Reagan': 1359, 'Roosevelt': 1601, 'McKinley': 1594, 'Cleveland': 1168, 'Wilson': 950, 'Taylor': 483, 'Grant': 813, 'Johnson': 528, 'Polk': 1259, 'Hayes': 800, 'Carter': 492, 'Truman': 740, 'Taft': 1375, 'VanBuren': 1254, 'Kennedy': 535, 'Garfield': 968, 'Monroe': 1679, 'Adams': 1441, 'Madison': 865, 'Obama': 892, 'Hoover': 993, 'Lincoln': 1176, 'Harding': 1119, 'Jefferson': 1208, 'Nixon': 981, 'Bush': 1479, 'Buchanan': 893, 'Harrison': 2542, 'Coolidge': 1159}\n"
     ]
    }
   ],
   "source": [
    "lastList = {}\n",
    "for one in uniqu_name:\n",
    "#     stri = one\n",
    "#     def indexFunc(one):\n",
    "    indices = [i for i, x in enumerate(cleanAll) if x == one]\n",
    "#   the second step : to get all the indices of each president\n",
    "    fileid=[]\n",
    "    for i in indices:\n",
    "        f= inaugural.fileids()[i]\n",
    "        fileid.append(f)\n",
    "#   the thrid step: pass the index to find the all .txts of each president\n",
    "    presiWords=[]\n",
    "    presiWords = inaugural.words(fileids=fileid)\n",
    "#   the forth step: clean each txt and get the number of unique words for each president   \n",
    "    cleanWordList=[]\n",
    "    for word in presiWords:\n",
    "        lower_word = word.lower()\n",
    "        if lower_word.isdigit() == 0:\n",
    "            if lower_word not in punc:\n",
    "                cleanWordList.append(lower_word)\n",
    "    uniqu_word=[]\n",
    "    uniqu_word = set(cleanWordList)     \n",
    "#     lastList.append(len(uniqu_word))\n",
    "    lastList[one] = len(uniqu_word)\n",
    "#         return len(uniqu_word)\n",
    "\n",
    "print(lastList)"
   ]
  },
  {
   "cell_type": "code",
   "execution_count": 245,
   "metadata": {
    "collapsed": false
   },
   "outputs": [
    {
     "data": {
      "text/plain": [
       "628"
      ]
     },
     "execution_count": 245,
     "metadata": {},
     "output_type": "execute_result"
    }
   ],
   "source": [
    "# def indexFunc(str):\n",
    "#     indices = [i for i, x in enumerate(cleanAll) if x == str]\n",
    "# #   the second step : to get all the indices of each president\n",
    "#     fileids=[]\n",
    "#     for i in indices:\n",
    "#         f= inaugural.fileids()[i]\n",
    "#         fileids.append(f)\n",
    "# #   the thrid step: pass the index to find the all .txts of each president\n",
    "#     presiWords4 = inaugural.words(fileids=[f1,f2])\n",
    "# #   the forth step: clean each txt and get the number of unique words for each president   \n",
    "#     cleanWordList=[]\n",
    "#     for word in presiWords4:\n",
    "#         lower_word = word.lower()\n",
    "#         if lower_word.isdigit() == 0:\n",
    "#             if lower_word not in punc:\n",
    "#                 cleanWordList.append(lower_word)\n",
    "#     uniqu_word = set(cleanWordList)\n",
    "#     return len(uniqu_word)\n",
    "\n",
    "# indexFunc('Lincoln')"
   ]
  },
  {
   "cell_type": "code",
   "execution_count": 255,
   "metadata": {
    "collapsed": false
   },
   "outputs": [
    {
     "data": {
      "text/plain": [
       "628"
      ]
     },
     "execution_count": 255,
     "metadata": {},
     "output_type": "execute_result"
    }
   ],
   "source": [
    "\n",
    "def indexFunc(str):\n",
    "    indices = [i for i, x in enumerate(cleanAll) if x == str]\n",
    "#   the second step : to get all the indices of each president\n",
    "    fileid=[]\n",
    "    for i in indices:\n",
    "        f= inaugural.fileids()[i]\n",
    "        fileid.append(f)\n",
    "#   the thrid step: pass the index to find the all .txts of each president\n",
    "    \n",
    "    presiWords = inaugural.words(fileids=fileid)\n",
    "#   the forth step: clean each txt and get the number of unique words for each president   \n",
    "    cleanWordList=[]\n",
    "    for word in presiWords:\n",
    "        lower_word = word.lower()\n",
    "        if lower_word.isdigit() == 0:\n",
    "            if lower_word not in punc:\n",
    "                cleanWordList.append(lower_word)\n",
    "    uniqu_word = set(cleanWordList)\n",
    "    presiWords =[]\n",
    "    return len(uniqu_word)\n",
    "\n",
    "indexFunc('Washington')\n"
   ]
  },
  {
   "cell_type": "code",
   "execution_count": 155,
   "metadata": {
    "collapsed": false
   },
   "outputs": [
    {
     "name": "stdout",
     "output_type": "stream",
     "text": [
      "['1797-Adams.txt', '1825-Adams.txt']\n"
     ]
    }
   ],
   "source": [
    "fileids=[]\n",
    "for i in indices:\n",
    "    f= inaugural.fileids()[i]\n",
    "    fileids.append(f)\n",
    "print(fileids)"
   ]
  },
  {
   "cell_type": "code",
   "execution_count": 217,
   "metadata": {
    "collapsed": false
   },
   "outputs": [
    {
     "name": "stdout",
     "output_type": "stream",
     "text": [
      "1789-Washington.txt\n"
     ]
    }
   ],
   "source": [
    "f1 = inaugural.fileids()[0]\n",
    "print(f1)\n",
    "f2 = inaugural.fileids()[1]"
   ]
  },
  {
   "cell_type": "code",
   "execution_count": 234,
   "metadata": {
    "collapsed": false
   },
   "outputs": [
    {
     "data": {
      "text/plain": [
       "[18, 19]"
      ]
     },
     "execution_count": 234,
     "metadata": {},
     "output_type": "execute_result"
    }
   ],
   "source": [
    "def indexFunc(str):\n",
    "    indices = [i for i, x in enumerate(cleanAll) if x == str]\n",
    "    return indices\n",
    "    \n",
    "indexFunc('Lincoln')"
   ]
  },
  {
   "cell_type": "code",
   "execution_count": 254,
   "metadata": {
    "collapsed": false
   },
   "outputs": [
    {
     "data": {
      "text/plain": [
       "628"
      ]
     },
     "execution_count": 254,
     "metadata": {},
     "output_type": "execute_result"
    }
   ],
   "source": [
    "# clean txt\n",
    "f3 = inaugural.fileids()[0]\n",
    "f4 = inaugural.fileids()[1]\n",
    "\n",
    "presiWords2 = inaugural.words(fileids=[f3,f4])\n",
    "\n",
    "def function1(wordlist):\n",
    "    cleanWordList=[]\n",
    "    for word in wordlist:\n",
    "        lower_word = word.lower()\n",
    "        if lower_word.isdigit() == 0:\n",
    "            if lower_word not in punc:\n",
    "                cleanWordList.append(lower_word)\n",
    "    uniqu_word = set(cleanWordList)\n",
    "    return len(uniqu_word)\n",
    "\n",
    "function1(presiWords2)"
   ]
  },
  {
   "cell_type": "code",
   "execution_count": 18,
   "metadata": {
    "collapsed": false
   },
   "outputs": [
    {
     "name": "stdout",
     "output_type": "stream",
     "text": [
      "['Fellow', '-', 'Citizens', 'of', 'the', 'Senate', ...]\n"
     ]
    }
   ],
   "source": [
    "allWords = inaugural.words(inaugural.fileids()[:2])\n",
    "print(allWords)"
   ]
  },
  {
   "cell_type": "code",
   "execution_count": 7,
   "metadata": {
    "collapsed": false
   },
   "outputs": [
    {
     "data": {
      "text/plain": [
       "145735"
      ]
     },
     "execution_count": 7,
     "metadata": {},
     "output_type": "execute_result"
    }
   ],
   "source": [
    "len(allWords)"
   ]
  }
 ],
 "metadata": {
  "anaconda-cloud": {},
  "kernelspec": {
   "display_name": "Python [conda root]",
   "language": "python",
   "name": "conda-root-py"
  },
  "language_info": {
   "codemirror_mode": {
    "name": "ipython",
    "version": 3
   },
   "file_extension": ".py",
   "mimetype": "text/x-python",
   "name": "python",
   "nbconvert_exporter": "python",
   "pygments_lexer": "ipython3",
   "version": "3.5.2"
  }
 },
 "nbformat": 4,
 "nbformat_minor": 1
}
