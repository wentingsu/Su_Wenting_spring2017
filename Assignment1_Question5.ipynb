{
 "cells": [
  {
   "cell_type": "markdown",
   "metadata": {},
   "source": [
    "# Question 5\n",
    "\n",
    "1. Use Gutenberg and Web_text data. Find out what are the top 5 words that Shakespeare used but we do not use in currently.\n",
    "2. Take top 50 words from Shakespeare (all 3 books) and top 50 from Web_text (all the records).\n",
    "3. Remove punctuation and stop words.\n",
    "4. Remove the words we still use today, and get the unused list. Show the top 5 elements. "
   ]
  },
  {
   "cell_type": "code",
   "execution_count": 1,
   "metadata": {
    "collapsed": true
   },
   "outputs": [],
   "source": [
    "import nltk"
   ]
  },
  {
   "cell_type": "code",
   "execution_count": 2,
   "metadata": {
    "collapsed": true
   },
   "outputs": [],
   "source": [
    "#import Gutenberg and Web_text data\n",
    "from nltk.corpus import gutenberg \n",
    "from nltk.corpus import webtext\n",
    "from nltk.corpus import stopwords"
   ]
  },
  {
   "cell_type": "code",
   "execution_count": 3,
   "metadata": {
    "collapsed": false
   },
   "outputs": [],
   "source": [
    "# the list of the stopwords\n",
    "stopList = stopwords.words('english')\n",
    "# print(stopList)"
   ]
  },
  {
   "cell_type": "code",
   "execution_count": 4,
   "metadata": {
    "collapsed": false
   },
   "outputs": [],
   "source": [
    "import string\n",
    "punc=string.punctuation"
   ]
  },
  {
   "cell_type": "code",
   "execution_count": null,
   "metadata": {
    "collapsed": true
   },
   "outputs": [],
   "source": [
    "x = [''.join(c for c in s if c not in string.punctuation) for s in x]"
   ]
  },
  {
   "cell_type": "code",
   "execution_count": 5,
   "metadata": {
    "collapsed": false
   },
   "outputs": [
    {
     "name": "stdout",
     "output_type": "stream",
     "text": [
      "['shakespeare-caesar.txt', 'shakespeare-hamlet.txt', 'shakespeare-macbeth.txt']\n"
     ]
    }
   ],
   "source": [
    "print(gutenberg.fileids()[-4:-1])"
   ]
  },
  {
   "cell_type": "code",
   "execution_count": 6,
   "metadata": {
    "collapsed": false
   },
   "outputs": [],
   "source": [
    "words_shakes = gutenberg.words(gutenberg.fileids()[-4:-1])\n",
    "words_current = webtext.words(webtext.fileids())\n",
    "\n",
    "# cleanShakesWords =[]\n",
    "# cleanCurrentWords=[]\n",
    "\n",
    "# print(words_shakes)\n",
    "def cleanWordFunction(List):\n",
    "    cleanWordList=[]\n",
    "    for word in List:\n",
    "        lower_word = word.lower()\n",
    "        if lower_word not in stopList:\n",
    "            if lower_word not in punc:\n",
    "                if lower_word.isdigit() == 0:\n",
    "                    cleanWordList.append(lower_word)             \n",
    "    return cleanWordList\n",
    "    \n",
    "cleanShakesWords = cleanWordFunction(words_shakes)\n",
    "cleanCurrentWords = cleanWordFunction(words_current)\n",
    "\n",
    "# word for word in cleanShakesWords if word not in string.punctuation"
   ]
  },
  {
   "cell_type": "code",
   "execution_count": null,
   "metadata": {
    "collapsed": true
   },
   "outputs": [],
   "source": [
    "# onlyShakes = []\n",
    "# for word in cleanShakesWords:\n",
    "#     if word not in cleanCurrentWords:\n",
    "#         onlyShakes.append(word)\n",
    "# print(onlyShakes[:20])"
   ]
  },
  {
   "cell_type": "code",
   "execution_count": 12,
   "metadata": {
    "collapsed": false
   },
   "outputs": [
    {
     "data": {
      "text/plain": [
       "17052"
      ]
     },
     "execution_count": 12,
     "metadata": {},
     "output_type": "execute_result"
    }
   ],
   "source": [
    "onlyShakes = []\n",
    "for word in cleanShakesWords:\n",
    "    if word not in cleanCurrentWords:\n",
    "        onlyShakes.append(word)\n",
    "len(onlyShakes)"
   ]
  },
  {
   "cell_type": "code",
   "execution_count": 14,
   "metadata": {
    "collapsed": false
   },
   "outputs": [
    {
     "name": "stdout",
     "output_type": "stream",
     "text": [
      "haue 448\n",
      "vpon 162\n",
      "brutus 162\n",
      "bru 153\n",
      "hath 144\n"
     ]
    }
   ],
   "source": [
    "unused = {}\n",
    "for word in onlyShakes:\n",
    "    if word not in unused:\n",
    "        unused[word] = 1\n",
    "    else:\n",
    "        unused[word] += 1\n",
    "unused = sorted(unused.items(), key=lambda x: x[1], reverse=True)\n",
    "\n",
    "#get the most frequent 10 words\n",
    "for k,v in unused[:5]:\n",
    "    print(k,v)"
   ]
  },
  {
   "cell_type": "code",
   "execution_count": 8,
   "metadata": {
    "collapsed": false
   },
   "outputs": [
    {
     "name": "stdout",
     "output_type": "stream",
     "text": [
      "haue 448\n",
      "vpon 162\n",
      "brutus 162\n",
      "bru 153\n",
      "hath 144\n"
     ]
    }
   ],
   "source": [
    "wordcountTopShakes = {}\n",
    "for word in cleanShakesWords:\n",
    "    if word not in cleanCurrentWords:\n",
    "        if word not in wordcountTopShakes:\n",
    "            wordcountTopShakes[word] = 1\n",
    "        else:\n",
    "            wordcountTopShakes[word] += 1\n",
    "wordcountTopShakes = sorted(wordcountTopShakes.items(), key=lambda x: x[1], reverse=True)\n",
    "\n",
    "#get the most frequent 10 words\n",
    "for k,v in wordcountTopShakes[:5]:\n",
    "    print(k,v)"
   ]
  },
  {
   "cell_type": "code",
   "execution_count": 9,
   "metadata": {
    "collapsed": false
   },
   "outputs": [
    {
     "data": {
      "text/plain": [
       "37036"
      ]
     },
     "execution_count": 9,
     "metadata": {},
     "output_type": "execute_result"
    }
   ],
   "source": [
    "words_shakes = gutenberg.words(gutenberg.fileids()[-4:-1])\n",
    "words_current = webtext.words(webtext.fileids())\n",
    "\n",
    "# print(words_shakes)\n",
    "cleanshakesWord=[]\n",
    "for word in words_shakes:\n",
    "    lower_word = word.lower()\n",
    "    if lower_word not in stopList:\n",
    "        if lower_word not in punc:\n",
    "            if lower_word.isdigit() == 0:\n",
    "                cleanshakesWord.append(lower_word)\n",
    "                \n",
    "len(cleanshakesWord)"
   ]
  },
  {
   "cell_type": "code",
   "execution_count": null,
   "metadata": {
    "collapsed": false
   },
   "outputs": [],
   "source": [
    "words_current = webtext.words(webtext.fileids())\n",
    "print(words_current)"
   ]
  },
  {
   "cell_type": "code",
   "execution_count": 10,
   "metadata": {
    "collapsed": false
   },
   "outputs": [
    {
     "name": "stdout",
     "output_type": "stream",
     "text": [
      "haue 448\n",
      "ham 337\n",
      "thou 312\n",
      "shall 300\n",
      "lord 293\n",
      "come 232\n",
      "king 231\n",
      "enter 230\n",
      "good 218\n",
      "let 217\n"
     ]
    }
   ],
   "source": [
    "wordcount = {}\n",
    "for word in cleanshakesWord:\n",
    "    if word not in wordcount:\n",
    "        wordcount[word] = 1\n",
    "    else:\n",
    "        wordcount[word] += 1\n",
    "wordcount = sorted(wordcount.items(), key=lambda x: x[1], reverse=True)\n",
    "\n",
    "#get the most frequent 10 words\n",
    "for k,v in wordcount[:10]:\n",
    "    print(k,v)"
   ]
  },
  {
   "cell_type": "code",
   "execution_count": 11,
   "metadata": {
    "collapsed": false
   },
   "outputs": [
    {
     "data": {
      "text/plain": [
       "['firefox.txt',\n",
       " 'grail.txt',\n",
       " 'overheard.txt',\n",
       " 'pirates.txt',\n",
       " 'singles.txt',\n",
       " 'wine.txt']"
      ]
     },
     "execution_count": 11,
     "metadata": {},
     "output_type": "execute_result"
    }
   ],
   "source": [
    "webtext.fileids()"
   ]
  }
 ],
 "metadata": {
  "anaconda-cloud": {},
  "kernelspec": {
   "display_name": "Python [conda root]",
   "language": "python",
   "name": "conda-root-py"
  },
  "language_info": {
   "codemirror_mode": {
    "name": "ipython",
    "version": 3
   },
   "file_extension": ".py",
   "mimetype": "text/x-python",
   "name": "python",
   "nbconvert_exporter": "python",
   "pygments_lexer": "ipython3",
   "version": "3.5.2"
  }
 },
 "nbformat": 4,
 "nbformat_minor": 1
}
