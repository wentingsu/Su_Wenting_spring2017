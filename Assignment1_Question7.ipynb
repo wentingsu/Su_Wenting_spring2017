{
 "cells": [
  {
   "cell_type": "markdown",
   "metadata": {},
   "source": [
    "# Question 7\n",
    "\n",
    "#### 1. Use Name corpus, calculate the probability of a name being of a male or female base on the last character(s) of name.\n",
    "#### 2. Sample steps:\n",
    "    2.1. For char ‘a’:\n",
    "\ttotal_names = sum(names ending with ‘a’)\n",
    "\tmale_names = sum(male names ending with ‘a’)\n",
    "\tfemale_names = sum(female names ending with ‘a’)\n",
    "\tProbability of name being male = 100 * male_names / total_names\n",
    "    2.2. Do this for all characters. \n",
    "#### 3 Output must come with proper title (e.g. [a] male: 25%, female: 60%)\n"
   ]
  },
  {
   "cell_type": "code",
   "execution_count": 214,
   "metadata": {
    "collapsed": false
   },
   "outputs": [
    {
     "data": {
      "text/plain": [
       "['female.txt', 'male.txt']"
      ]
     },
     "execution_count": 214,
     "metadata": {},
     "output_type": "execute_result"
    }
   ],
   "source": [
    "from nltk.corpus import names\n",
    "names.fileids()\n",
    "# names.words(names.fileids()[1:2])"
   ]
  },
  {
   "cell_type": "code",
   "execution_count": 215,
   "metadata": {
    "collapsed": false,
    "scrolled": true
   },
   "outputs": [
    {
     "name": "stdout",
     "output_type": "stream",
     "text": [
      "abcdefghijklmnopqrstuvwxyz\n"
     ]
    }
   ],
   "source": [
    "import string\n",
    "AllChar = string.ascii_letters[:26]\n",
    "print(AllChar)"
   ]
  },
  {
   "cell_type": "code",
   "execution_count": 280,
   "metadata": {
    "collapsed": false,
    "scrolled": true
   },
   "outputs": [
    {
     "name": "stdout",
     "output_type": "stream",
     "text": [
      "[ a ] male 98%  female: 2%\n",
      "[ b ] male 30%  female: 70%\n",
      "[ c ] male 0%  female: 100%\n",
      "[ d ] male 15%  female: 85%\n",
      "[ e ] male 75%  female: 25%\n",
      "[ f ] male 7%  female: 93%\n",
      "[ g ] male 24%  female: 76%\n",
      "[ h ] male 53%  female: 47%\n",
      "[ i ] male 86%  female: 14%\n",
      "[ j ] male 25%  female: 75%\n",
      "[ k ] male 4%  female: 96%\n",
      "[ l ] male 49%  female: 51%\n",
      "[ m ] male 16%  female: 84%\n",
      "[ n ] male 45%  female: 55%\n",
      "[ o ] male 17%  female: 83%\n",
      "[ p ] male 10%  female: 90%\n",
      "[ q ] male 0%  female: 0%\n",
      "[ r ] male 20%  female: 80%\n",
      "[ s ] male 29%  female: 71%\n",
      "[ t ] male 29%  female: 71%\n",
      "[ u ] male 33%  female: 67%\n",
      "[ v ] male 11%  female: 89%\n",
      "[ w ] male 23%  female: 77%\n",
      "[ x ] male 50%  female: 50%\n",
      "[ y ] male 58%  female: 42%\n",
      "[ z ] male 27%  female: 73%\n"
     ]
    }
   ],
   "source": [
    "total_female = names.words(names.fileids()[:1])\n",
    "total_male = names.words(names.fileids()[1:2])\n",
    "\n",
    "name_ends_f ={}\n",
    "name_ends_m ={}\n",
    "name_ends_total={}\n",
    "probability_f ={}\n",
    "probability_m ={}\n",
    "\n",
    "for char in AllChar:\n",
    "    name_female_ends=[]\n",
    "    for fname in total_female:\n",
    "        if fname.endswith(char)==1:\n",
    "            name_female_ends.append(fname)                     \n",
    "        else:\n",
    "            name_ends_f[char]=0\n",
    "    fCount=len(name_female_ends) \n",
    "    \n",
    "    name_male_ends =[]\n",
    "    for mname in total_male:\n",
    "        if mname.endswith(char)==1:\n",
    "            name_male_ends.append(mname) \n",
    "        else:\n",
    "            name_ends_m[char]=0\n",
    "    mCount=len(name_male_ends)    \n",
    "    totalCount = len(name_female_ends)+len(name_male_ends) \n",
    "    name_ends_f[char]=fCount\n",
    "    name_ends_m[char]=mCount\n",
    "    name_ends_total[char]= totalCount\n",
    "    if totalCount != 0:\n",
    "#         name_ends_f[char]=fCount\n",
    "#         name_ends_m[char]=mCount\n",
    "#         name_ends_total[char]= totalCount\n",
    "        probability_f[char] = 100*(fCount/totalCount)\n",
    "        probability_m[char] = 100*(mCount/totalCount)\n",
    "        \n",
    "    else:\n",
    "        probability_f[char] = 0\n",
    "        probability_m[char] = 0\n",
    "        \n",
    "    print('[',char,']', 'male', \"{0:.0f}%\".format(probability_f[char]),'','female:', \"{0:.0f}%\".format(probability_m[char]))\n",
    "\n",
    "\n",
    "# probability_m=probability_f\n",
    "\n",
    "#     probability_f[char]= name_female_ends\n",
    "\n",
    "\n",
    "# print(name_ends_f)\n",
    "# print(name_ends_m)\n",
    "# print(name_ends_total)\n",
    "# print(probability_f)\n"
   ]
  },
  {
   "cell_type": "code",
   "execution_count": 244,
   "metadata": {
    "collapsed": false
   },
   "outputs": [
    {
     "name": "stdout",
     "output_type": "stream",
     "text": [
      "0\n",
      "25\n"
     ]
    }
   ],
   "source": [
    "total_f = names.words(names.fileids()[:1])\n",
    "total_m = names.words(names.fileids()[1:2])\n",
    "\n",
    "names_female=[]\n",
    "for fname in total_f:\n",
    "    if fname.endswith('c')==1:\n",
    "        names_female.append(fname)\n",
    "print(len(names_female))\n",
    "\n",
    "name_male=[]\n",
    "for mname in total_m:\n",
    "    if mname.endswith('c')==1:\n",
    "        name_male.append(mname)\n",
    "print(len(name_male))    \n"
   ]
  },
  {
   "cell_type": "code",
   "execution_count": 271,
   "metadata": {
    "collapsed": false
   },
   "outputs": [
    {
     "name": "stdout",
     "output_type": "stream",
     "text": [
      "18\n"
     ]
    }
   ],
   "source": [
    "totals= names.words(names.fileids()[1:2])\n",
    "total_ends = []\n",
    "\n",
    "for name in totals:\n",
    "    if name.endswith('p')==1:\n",
    "        total_ends.append(name)\n",
    "print(len(total_ends))\n"
   ]
  },
  {
   "cell_type": "code",
   "execution_count": 43,
   "metadata": {
    "collapsed": false
   },
   "outputs": [
    {
     "name": "stdout",
     "output_type": "stream",
     "text": [
      "7944\n"
     ]
    }
   ],
   "source": [
    "total_names = len (names.words(names.fileids()))\n",
    "print(total_names)"
   ]
  }
 ],
 "metadata": {
  "anaconda-cloud": {},
  "kernelspec": {
   "display_name": "Python [conda root]",
   "language": "python",
   "name": "conda-root-py"
  },
  "language_info": {
   "codemirror_mode": {
    "name": "ipython",
    "version": 3
   },
   "file_extension": ".py",
   "mimetype": "text/x-python",
   "name": "python",
   "nbconvert_exporter": "python",
   "pygments_lexer": "ipython3",
   "version": "3.5.2"
  }
 },
 "nbformat": 4,
 "nbformat_minor": 1
}
