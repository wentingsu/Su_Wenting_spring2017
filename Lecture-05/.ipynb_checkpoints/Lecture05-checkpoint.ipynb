{
 "cells": [
  {
   "cell_type": "markdown",
   "metadata": {},
   "source": [
    "## Arguments\n",
    "* Arguments are passed by automatically assigning objects to local variable names.\n",
    "* Assigning to argument names inside a function does not affect the caller.\n",
    "* Changing a mutable object argument in a function may impact the caller.\n",
    "* Immutable arguments are effectively passed “by value.” /tuple & string\n",
    "* Mutable arguments are effectively passed “by pointer.”"
   ]
  },
  {
   "cell_type": "code",
   "execution_count": 9,
   "metadata": {
    "collapsed": false
   },
   "outputs": [
    {
     "name": "stdout",
     "output_type": "stream",
     "text": [
      "88\n"
     ]
    }
   ],
   "source": [
    "def f(a): \n",
    "    a = 99\n",
    "b = 88\n",
    "f(b)\n",
    "print(b)              # 88"
   ]
  },
  {
   "cell_type": "code",
   "execution_count": 10,
   "metadata": {
    "collapsed": false
   },
   "outputs": [
    {
     "data": {
      "text/plain": [
       "(1, ['spam', 2])"
      ]
     },
     "execution_count": 10,
     "metadata": {},
     "output_type": "execute_result"
    }
   ],
   "source": [
    "def changer(a, b): \n",
    "    a= 2\n",
    "    b[0] = 'spam'\n",
    "# list is mutable passed by pointer;\n",
    "X = 1\n",
    "L = [1, 2] \n",
    "changer(X, L)\n",
    "X, L                  # (1, ['spam', 2])"
   ]
  },
  {
   "cell_type": "code",
   "execution_count": 11,
   "metadata": {
    "collapsed": true
   },
   "outputs": [],
   "source": [
    "def changer(a, b):\n",
    "    b = b[:]       # Copy input list so we don't impact caller \n",
    "    a= 2\n",
    "    b[0] = 'spam'\n",
    "    "
   ]
  },
  {
   "cell_type": "code",
   "execution_count": 12,
   "metadata": {
    "collapsed": false
   },
   "outputs": [
    {
     "data": {
      "text/plain": [
       "(2, [3, 4])"
      ]
     },
     "execution_count": 12,
     "metadata": {},
     "output_type": "execute_result"
    }
   ],
   "source": [
    "# Multiple results\n",
    "def multiple(x, y): \n",
    "    x = 2\n",
    "    y = [3, 4] \n",
    "    return x, y\n",
    "\n",
    "X = 1\n",
    "L = [1, 2]\n",
    "X, L = multiple(X, L)\n",
    "X, L                      # (2, [3, 4])"
   ]
  },
  {
   "cell_type": "code",
   "execution_count": 15,
   "metadata": {
    "collapsed": false
   },
   "outputs": [
    {
     "name": "stdout",
     "output_type": "stream",
     "text": [
      "[1, 2]\n"
     ]
    }
   ],
   "source": [
    "X = 1\n",
    "M= L = [1, 2]\n",
    "X, L = multiple(X, L)\n",
    "X, L                      # (2, [3, 4])\n",
    "print(M)"
   ]
  },
  {
   "cell_type": "markdown",
   "metadata": {},
   "source": [
    "## Argument Matching Basics\n",
    "* Positionals: matched from left to right\n",
    "* Keywords: matched by argument name\n",
    "* Defaults: specify values for optional arguments that aren’t passed\n",
    "* Varargs collecting: collect arbitrarily many positional or keyword arguments\n",
    "* Varargs unpacking: pass arbitrarily many positional or keyword arguments\n",
    "* Keyword-only arguments: arguments that must be passed by name"
   ]
  },
  {
   "cell_type": "markdown",
   "metadata": {
    "collapsed": true
   },
   "source": [
    "!['Common dictionary literals and operations'](img/a1.png)"
   ]
  },
  {
   "cell_type": "code",
   "execution_count": 19,
   "metadata": {
    "collapsed": false
   },
   "outputs": [
    {
     "name": "stdout",
     "output_type": "stream",
     "text": [
      "1 2 3\n",
      "1 2 3\n",
      "1 2 3\n"
     ]
    }
   ],
   "source": [
    "def f(a, b, c): print(a, b, c)\n",
    "f(1, 2, 3)\n",
    "f(c=3, b=2, a=1)\n",
    "f(1, c=3, b=2)"
   ]
  },
  {
   "cell_type": "code",
   "execution_count": 16,
   "metadata": {
    "collapsed": false
   },
   "outputs": [
    {
     "name": "stdout",
     "output_type": "stream",
     "text": [
      "1 2 3\n",
      "1 2 3\n",
      "1 4 3\n",
      "1 4 5\n",
      "1 2 6\n"
     ]
    }
   ],
   "source": [
    "def f(a, b=2, c=3): print(a, b, c)\n",
    "f(1)\n",
    "f(a=1)\n",
    "f(1, 4)        # Override defaults 1 4 3\n",
    "f(1, 4, 5)\n",
    "f(1, c=6)"
   ]
  },
  {
   "cell_type": "code",
   "execution_count": 29,
   "metadata": {
    "collapsed": false
   },
   "outputs": [
    {
     "name": "stdout",
     "output_type": "stream",
     "text": [
      "(1, 2, 0, 0)\n",
      "(1, 0, 0, 1)\n",
      "(1, 0, 0, 0)\n",
      "(3, 2, 1, 0)\n",
      "(1, 2, 3, 4)\n"
     ]
    }
   ],
   "source": [
    "def func(spam, eggs, toast=0, ham=0):   # First 2 required\n",
    "    print((spam, eggs, toast, ham)) \n",
    "    \n",
    "func(1, 2)                          # Output: (1, 2, 0, 0)\n",
    "func(1, ham=1, eggs=0)              # Output: (1, 0, 0, 1)\n",
    "# func(1, ham=1)                      # Output: error\n",
    "func(spam=1, eggs=0)                # Output: (1, 0, 0, 0)\n",
    "func(toast=1, eggs=2, spam=3)       # Output: (3, 2, 1, 0) \n",
    "func(1, 2, 3, 4)                    # Output: (1, 2, 3, 4)"
   ]
  },
  {
   "cell_type": "code",
   "execution_count": 20,
   "metadata": {
    "collapsed": false
   },
   "outputs": [
    {
     "name": "stdout",
     "output_type": "stream",
     "text": [
      "()\n",
      "(1,)\n",
      "(1, 2, 3, 4)\n",
      "{}\n",
      "{'b': 2, 'a': 1}\n",
      "1 (2, 3) {'y': 2, 'x': 1}\n"
     ]
    }
   ],
   "source": [
    "# Arbitrary Arguments \n",
    "def f(*args): print(args)\n",
    "f()                    # ()\n",
    "f(1)                   # (1,)\n",
    "f(1, 2, 3, 4)\n",
    "\n",
    "def f(**args): print(args)\n",
    "f()                    # {}\n",
    "f(a=1, b=2)\n",
    "\n",
    "def f(a, *pargs, **kargs): print(a, pargs, kargs)\n",
    "f(1, 2, 3, x=1, y=2)"
   ]
  },
  {
   "cell_type": "code",
   "execution_count": 33,
   "metadata": {
    "collapsed": false
   },
   "outputs": [
    {
     "name": "stdout",
     "output_type": "stream",
     "text": [
      "1 2 3 4\n",
      "1 2 3 4\n"
     ]
    }
   ],
   "source": [
    "# Unpacking arguments\n",
    "def func(a, b, c, d): print(a, b, c, d)\n",
    "args = (1, 2)\n",
    "args += (3, 4)\n",
    "func(*args)\n",
    "\n",
    "args = {'a': 1, 'b': 2, 'c': 3,'d':4}\n",
    "func(**args)"
   ]
  },
  {
   "cell_type": "markdown",
   "metadata": {},
   "source": [
    "## Keyword only Arguments"
   ]
  },
  {
   "cell_type": "code",
   "execution_count": 57,
   "metadata": {
    "collapsed": false
   },
   "outputs": [
    {
     "name": "stdout",
     "output_type": "stream",
     "text": [
      "1 (2,) 3\n",
      "1 () 3\n"
     ]
    },
    {
     "ename": "TypeError",
     "evalue": "kwonly() missing 1 required keyword-only argument: 'c'",
     "output_type": "error",
     "traceback": [
      "\u001b[0;31m---------------------------------------------------------------------------\u001b[0m",
      "\u001b[0;31mTypeError\u001b[0m                                 Traceback (most recent call last)",
      "\u001b[0;32m<ipython-input-57-526c34dc2517>\u001b[0m in \u001b[0;36m<module>\u001b[0;34m()\u001b[0m\n\u001b[1;32m      3\u001b[0m \u001b[0mkwonly\u001b[0m\u001b[0;34m(\u001b[0m\u001b[0;36m1\u001b[0m\u001b[0;34m,\u001b[0m \u001b[0;36m2\u001b[0m\u001b[0;34m,\u001b[0m \u001b[0mc\u001b[0m\u001b[0;34m=\u001b[0m\u001b[0;36m3\u001b[0m\u001b[0;34m)\u001b[0m      \u001b[0;31m# 1 (2,) 3\u001b[0m\u001b[0;34m\u001b[0m\u001b[0m\n\u001b[1;32m      4\u001b[0m \u001b[0mkwonly\u001b[0m\u001b[0;34m(\u001b[0m\u001b[0ma\u001b[0m\u001b[0;34m=\u001b[0m\u001b[0;36m1\u001b[0m\u001b[0;34m,\u001b[0m\u001b[0mc\u001b[0m\u001b[0;34m=\u001b[0m\u001b[0;36m3\u001b[0m\u001b[0;34m)\u001b[0m       \u001b[0;31m# 1 () 3\u001b[0m\u001b[0;34m\u001b[0m\u001b[0m\n\u001b[0;32m----> 5\u001b[0;31m \u001b[0mkwonly\u001b[0m\u001b[0;34m(\u001b[0m\u001b[0;36m1\u001b[0m\u001b[0;34m,\u001b[0m \u001b[0;36m2\u001b[0m\u001b[0;34m,\u001b[0m \u001b[0;36m3\u001b[0m\u001b[0;34m)\u001b[0m        \u001b[0;31m# TypeError: kwonly() missing 1 required keyword-only argument: 'c'\u001b[0m\u001b[0;34m\u001b[0m\u001b[0m\n\u001b[0m",
      "\u001b[0;31mTypeError\u001b[0m: kwonly() missing 1 required keyword-only argument: 'c'"
     ]
    }
   ],
   "source": [
    "def kwonly(a, *b, c):  #* means one or more\n",
    "    print(a, b, c)\n",
    "kwonly(1, 2, c=3)      # 1 (2,) 3\n",
    "kwonly(a=1,c=3)       # 1 () 3\n",
    "kwonly(1, 2, 3)        # TypeError: kwonly() missing 1 required keyword-only argument: 'c'"
   ]
  },
  {
   "cell_type": "code",
   "execution_count": 42,
   "metadata": {
    "collapsed": false
   },
   "outputs": [],
   "source": [
    "# def  make_change(file, *,save):\n",
    "#     #..\n",
    "#     #..\n",
    "# make_change('/Users/Wenting/Demo',save=True)"
   ]
  },
  {
   "cell_type": "code",
   "execution_count": 38,
   "metadata": {
    "collapsed": false
   },
   "outputs": [
    {
     "name": "stdout",
     "output_type": "stream",
     "text": [
      "1 2 3\n",
      "1 2 3\n"
     ]
    }
   ],
   "source": [
    "def kwonly(a, *, b, c): \n",
    "    print(a, b, c)\n",
    "kwonly(1, c=3, b=2) \n",
    "kwonly(c=3, b=2, a=1)"
   ]
  },
  {
   "cell_type": "code",
   "execution_count": 58,
   "metadata": {
    "collapsed": false
   },
   "outputs": [
    {
     "name": "stdout",
     "output_type": "stream",
     "text": [
      "1 spam ham\n",
      "1 spam 3\n",
      "1 spam ham\n",
      "1 2 3\n"
     ]
    }
   ],
   "source": [
    "def kwonly(a, *, b='spam', c='ham'): \n",
    "    print(a, b, c)\n",
    "    \n",
    "kwonly(1)\n",
    "# 1 spam ham\n",
    "kwonly(1, c=3)\n",
    "# 1 spam 3\n",
    "kwonly(a=1)\n",
    "# 1 spam ham\n",
    "kwonly(c=3, b=2, a=1)\n",
    "# 1 2 3"
   ]
  },
  {
   "cell_type": "code",
   "execution_count": 60,
   "metadata": {
    "collapsed": false
   },
   "outputs": [
    {
     "ename": "SyntaxError",
     "evalue": "invalid syntax (<ipython-input-60-89d1ffaaa69f>, line 1)",
     "output_type": "error",
     "traceback": [
      "\u001b[0;36m  File \u001b[0;32m\"<ipython-input-60-89d1ffaaa69f>\"\u001b[0;36m, line \u001b[0;32m1\u001b[0m\n\u001b[0;31m    def kwonly(a, **pargs, b, c):    # invalid syntax\u001b[0m\n\u001b[0m                         ^\u001b[0m\n\u001b[0;31mSyntaxError\u001b[0m\u001b[0;31m:\u001b[0m invalid syntax\n"
     ]
    }
   ],
   "source": [
    "def kwonly(a, **pargs, b, c):    # invalid syntax\n",
    "    #** have to be at the end???\n",
    "def f(a, *b, **d, c=6): print(a, b, c, d) # SyntaxError: invalid syntax\n",
    "def f(a, *b, c=6, **d): \n",
    "    print(a, b, c, d) \n",
    "\n",
    "f(1, 2, 3, x=4, y=5)        # 1 (2, 3) 6 {'y': 5, 'x': 4}\n",
    "\n",
    "f(1, 2, 3, x=4, y=5, c=7)   # 1 (2, 3) 7 {'y': 5, 'x': 4}\n"
   ]
  },
  {
   "cell_type": "code",
   "execution_count": null,
   "metadata": {
    "collapsed": true
   },
   "outputs": [],
   "source": [
    "def add_to_list(L,value):\n",
    "    L.append(value)\n",
    "    L.append(value)"
   ]
  },
  {
   "cell_type": "markdown",
   "metadata": {},
   "source": [
    "##  Function Design Concepts\n",
    "* Coupling: use arguments for inputs and return for outputs\n",
    "* Coupling: use global variables only when truly necessary\n",
    "* Coupling: don’t change mutable arguments unless the caller expects it.\n",
    "* Cohesion: each function should have a single, unified purpose.\n",
    "* Size: each function should be relatively small. \n",
    "* Coupling: avoid changing variables in another module file directly."
   ]
  },
  {
   "cell_type": "markdown",
   "metadata": {},
   "source": [
    "## Recursion Function "
   ]
  },
  {
   "cell_type": "code",
   "execution_count": 69,
   "metadata": {
    "collapsed": true
   },
   "outputs": [],
   "source": [
    "def mysum(L): \n",
    "    if not L:\n",
    "        return 0 \n",
    "    else:\n",
    "        return L[0] + mysum(L[1:])          # Call mysum recursively"
   ]
  },
  {
   "cell_type": "code",
   "execution_count": 70,
   "metadata": {
    "collapsed": true
   },
   "outputs": [],
   "source": [
    "def mysum(L):\n",
    "    return 0 if not L else L[0] + mysum(L[1:])      # Use ternary expression"
   ]
  },
  {
   "cell_type": "code",
   "execution_count": 68,
   "metadata": {
    "collapsed": false
   },
   "outputs": [
    {
     "data": {
      "text/plain": [
       "'\\n[1, 2, 3, 4, 5]\\n[2, 3, 4, 5]\\n[3, 4, 5]\\n[4, 5]\\n[5] \\n[] \\n15\\n'"
      ]
     },
     "execution_count": 68,
     "metadata": {},
     "output_type": "execute_result"
    }
   ],
   "source": [
    "mysum([1, 2, 3, 4, 5])\n",
    "'''\n",
    "[1, 2, 3, 4, 5]\n",
    "[2, 3, 4, 5]\n",
    "[3, 4, 5]\n",
    "[4, 5]\n",
    "[5] \n",
    "[] \n",
    "15\n",
    "'''"
   ]
  },
  {
   "cell_type": "code",
   "execution_count": 72,
   "metadata": {
    "collapsed": false
   },
   "outputs": [],
   "source": [
    " mysum(('s', 'p', 'a', 'm'))"
   ]
  },
  {
   "cell_type": "code",
   "execution_count": 67,
   "metadata": {
    "collapsed": false
   },
   "outputs": [
    {
     "name": "stdout",
     "output_type": "stream",
     "text": [
      "5\n"
     ]
    }
   ],
   "source": [
    "#example\n",
    "a = 3\n",
    "b=2\n",
    "x=5\n",
    "z=a+b if x>4else 1\n",
    "print(z)"
   ]
  },
  {
   "cell_type": "markdown",
   "metadata": {},
   "source": [
    "## Lambda Functions"
   ]
  },
  {
   "cell_type": "markdown",
   "metadata": {},
   "source": [
    "* lambda argument1, argument2,... argumentN : expression using arguments\n",
    "* lambda is an expression, not a statement.\n",
    "* lambda’s body is a single expression, not a block of statements. "
   ]
  },
  {
   "cell_type": "code",
   "execution_count": 78,
   "metadata": {
    "collapsed": false,
    "scrolled": true
   },
   "outputs": [
    {
     "data": {
      "text/plain": [
       "9"
      ]
     },
     "execution_count": 78,
     "metadata": {},
     "output_type": "execute_result"
    }
   ],
   "source": [
    "def func(x, y, z): return x + y + z\n",
    "f = lambda x, y, z: x + y + z\n",
    "f(2, 3, 4)"
   ]
  },
  {
   "cell_type": "code",
   "execution_count": 84,
   "metadata": {
    "collapsed": false,
    "scrolled": false
   },
   "outputs": [
    {
     "data": {
      "text/plain": [
       "'weefiefoe'"
      ]
     },
     "execution_count": 84,
     "metadata": {},
     "output_type": "execute_result"
    }
   ],
   "source": [
    "#lambda functions is \n",
    "x = (lambda a=\"fee\", b=\"fie\", c=\"foe\": a + b + c)\n",
    "x(\"wee\")"
   ]
  },
  {
   "cell_type": "code",
   "execution_count": 95,
   "metadata": {
    "collapsed": false
   },
   "outputs": [
    {
     "data": {
      "text/plain": [
       "([3, 4, 5, 6, 7], [3, 4, 5, 6, 7])"
      ]
     },
     "execution_count": 95,
     "metadata": {},
     "output_type": "execute_result"
    }
   ],
   "source": [
    "table={\n",
    "row0[1,2,3,4,5]\n",
    "row1[2,3,4,5,6]\n",
    "row2[3,4,5,6,7]\n",
    "}"
   ]
  },
  {
   "cell_type": "code",
   "execution_count": null,
   "metadata": {
    "collapsed": true
   },
   "outputs": [],
   "source": [
    "#method1\n",
    "value_list = table.apply(lambda row:row[1])\n",
    "print(value_list)"
   ]
  },
  {
   "cell_type": "code",
   "execution_count": null,
   "metadata": {
    "collapsed": true
   },
   "outputs": [],
   "source": [
    "#method2\n",
    "for row in table:\n",
    "    return row[0]"
   ]
  },
  {
   "cell_type": "code",
   "execution_count": null,
   "metadata": {
    "collapsed": true
   },
   "outputs": [],
   "source": [
    "#method3\n",
    "count =0\n",
    "values_list =[]\n",
    "while(i<len.(table)):\n",
    "    row = table[i]\n",
    "    values_list.append(row[1])"
   ]
  },
  {
   "cell_type": "markdown",
   "metadata": {},
   "source": [
    "# Understanding Modules"
   ]
  },
  {
   "cell_type": "code",
   "execution_count": 96,
   "metadata": {
    "collapsed": false
   },
   "outputs": [],
   "source": [
    "import  vs from\n",
    "a. Find the module’s file.\n",
    "    1. The home directory of the program\n",
    "    2. PYTHONPATH directories (if set)\n",
    "    3. Standard library directories\n",
    "    4. The contents of any .pth files (if present)\n",
    "    5. The site-packages home of third-party extensions\n",
    "b. Compile it to byte code (if needed).\n",
    "c. Run the module’s code to build the objects it defines.\n",
    "\n",
    "import dir1.dir2.mod\n",
    "from dir1.dir2.mod import x"
   ]
  },
  {
   "cell_type": "code",
   "execution_count": null,
   "metadata": {
    "collapsed": true
   },
   "outputs": [],
   "source": [
    "def spam(text):                  # File b.py \n",
    "    print(text, 'spam')\n",
    "import b                         # File a.py \n",
    "b.spam('gumby')                  # Prints \"gumby spam\""
   ]
  },
  {
   "cell_type": "code",
   "execution_count": 104,
   "metadata": {
    "collapsed": false
   },
   "outputs": [],
   "source": [
    "import module1                   # Get module as a whole (one or more) \n",
    "module1.printer('Hello world!')  # Qualify to get names\n",
    "\n",
    "from module1 import printer      # Copy out a variable (one or more) \n",
    "printer('Hello world!')          # No need to qualify name\n",
    "\n",
    "from module1 import * # Copy out _all_ variables \n",
    "printer('Hello world!')"
   ]
  },
  {
   "cell_type": "code",
   "execution_count": null,
   "metadata": {
    "collapsed": true
   },
   "outputs": [],
   "source": [
    "from small import x, y \n",
    "x = 42                      # Immutable\n",
    "y[0] = 42                   # Mutable"
   ]
  },
  {
   "cell_type": "code",
   "execution_count": 100,
   "metadata": {
    "collapsed": false
   },
   "outputs": [],
   "source": [
    "# Help.py"
   ]
  },
  {
   "cell_type": "code",
   "execution_count": null,
   "metadata": {
    "collapsed": true
   },
   "outputs": [],
   "source": []
  },
  {
   "cell_type": "code",
   "execution_count": null,
   "metadata": {
    "collapsed": true
   },
   "outputs": [],
   "source": []
  },
  {
   "cell_type": "markdown",
   "metadata": {},
   "source": [
    "## Exception "
   ]
  },
  {
   "cell_type": "markdown",
   "metadata": {},
   "source": [
    "try/except\n",
    "    Catch and recover from exceptions raised by Python, or by you.\n",
    "try/finally\n",
    "    Perform cleanup actions, whether exceptions occur or not.\n",
    "raise\n",
    "    Trigger an exception manually in your code.\n",
    "assert\n",
    "    Conditionally trigger an exception in your code."
   ]
  },
  {
   "cell_type": "code",
   "execution_count": null,
   "metadata": {
    "collapsed": true
   },
   "outputs": [],
   "source": [
    "def fetcher(obj, index): \n",
    "    return obj[index]\n",
    "x = 'spam'\n",
    "fetcher(x, 3)          # 'm'\n",
    "fetcher(x, 4)          # Gives IndexError."
   ]
  },
  {
   "cell_type": "code",
   "execution_count": null,
   "metadata": {
    "collapsed": true
   },
   "outputs": [],
   "source": [
    "try:\n",
    "    fetcher(x, 4)\n",
    "except IndexError: \n",
    "    print('got exception')"
   ]
  },
  {
   "cell_type": "code",
   "execution_count": null,
   "metadata": {
    "collapsed": true
   },
   "outputs": [],
   "source": [
    "try:\n",
    "    statements              # Run this main action first\n",
    "except name1:\n",
    "    statements              # Run if name1 is raised during try block\n",
    "except (name2, name3):\n",
    "    statements              # Run if any of these exceptions occur\n",
    "except name4 as var:        \n",
    "    statements              # Run if name4 is raised, assign instance raised to var\n",
    "except:\n",
    "    statements              # Run for all other exceptions raised\n",
    "else:\n",
    "    statements              # Run if no exception was raised during try block"
   ]
  },
  {
   "cell_type": "code",
   "execution_count": null,
   "metadata": {
    "collapsed": true
   },
   "outputs": [],
   "source": [
    "try:\n",
    "    raise IndexError\n",
    "except IndexError: \n",
    "    print('got exception')"
   ]
  },
  {
   "cell_type": "code",
   "execution_count": null,
   "metadata": {
    "collapsed": true
   },
   "outputs": [],
   "source": [
    "try:\n",
    "    fetcher(x, 3)\n",
    "finally:\n",
    "    print('after fetch')"
   ]
  },
  {
   "cell_type": "markdown",
   "metadata": {
    "collapsed": true
   },
   "source": [
    "## Datetime Module"
   ]
  },
  {
   "cell_type": "code",
   "execution_count": 97,
   "metadata": {
    "collapsed": false
   },
   "outputs": [
    {
     "name": "stdout",
     "output_type": "stream",
     "text": [
      "d1 : 2017-02-14 20:17:00.791470\n",
      "d2 : 2017-02-14\n",
      "d3 : 2017-02-14\n",
      "d4 : 14\n",
      "d5 : 1\n",
      "d6 : 2017-02-15\n",
      "d7 : 2016-10-01\n",
      "d8 : Saturday_01\n"
     ]
    }
   ],
   "source": [
    "from datetime import datetime,date,timedelta\n",
    "d1 = datetime.now()\n",
    "print('d1 :',d1)\n",
    "d2 = d1.date()\n",
    "print('d2 :',d2)\n",
    "d3 = date.today()\n",
    "print('d3 :',d3)\n",
    "d4 = d3.day          # day,month,year\n",
    "# https://docs.python.org/2/library/datetime.html#datetime-objects\n",
    "print('d4 :',d4)\n",
    "d5 = d3.weekday()\n",
    "print('d5 :',d5)       # Monday is 0, sunday is 6\n",
    "d6 = d2 + timedelta(days=1)\n",
    "print('d6 :',d6)\n",
    "d7 = datetime.strptime('2016-10-01','%Y-%m-%d').date()\n",
    "print('d7 :',d7)\n",
    "d8 = d7.strftime('%A_%d')\n",
    "print('d8 :',d8)"
   ]
  },
  {
   "cell_type": "code",
   "execution_count": null,
   "metadata": {
    "collapsed": false
   },
   "outputs": [],
   "source": []
  }
 ],
 "metadata": {
  "anaconda-cloud": {},
  "kernelspec": {
   "display_name": "Python [default]",
   "language": "python",
   "name": "python3"
  },
  "language_info": {
   "codemirror_mode": {
    "name": "ipython",
    "version": 3
   },
   "file_extension": ".py",
   "mimetype": "text/x-python",
   "name": "python",
   "nbconvert_exporter": "python",
   "pygments_lexer": "ipython3",
   "version": "3.5.2"
  }
 },
 "nbformat": 4,
 "nbformat_minor": 0
}
