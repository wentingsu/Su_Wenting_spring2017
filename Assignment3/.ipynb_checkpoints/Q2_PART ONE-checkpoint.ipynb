{
 "cells": [
  {
   "cell_type": "markdown",
   "metadata": {},
   "source": [
    "## EMPLOYEE COMPENSATION ANALYSIS\n",
    "### Q2_PART ONE\n",
    "* Use 'employee_compensation' data set.\n",
    "* Find out the highest paid departments in each organization group by calculating mean of total compensation for every department.\n",
    "* Output should contain the organization group and the departments in each organization group with the total compensation from highest to lowest value.\n",
    "* Display a few rows of the output use df.head().\n",
    "* Generate a csv output."
   ]
  },
  {
   "cell_type": "code",
   "execution_count": 242,
   "metadata": {
    "collapsed": true
   },
   "outputs": [],
   "source": [
    "from pandas import Series, DataFrame\n",
    "import pandas as pd\n",
    "import csv"
   ]
  },
  {
   "cell_type": "code",
   "execution_count": 243,
   "metadata": {
    "collapsed": true
   },
   "outputs": [],
   "source": [
    "employee = pd.read_csv('Data/employee_compensation.csv')"
   ]
  },
  {
   "cell_type": "code",
   "execution_count": 244,
   "metadata": {
    "collapsed": false
   },
   "outputs": [
    {
     "data": {
      "text/html": [
       "<div>\n",
       "<table border=\"1\" class=\"dataframe\">\n",
       "  <thead>\n",
       "    <tr style=\"text-align: right;\">\n",
       "      <th></th>\n",
       "      <th>Year Type</th>\n",
       "      <th>Year</th>\n",
       "      <th>Organization Group Code</th>\n",
       "      <th>Organization Group</th>\n",
       "      <th>Department Code</th>\n",
       "      <th>Department</th>\n",
       "      <th>Union Code</th>\n",
       "      <th>Union</th>\n",
       "      <th>Job Family Code</th>\n",
       "      <th>Job Family</th>\n",
       "      <th>...</th>\n",
       "      <th>Employee Identifier</th>\n",
       "      <th>Salaries</th>\n",
       "      <th>Overtime</th>\n",
       "      <th>Other Salaries</th>\n",
       "      <th>Total Salary</th>\n",
       "      <th>Retirement</th>\n",
       "      <th>Health/Dental</th>\n",
       "      <th>Other Benefits</th>\n",
       "      <th>Total Benefits</th>\n",
       "      <th>Total Compensation</th>\n",
       "    </tr>\n",
       "  </thead>\n",
       "  <tbody>\n",
       "    <tr>\n",
       "      <th>0</th>\n",
       "      <td>Calendar</td>\n",
       "      <td>2013</td>\n",
       "      <td>2</td>\n",
       "      <td>Public Works, Transportation &amp; Commerce</td>\n",
       "      <td>AIR</td>\n",
       "      <td>Airport Commission</td>\n",
       "      <td>38.0</td>\n",
       "      <td>Plumbers and Pipefitters, Local 38</td>\n",
       "      <td>7300</td>\n",
       "      <td>Journeyman Trade</td>\n",
       "      <td>...</td>\n",
       "      <td>52206</td>\n",
       "      <td>98528.52</td>\n",
       "      <td>0.00</td>\n",
       "      <td>3955.59</td>\n",
       "      <td>102484.11</td>\n",
       "      <td>20142.55</td>\n",
       "      <td>12918.24</td>\n",
       "      <td>8371.76</td>\n",
       "      <td>41432.55</td>\n",
       "      <td>143916.66</td>\n",
       "    </tr>\n",
       "    <tr>\n",
       "      <th>1</th>\n",
       "      <td>Fiscal</td>\n",
       "      <td>2015</td>\n",
       "      <td>4</td>\n",
       "      <td>Community Health</td>\n",
       "      <td>DPH</td>\n",
       "      <td>Public Health</td>\n",
       "      <td>790.0</td>\n",
       "      <td>SEIU - Miscellaneous, Local 1021</td>\n",
       "      <td>2600</td>\n",
       "      <td>Dietary &amp; Food</td>\n",
       "      <td>...</td>\n",
       "      <td>52950</td>\n",
       "      <td>69169.82</td>\n",
       "      <td>755.02</td>\n",
       "      <td>4179.08</td>\n",
       "      <td>74103.92</td>\n",
       "      <td>15641.92</td>\n",
       "      <td>12499.30</td>\n",
       "      <td>5669.02</td>\n",
       "      <td>33810.24</td>\n",
       "      <td>107914.16</td>\n",
       "    </tr>\n",
       "    <tr>\n",
       "      <th>2</th>\n",
       "      <td>Calendar</td>\n",
       "      <td>2016</td>\n",
       "      <td>3</td>\n",
       "      <td>Human Welfare &amp; Neighborhood Development</td>\n",
       "      <td>WOM</td>\n",
       "      <td>Department of the Status of Women</td>\n",
       "      <td>323.0</td>\n",
       "      <td>Members of Boards and Commissions</td>\n",
       "      <td>0900</td>\n",
       "      <td>Management</td>\n",
       "      <td>...</td>\n",
       "      <td>33958</td>\n",
       "      <td>200.00</td>\n",
       "      <td>0.00</td>\n",
       "      <td>0.00</td>\n",
       "      <td>200.00</td>\n",
       "      <td>0.00</td>\n",
       "      <td>51.45</td>\n",
       "      <td>15.83</td>\n",
       "      <td>67.28</td>\n",
       "      <td>267.28</td>\n",
       "    </tr>\n",
       "    <tr>\n",
       "      <th>3</th>\n",
       "      <td>Calendar</td>\n",
       "      <td>2016</td>\n",
       "      <td>6</td>\n",
       "      <td>General Administration &amp; Finance</td>\n",
       "      <td>HRD</td>\n",
       "      <td>Human Resources</td>\n",
       "      <td>790.0</td>\n",
       "      <td>SEIU - Miscellaneous, Local 1021</td>\n",
       "      <td>8100</td>\n",
       "      <td>Legal &amp; Court</td>\n",
       "      <td>...</td>\n",
       "      <td>33073</td>\n",
       "      <td>1783.00</td>\n",
       "      <td>0.00</td>\n",
       "      <td>0.00</td>\n",
       "      <td>1783.00</td>\n",
       "      <td>325.05</td>\n",
       "      <td>257.23</td>\n",
       "      <td>153.85</td>\n",
       "      <td>736.13</td>\n",
       "      <td>2519.13</td>\n",
       "    </tr>\n",
       "    <tr>\n",
       "      <th>4</th>\n",
       "      <td>Fiscal</td>\n",
       "      <td>2015</td>\n",
       "      <td>5</td>\n",
       "      <td>Culture &amp; Recreation</td>\n",
       "      <td>REC</td>\n",
       "      <td>Recreation and Park Commission</td>\n",
       "      <td>790.0</td>\n",
       "      <td>SEIU - Miscellaneous, Local 1021</td>\n",
       "      <td>9900</td>\n",
       "      <td>Public Service Aide</td>\n",
       "      <td>...</td>\n",
       "      <td>15849</td>\n",
       "      <td>1102.50</td>\n",
       "      <td>0.00</td>\n",
       "      <td>0.00</td>\n",
       "      <td>1102.50</td>\n",
       "      <td>0.00</td>\n",
       "      <td>538.82</td>\n",
       "      <td>85.36</td>\n",
       "      <td>624.18</td>\n",
       "      <td>1726.68</td>\n",
       "    </tr>\n",
       "  </tbody>\n",
       "</table>\n",
       "<p>5 rows × 22 columns</p>\n",
       "</div>"
      ],
      "text/plain": [
       "  Year Type  Year  Organization Group Code  \\\n",
       "0  Calendar  2013                        2   \n",
       "1    Fiscal  2015                        4   \n",
       "2  Calendar  2016                        3   \n",
       "3  Calendar  2016                        6   \n",
       "4    Fiscal  2015                        5   \n",
       "\n",
       "                         Organization Group Department Code  \\\n",
       "0   Public Works, Transportation & Commerce             AIR   \n",
       "1                          Community Health             DPH   \n",
       "2  Human Welfare & Neighborhood Development             WOM   \n",
       "3          General Administration & Finance             HRD   \n",
       "4                      Culture & Recreation             REC   \n",
       "\n",
       "                          Department  Union Code  \\\n",
       "0                 Airport Commission        38.0   \n",
       "1                      Public Health       790.0   \n",
       "2  Department of the Status of Women       323.0   \n",
       "3                    Human Resources       790.0   \n",
       "4     Recreation and Park Commission       790.0   \n",
       "\n",
       "                                Union Job Family Code           Job Family  \\\n",
       "0  Plumbers and Pipefitters, Local 38            7300     Journeyman Trade   \n",
       "1    SEIU - Miscellaneous, Local 1021            2600       Dietary & Food   \n",
       "2   Members of Boards and Commissions            0900           Management   \n",
       "3    SEIU - Miscellaneous, Local 1021            8100        Legal & Court   \n",
       "4    SEIU - Miscellaneous, Local 1021            9900  Public Service Aide   \n",
       "\n",
       "          ...         Employee Identifier  Salaries  Overtime  Other Salaries  \\\n",
       "0         ...                       52206  98528.52      0.00         3955.59   \n",
       "1         ...                       52950  69169.82    755.02         4179.08   \n",
       "2         ...                       33958    200.00      0.00            0.00   \n",
       "3         ...                       33073   1783.00      0.00            0.00   \n",
       "4         ...                       15849   1102.50      0.00            0.00   \n",
       "\n",
       "   Total Salary  Retirement  Health/Dental  Other Benefits  Total Benefits  \\\n",
       "0     102484.11    20142.55       12918.24         8371.76        41432.55   \n",
       "1      74103.92    15641.92       12499.30         5669.02        33810.24   \n",
       "2        200.00        0.00          51.45           15.83           67.28   \n",
       "3       1783.00      325.05         257.23          153.85          736.13   \n",
       "4       1102.50        0.00         538.82           85.36          624.18   \n",
       "\n",
       "   Total Compensation  \n",
       "0           143916.66  \n",
       "1           107914.16  \n",
       "2              267.28  \n",
       "3             2519.13  \n",
       "4             1726.68  \n",
       "\n",
       "[5 rows x 22 columns]"
      ]
     },
     "execution_count": 244,
     "metadata": {},
     "output_type": "execute_result"
    }
   ],
   "source": [
    "employee.head()"
   ]
  },
  {
   "cell_type": "code",
   "execution_count": 371,
   "metadata": {
    "collapsed": false
   },
   "outputs": [],
   "source": [
    "groupName = employee['Organization Group'].unique()"
   ]
  },
  {
   "cell_type": "code",
   "execution_count": 372,
   "metadata": {
    "collapsed": false
   },
   "outputs": [
    {
     "data": {
      "text/plain": [
       "array(['Public Works, Transportation & Commerce', 'Community Health',\n",
       "       'Human Welfare & Neighborhood Development',\n",
       "       'General Administration & Finance', 'Culture & Recreation',\n",
       "       'Public Protection', 'General City Responsibilities'], dtype=object)"
      ]
     },
     "execution_count": 372,
     "metadata": {},
     "output_type": "execute_result"
    }
   ],
   "source": [
    "# check the unique group name\n",
    "groupName "
   ]
  },
  {
   "cell_type": "code",
   "execution_count": 373,
   "metadata": {
    "collapsed": true
   },
   "outputs": [],
   "source": [
    "# define the function to get the mean of each department for each group\n",
    "def getDepMean(groupName):\n",
    "    # pass the groupName and get df of each group\n",
    "    group = employee[employee['Organization Group']==groupName] \n",
    "    # calculate each group's mean with each department\n",
    "    calMean = group.groupby('Department')['Total Compensation'].mean()\n",
    "    # extract the value and department name in the df\n",
    "    s1 = DataFrame(calMean.index)\n",
    "    s2 = DataFrame(calMean.values, columns=['Means'])\n",
    "    # combine the df and sort by the mean value and add the orfamization name column\n",
    "    frame = pd.concat([s1, s2], axis=1)\n",
    "    frame['Organization'] = groupName\n",
    "    frame.sort_values(by='Means',ascending=False)\n",
    "    # switch the clolumn to organize, group and means.\n",
    "    output = frame[['Organization','Department','Means']]\n",
    "    # return the output.\n",
    "    return output"
   ]
  },
  {
   "cell_type": "code",
   "execution_count": 375,
   "metadata": {
    "collapsed": false
   },
   "outputs": [],
   "source": [
    "group1 = getDepMean(groupName[0])\n",
    "group2 = getDepMean(groupName[1])\n",
    "group3 = getDepMean(groupName[2])\n",
    "group4 = getDepMean(groupName[3])\n",
    "group5 = getDepMean(groupName[4])\n",
    "group6 = getDepMean(groupName[5])\n",
    "group7 = getDepMean(groupName[6])"
   ]
  },
  {
   "cell_type": "code",
   "execution_count": 394,
   "metadata": {
    "collapsed": true
   },
   "outputs": [],
   "source": [
    "output = pd.concat([group1, group2,group3,group4,group5,group6], axis=0)"
   ]
  },
  {
   "cell_type": "code",
   "execution_count": 396,
   "metadata": {
    "collapsed": true
   },
   "outputs": [],
   "source": [
    "# Write DataFrame to CSV \n",
    "output.to_csv('Q2_PART ONE.csv')"
   ]
  },
  {
   "cell_type": "code",
   "execution_count": 397,
   "metadata": {
    "collapsed": false
   },
   "outputs": [
    {
     "data": {
      "text/html": [
       "<div>\n",
       "<table border=\"1\" class=\"dataframe\">\n",
       "  <thead>\n",
       "    <tr style=\"text-align: right;\">\n",
       "      <th></th>\n",
       "      <th>Organization</th>\n",
       "      <th>Department</th>\n",
       "      <th>Means</th>\n",
       "    </tr>\n",
       "  </thead>\n",
       "  <tbody>\n",
       "    <tr>\n",
       "      <th>0</th>\n",
       "      <td>Public Works, Transportation &amp; Commerce</td>\n",
       "      <td>Airport Commission</td>\n",
       "      <td>96191.578234</td>\n",
       "    </tr>\n",
       "    <tr>\n",
       "      <th>1</th>\n",
       "      <td>Public Works, Transportation &amp; Commerce</td>\n",
       "      <td>Board of Appeals</td>\n",
       "      <td>51990.634889</td>\n",
       "    </tr>\n",
       "    <tr>\n",
       "      <th>2</th>\n",
       "      <td>Public Works, Transportation &amp; Commerce</td>\n",
       "      <td>Department of Building Inspection</td>\n",
       "      <td>112051.615182</td>\n",
       "    </tr>\n",
       "    <tr>\n",
       "      <th>3</th>\n",
       "      <td>Public Works, Transportation &amp; Commerce</td>\n",
       "      <td>Economic and Workforce Development</td>\n",
       "      <td>106112.409432</td>\n",
       "    </tr>\n",
       "    <tr>\n",
       "      <th>4</th>\n",
       "      <td>Public Works, Transportation &amp; Commerce</td>\n",
       "      <td>General Services Agency - Public Works</td>\n",
       "      <td>89741.682567</td>\n",
       "    </tr>\n",
       "  </tbody>\n",
       "</table>\n",
       "</div>"
      ],
      "text/plain": [
       "                              Organization  \\\n",
       "0  Public Works, Transportation & Commerce   \n",
       "1  Public Works, Transportation & Commerce   \n",
       "2  Public Works, Transportation & Commerce   \n",
       "3  Public Works, Transportation & Commerce   \n",
       "4  Public Works, Transportation & Commerce   \n",
       "\n",
       "                               Department          Means  \n",
       "0                      Airport Commission   96191.578234  \n",
       "1                        Board of Appeals   51990.634889  \n",
       "2       Department of Building Inspection  112051.615182  \n",
       "3      Economic and Workforce Development  106112.409432  \n",
       "4  General Services Agency - Public Works   89741.682567  "
      ]
     },
     "execution_count": 397,
     "metadata": {},
     "output_type": "execute_result"
    }
   ],
   "source": [
    "output.head()"
   ]
  },
  {
   "cell_type": "code",
   "execution_count": null,
   "metadata": {
    "collapsed": true
   },
   "outputs": [],
   "source": []
  }
 ],
 "metadata": {
  "anaconda-cloud": {},
  "kernelspec": {
   "display_name": "Python [conda root]",
   "language": "python",
   "name": "conda-root-py"
  },
  "language_info": {
   "codemirror_mode": {
    "name": "ipython",
    "version": 3
   },
   "file_extension": ".py",
   "mimetype": "text/x-python",
   "name": "python",
   "nbconvert_exporter": "python",
   "pygments_lexer": "ipython3",
   "version": "3.5.2"
  }
 },
 "nbformat": 4,
 "nbformat_minor": 1
}
