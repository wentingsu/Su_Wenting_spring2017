{
 "cells": [
  {
   "cell_type": "markdown",
   "metadata": {},
   "source": [
    "## MOVIE AWARDS ANALYSIS\n",
    "### Q4_PART ONE\n",
    "* Use ‘movies_awards’ data set.\n",
    "* You are supposed to extract data from the awards column in this dataset and split it into several columns. An example is given below.\n",
    "* The awards has details of wins, nominations in general and also wins and nominations in certain categories(e.g. Oscar, BAFTA etc.)\n",
    "* You are supposed to create a win and nominated column (these 2 columns contain total number of wins and nominations) and other columns that extract the number of wins and nominations for each category of award.\n",
    "* If a movie has 2 Oscar nominations and 4 Oscar won, the columns Oscar_Awards_Won should have value 4 and Oscar_Awards_Nominated should have value 2. You should also have a total won and nominated column which aggregates all the awards (won or nominated).\n",
    "* Create two separate columns for each award category (won and nominated).\n",
    "* Write your output to a csv file. (Sample output is given in next page)"
   ]
  },
  {
   "cell_type": "code",
   "execution_count": 1,
   "metadata": {
    "collapsed": true
   },
   "outputs": [],
   "source": [
    "from pandas import Series, DataFrame\n",
    "import pandas as pd\n",
    "import csv"
   ]
  },
  {
   "cell_type": "code",
   "execution_count": 2,
   "metadata": {
    "collapsed": true
   },
   "outputs": [],
   "source": [
    "movies = pd.read_csv('Data/movies_awards.csv')"
   ]
  },
  {
   "cell_type": "code",
   "execution_count": 3,
   "metadata": {
    "collapsed": false
   },
   "outputs": [
    {
     "data": {
      "text/html": [
       "<div>\n",
       "<table border=\"1\" class=\"dataframe\">\n",
       "  <thead>\n",
       "    <tr style=\"text-align: right;\">\n",
       "      <th></th>\n",
       "      <th>totalSeasons</th>\n",
       "      <th>Plot</th>\n",
       "      <th>Rated</th>\n",
       "      <th>Response</th>\n",
       "      <th>Language</th>\n",
       "      <th>Title</th>\n",
       "      <th>Country</th>\n",
       "      <th>Writer</th>\n",
       "      <th>Metascore</th>\n",
       "      <th>imdbRating</th>\n",
       "      <th>...</th>\n",
       "      <th>Released</th>\n",
       "      <th>Actors</th>\n",
       "      <th>Year</th>\n",
       "      <th>Genre</th>\n",
       "      <th>Awards</th>\n",
       "      <th>Runtime</th>\n",
       "      <th>Type</th>\n",
       "      <th>Poster</th>\n",
       "      <th>imdbVotes</th>\n",
       "      <th>imdbID</th>\n",
       "    </tr>\n",
       "  </thead>\n",
       "  <tbody>\n",
       "    <tr>\n",
       "      <th>0</th>\n",
       "      <td>none</td>\n",
       "      <td>NaN</td>\n",
       "      <td>NaN</td>\n",
       "      <td>True</td>\n",
       "      <td>English</td>\n",
       "      <td>Book of Love: The Definitive Reason Why Men Ar...</td>\n",
       "      <td>USA</td>\n",
       "      <td>Jeffrey W. Byrd; Eric George</td>\n",
       "      <td>NaN</td>\n",
       "      <td>6.6</td>\n",
       "      <td>...</td>\n",
       "      <td>14 Feb 2002</td>\n",
       "      <td>40 Glocc; Angelle Brooks; David Brown; Qadr Ca...</td>\n",
       "      <td>2002</td>\n",
       "      <td>Romance; Comedy</td>\n",
       "      <td>NaN</td>\n",
       "      <td>91 min</td>\n",
       "      <td>movie</td>\n",
       "      <td>NaN</td>\n",
       "      <td>79.0</td>\n",
       "      <td>tt0156376</td>\n",
       "    </tr>\n",
       "    <tr>\n",
       "      <th>1</th>\n",
       "      <td>none</td>\n",
       "      <td>NaN</td>\n",
       "      <td>NaN</td>\n",
       "      <td>True</td>\n",
       "      <td>Swedish</td>\n",
       "      <td>Anderssons älskarinna</td>\n",
       "      <td>Sweden</td>\n",
       "      <td>NaN</td>\n",
       "      <td>NaN</td>\n",
       "      <td>7.4</td>\n",
       "      <td>...</td>\n",
       "      <td>12 Feb 2001</td>\n",
       "      <td>Jakob Eklund; Ebba Forsberg; Örjan Landström; ...</td>\n",
       "      <td>2001</td>\n",
       "      <td>Drama</td>\n",
       "      <td>NaN</td>\n",
       "      <td>347 min</td>\n",
       "      <td>movie</td>\n",
       "      <td>NaN</td>\n",
       "      <td>34.0</td>\n",
       "      <td>tt0201374</td>\n",
       "    </tr>\n",
       "    <tr>\n",
       "      <th>2</th>\n",
       "      <td>none</td>\n",
       "      <td>NaN</td>\n",
       "      <td>NaN</td>\n",
       "      <td>True</td>\n",
       "      <td>English</td>\n",
       "      <td>Bad Blood</td>\n",
       "      <td>UK</td>\n",
       "      <td>Tony Marchant</td>\n",
       "      <td>NaN</td>\n",
       "      <td>5.6</td>\n",
       "      <td>...</td>\n",
       "      <td>11 Jan 2001</td>\n",
       "      <td>Emilia Fox; Serban Celea; Alex Jennings; Steve...</td>\n",
       "      <td>2001</td>\n",
       "      <td>NaN</td>\n",
       "      <td>NaN</td>\n",
       "      <td>NaN</td>\n",
       "      <td>movie</td>\n",
       "      <td>NaN</td>\n",
       "      <td>8.0</td>\n",
       "      <td>tt0207989</td>\n",
       "    </tr>\n",
       "    <tr>\n",
       "      <th>3</th>\n",
       "      <td>none</td>\n",
       "      <td>A historical classic drama in three acts; reto...</td>\n",
       "      <td>NaN</td>\n",
       "      <td>True</td>\n",
       "      <td>Portuguese</td>\n",
       "      <td>Who Are You?</td>\n",
       "      <td>Portugal</td>\n",
       "      <td>João Botelho; Almeida Garrett (play)</td>\n",
       "      <td>NaN</td>\n",
       "      <td>6.1</td>\n",
       "      <td>...</td>\n",
       "      <td>23 Nov 2001</td>\n",
       "      <td>Patrícia Guerreiro; Suzana Borges; Rui Morisso...</td>\n",
       "      <td>2001</td>\n",
       "      <td>Drama; History</td>\n",
       "      <td>1 win &amp; 2 nominations.</td>\n",
       "      <td>112 min</td>\n",
       "      <td>movie</td>\n",
       "      <td>http://ia.media-imdb.com/images/M/MV5BMTM1Mjdi...</td>\n",
       "      <td>189.0</td>\n",
       "      <td>tt0210930</td>\n",
       "    </tr>\n",
       "    <tr>\n",
       "      <th>4</th>\n",
       "      <td>none</td>\n",
       "      <td>A father (Williams) suspects his son (Jackson)...</td>\n",
       "      <td>R</td>\n",
       "      <td>True</td>\n",
       "      <td>English</td>\n",
       "      <td>Skeletons in the Closet</td>\n",
       "      <td>USA</td>\n",
       "      <td>Donna Powers; Wayne Powers</td>\n",
       "      <td>NaN</td>\n",
       "      <td>5.4</td>\n",
       "      <td>...</td>\n",
       "      <td>24 Jul 2001</td>\n",
       "      <td>Treat Williams; Linda Hamilton; Jonathan Jacks...</td>\n",
       "      <td>2001</td>\n",
       "      <td>Crime; Drama; Mystery</td>\n",
       "      <td>1 win.</td>\n",
       "      <td>100 min</td>\n",
       "      <td>movie</td>\n",
       "      <td>http://ia.media-imdb.com/images/M/MV5BMjA0NjA2...</td>\n",
       "      <td>603.0</td>\n",
       "      <td>tt0212513</td>\n",
       "    </tr>\n",
       "  </tbody>\n",
       "</table>\n",
       "<p>5 rows × 21 columns</p>\n",
       "</div>"
      ],
      "text/plain": [
       "  totalSeasons                                               Plot Rated  \\\n",
       "0         none                                                NaN   NaN   \n",
       "1         none                                                NaN   NaN   \n",
       "2         none                                                NaN   NaN   \n",
       "3         none  A historical classic drama in three acts; reto...   NaN   \n",
       "4         none  A father (Williams) suspects his son (Jackson)...     R   \n",
       "\n",
       "  Response    Language                                              Title  \\\n",
       "0     True     English  Book of Love: The Definitive Reason Why Men Ar...   \n",
       "1     True     Swedish                              Anderssons älskarinna   \n",
       "2     True     English                                          Bad Blood   \n",
       "3     True  Portuguese                                       Who Are You?   \n",
       "4     True     English                            Skeletons in the Closet   \n",
       "\n",
       "    Country                                Writer  Metascore  imdbRating  \\\n",
       "0       USA          Jeffrey W. Byrd; Eric George        NaN         6.6   \n",
       "1    Sweden                                   NaN        NaN         7.4   \n",
       "2        UK                         Tony Marchant        NaN         5.6   \n",
       "3  Portugal  João Botelho; Almeida Garrett (play)        NaN         6.1   \n",
       "4       USA            Donna Powers; Wayne Powers        NaN         5.4   \n",
       "\n",
       "     ...         Released                                             Actors  \\\n",
       "0    ...      14 Feb 2002  40 Glocc; Angelle Brooks; David Brown; Qadr Ca...   \n",
       "1    ...      12 Feb 2001  Jakob Eklund; Ebba Forsberg; Örjan Landström; ...   \n",
       "2    ...      11 Jan 2001  Emilia Fox; Serban Celea; Alex Jennings; Steve...   \n",
       "3    ...      23 Nov 2001  Patrícia Guerreiro; Suzana Borges; Rui Morisso...   \n",
       "4    ...      24 Jul 2001  Treat Williams; Linda Hamilton; Jonathan Jacks...   \n",
       "\n",
       "   Year                  Genre                  Awards  Runtime   Type  \\\n",
       "0  2002        Romance; Comedy                     NaN   91 min  movie   \n",
       "1  2001                  Drama                     NaN  347 min  movie   \n",
       "2  2001                    NaN                     NaN      NaN  movie   \n",
       "3  2001         Drama; History  1 win & 2 nominations.  112 min  movie   \n",
       "4  2001  Crime; Drama; Mystery                  1 win.  100 min  movie   \n",
       "\n",
       "                                              Poster imdbVotes     imdbID  \n",
       "0                                                NaN      79.0  tt0156376  \n",
       "1                                                NaN      34.0  tt0201374  \n",
       "2                                                NaN       8.0  tt0207989  \n",
       "3  http://ia.media-imdb.com/images/M/MV5BMTM1Mjdi...     189.0  tt0210930  \n",
       "4  http://ia.media-imdb.com/images/M/MV5BMjA0NjA2...     603.0  tt0212513  \n",
       "\n",
       "[5 rows x 21 columns]"
      ]
     },
     "execution_count": 3,
     "metadata": {},
     "output_type": "execute_result"
    }
   ],
   "source": [
    "movies.head()"
   ]
  },
  {
   "cell_type": "code",
   "execution_count": 13,
   "metadata": {
    "collapsed": false
   },
   "outputs": [],
   "source": [
    "df1 = DataFrame(movies['Awards'])"
   ]
  },
  {
   "cell_type": "code",
   "execution_count": 15,
   "metadata": {
    "collapsed": false
   },
   "outputs": [],
   "source": [
    "df = df1.dropna()"
   ]
  },
  {
   "cell_type": "code",
   "execution_count": 20,
   "metadata": {
    "collapsed": false
   },
   "outputs": [
    {
     "data": {
      "text/html": [
       "<div>\n",
       "<table border=\"1\" class=\"dataframe\">\n",
       "  <thead>\n",
       "    <tr style=\"text-align: right;\">\n",
       "      <th></th>\n",
       "      <th>Awards</th>\n",
       "    </tr>\n",
       "  </thead>\n",
       "  <tbody>\n",
       "    <tr>\n",
       "      <th>3</th>\n",
       "      <td>1 win &amp; 2 nominations.</td>\n",
       "    </tr>\n",
       "    <tr>\n",
       "      <th>4</th>\n",
       "      <td>1 win.</td>\n",
       "    </tr>\n",
       "    <tr>\n",
       "      <th>5</th>\n",
       "      <td>1 nomination.</td>\n",
       "    </tr>\n",
       "    <tr>\n",
       "      <th>6</th>\n",
       "      <td>3 wins &amp; 2 nominations.</td>\n",
       "    </tr>\n",
       "    <tr>\n",
       "      <th>7</th>\n",
       "      <td>1 win &amp; 1 nomination.</td>\n",
       "    </tr>\n",
       "    <tr>\n",
       "      <th>11</th>\n",
       "      <td>5 nominations.</td>\n",
       "    </tr>\n",
       "    <tr>\n",
       "      <th>13</th>\n",
       "      <td>2 wins &amp; 5 nominations.</td>\n",
       "    </tr>\n",
       "    <tr>\n",
       "      <th>15</th>\n",
       "      <td>Nominated for 1 Oscar. Another 13 wins &amp; 13 no...</td>\n",
       "    </tr>\n",
       "    <tr>\n",
       "      <th>18</th>\n",
       "      <td>5 wins &amp; 4 nominations.</td>\n",
       "    </tr>\n",
       "    <tr>\n",
       "      <th>24</th>\n",
       "      <td>Nominated for 1 Golden Globe. Another 14 wins ...</td>\n",
       "    </tr>\n",
       "  </tbody>\n",
       "</table>\n",
       "</div>"
      ],
      "text/plain": [
       "                                               Awards\n",
       "3                              1 win & 2 nominations.\n",
       "4                                              1 win.\n",
       "5                                       1 nomination.\n",
       "6                             3 wins & 2 nominations.\n",
       "7                               1 win & 1 nomination.\n",
       "11                                     5 nominations.\n",
       "13                            2 wins & 5 nominations.\n",
       "15  Nominated for 1 Oscar. Another 13 wins & 13 no...\n",
       "18                            5 wins & 4 nominations.\n",
       "24  Nominated for 1 Golden Globe. Another 14 wins ..."
      ]
     },
     "execution_count": 20,
     "metadata": {},
     "output_type": "execute_result"
    }
   ],
   "source": [
    "df.head(10)"
   ]
  },
  {
   "cell_type": "code",
   "execution_count": 68,
   "metadata": {
    "collapsed": true
   },
   "outputs": [],
   "source": [
    "df.to_csv('simple.csv')"
   ]
  },
  {
   "cell_type": "code",
   "execution_count": null,
   "metadata": {
    "collapsed": true
   },
   "outputs": [],
   "source": [
    "movie.title.apply(lambda x : int(x[-5:-1]) if x[-5:-1].isdigit() else 1990 ).tail()"
   ]
  },
  {
   "cell_type": "code",
   "execution_count": 23,
   "metadata": {
    "collapsed": false
   },
   "outputs": [
    {
     "data": {
      "text/plain": [
       "1    936\n",
       "2    338\n",
       "3    125\n",
       "N    111\n",
       "4     89\n",
       "5     59\n",
       "W     57\n",
       "6     41\n",
       "7     25\n",
       "8     24\n",
       "9     13\n",
       "Name: Awards, dtype: int64"
      ]
     },
     "execution_count": 23,
     "metadata": {},
     "output_type": "execute_result"
    }
   ],
   "source": [
    "df.Awards.apply(lambda x : x[0]).value_counts()"
   ]
  },
  {
   "cell_type": "code",
   "execution_count": 67,
   "metadata": {
    "collapsed": false
   },
   "outputs": [
    {
     "data": {
      "text/plain": [
       "3    1\n",
       "4    1\n",
       "5    1\n",
       "6    3\n",
       "7    1\n",
       "Name: Awards, dtype: object"
      ]
     },
     "execution_count": 67,
     "metadata": {},
     "output_type": "execute_result"
    }
   ],
   "source": [
    "df.Awards.apply(lambda x : x[0]).head()"
   ]
  },
  {
   "cell_type": "code",
   "execution_count": null,
   "metadata": {
    "collapsed": true
   },
   "outputs": [],
   "source": [
    "searchfor = ['og', 'at']\n",
    "s[s.str.contains('|'.join(searchfor))]"
   ]
  },
  {
   "cell_type": "code",
   "execution_count": null,
   "metadata": {
    "collapsed": true
   },
   "outputs": [],
   "source": [
    "searchfor = []"
   ]
  },
  {
   "cell_type": "code",
   "execution_count": 93,
   "metadata": {
    "collapsed": false
   },
   "outputs": [],
   "source": [
    "awards_won= df.Awards.apply(lambda x : x[0] if x[0:5].find('win')!= -1 else 0 )"
   ]
  },
  {
   "cell_type": "code",
   "execution_count": 95,
   "metadata": {
    "collapsed": false
   },
   "outputs": [],
   "source": [
    "awards_nominated= df.Awards.apply(lambda x : x[0] if x[0:5].find('nom')!= -1 else 0 )"
   ]
  },
  {
   "cell_type": "code",
   "execution_count": null,
   "metadata": {
    "collapsed": true
   },
   "outputs": [],
   "source": []
  },
  {
   "cell_type": "code",
   "execution_count": 98,
   "metadata": {
    "collapsed": true
   },
   "outputs": [],
   "source": [
    "N = df.Awards.apply(lambda x : x if x.startswith('N') else 0 )"
   ]
  },
  {
   "cell_type": "code",
   "execution_count": 129,
   "metadata": {
    "collapsed": false
   },
   "outputs": [],
   "source": [
    "# N.head(10)"
   ]
  },
  {
   "cell_type": "code",
   "execution_count": 121,
   "metadata": {
    "collapsed": false
   },
   "outputs": [],
   "source": [
    "N1 = df.Awards.apply(lambda x : x[0:16] if x.startswith('N') else 0)"
   ]
  },
  {
   "cell_type": "code",
   "execution_count": 124,
   "metadata": {
    "collapsed": false
   },
   "outputs": [],
   "source": [
    "# N1"
   ]
  },
  {
   "cell_type": "code",
   "execution_count": 128,
   "metadata": {
    "collapsed": false
   },
   "outputs": [],
   "source": [
    "# awards_won = df.Awards.apply(lambda x : x[0] if x[0:5].find('win')!= -1 else x )"
   ]
  },
  {
   "cell_type": "code",
   "execution_count": 127,
   "metadata": {
    "collapsed": false
   },
   "outputs": [],
   "source": [
    "# df2.head()"
   ]
  },
  {
   "cell_type": "code",
   "execution_count": 126,
   "metadata": {
    "collapsed": false
   },
   "outputs": [],
   "source": [
    "# Awards_Won.head()"
   ]
  },
  {
   "cell_type": "code",
   "execution_count": 125,
   "metadata": {
    "collapsed": false
   },
   "outputs": [],
   "source": [
    "# df.Awards.apply(lambda x : (x[0:5]))"
   ]
  },
  {
   "cell_type": "code",
   "execution_count": null,
   "metadata": {
    "collapsed": true
   },
   "outputs": [],
   "source": [
    "df.Awards.apply(lambda x : int(x[-5:-1]) if x[-5:-1].isdigit() else 1990 ).tail()"
   ]
  }
 ],
 "metadata": {
  "anaconda-cloud": {},
  "kernelspec": {
   "display_name": "Python [conda root]",
   "language": "python",
   "name": "conda-root-py"
  },
  "language_info": {
   "codemirror_mode": {
    "name": "ipython",
    "version": 3
   },
   "file_extension": ".py",
   "mimetype": "text/x-python",
   "name": "python",
   "nbconvert_exporter": "python",
   "pygments_lexer": "ipython3",
   "version": "3.5.2"
  }
 },
 "nbformat": 4,
 "nbformat_minor": 1
}
