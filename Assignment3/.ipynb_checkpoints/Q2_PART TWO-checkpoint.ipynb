{
 "cells": [
  {
   "cell_type": "markdown",
   "metadata": {},
   "source": [
    "## EMPLOYEE COMPENSATION ANALYSIS\n",
    "### Q2_PART TWO\n",
    "\n",
    "* Use 'employee_compensation' data set.\n",
    "* Data contains fiscal and calendar year information. Same employee details exist twice in the dataset. Filter data by calendar year and find average salary (you might have to find average for each of the columns for every employee. Eg. Average of Total Benefits, Average of total compensation etc.) for every employee.\n",
    "* Now, find the people whose overtime salary is greater than 5% of salaries (salaries refers to ’Salaries' column)\n",
    "* For each ‘Job Family’ these people are associated with, calculate the percentage of total benefits with respect to total compensation (so for each job family you have to calculate average total benefits and average total compensation). Create a new column to hold the percentage value.\n",
    "* Display the top 5 Job Families according to this percentage value using df.head().\n",
    "* Write the output (jobs and percentage value) to a csv."
   ]
  },
  {
   "cell_type": "code",
   "execution_count": 1,
   "metadata": {
    "collapsed": true
   },
   "outputs": [],
   "source": [
    "from pandas import Series, DataFrame\n",
    "import pandas as pd\n",
    "import csv"
   ]
  },
  {
   "cell_type": "code",
   "execution_count": 2,
   "metadata": {
    "collapsed": true
   },
   "outputs": [],
   "source": [
    "employee = pd.read_csv('Data/employee_compensation.csv')"
   ]
  },
  {
   "cell_type": "code",
   "execution_count": 384,
   "metadata": {
    "collapsed": false
   },
   "outputs": [
    {
     "data": {
      "text/html": [
       "<div>\n",
       "<table border=\"1\" class=\"dataframe\">\n",
       "  <thead>\n",
       "    <tr style=\"text-align: right;\">\n",
       "      <th></th>\n",
       "      <th>Year Type</th>\n",
       "      <th>Year</th>\n",
       "      <th>Organization Group Code</th>\n",
       "      <th>Organization Group</th>\n",
       "      <th>Department Code</th>\n",
       "      <th>Department</th>\n",
       "      <th>Union Code</th>\n",
       "      <th>Union</th>\n",
       "      <th>Job Family Code</th>\n",
       "      <th>Job Family</th>\n",
       "      <th>...</th>\n",
       "      <th>Employee Identifier</th>\n",
       "      <th>Salaries</th>\n",
       "      <th>Overtime</th>\n",
       "      <th>Other Salaries</th>\n",
       "      <th>Total Salary</th>\n",
       "      <th>Retirement</th>\n",
       "      <th>Health/Dental</th>\n",
       "      <th>Other Benefits</th>\n",
       "      <th>Total Benefits</th>\n",
       "      <th>Total Compensation</th>\n",
       "    </tr>\n",
       "  </thead>\n",
       "  <tbody>\n",
       "    <tr>\n",
       "      <th>0</th>\n",
       "      <td>Calendar</td>\n",
       "      <td>2013</td>\n",
       "      <td>2</td>\n",
       "      <td>Public Works, Transportation &amp; Commerce</td>\n",
       "      <td>AIR</td>\n",
       "      <td>Airport Commission</td>\n",
       "      <td>38.0</td>\n",
       "      <td>Plumbers and Pipefitters, Local 38</td>\n",
       "      <td>7300</td>\n",
       "      <td>Journeyman Trade</td>\n",
       "      <td>...</td>\n",
       "      <td>52206</td>\n",
       "      <td>98528.52</td>\n",
       "      <td>0.00</td>\n",
       "      <td>3955.59</td>\n",
       "      <td>102484.11</td>\n",
       "      <td>20142.55</td>\n",
       "      <td>12918.24</td>\n",
       "      <td>8371.76</td>\n",
       "      <td>41432.55</td>\n",
       "      <td>143916.66</td>\n",
       "    </tr>\n",
       "    <tr>\n",
       "      <th>1</th>\n",
       "      <td>Fiscal</td>\n",
       "      <td>2015</td>\n",
       "      <td>4</td>\n",
       "      <td>Community Health</td>\n",
       "      <td>DPH</td>\n",
       "      <td>Public Health</td>\n",
       "      <td>790.0</td>\n",
       "      <td>SEIU - Miscellaneous, Local 1021</td>\n",
       "      <td>2600</td>\n",
       "      <td>Dietary &amp; Food</td>\n",
       "      <td>...</td>\n",
       "      <td>52950</td>\n",
       "      <td>69169.82</td>\n",
       "      <td>755.02</td>\n",
       "      <td>4179.08</td>\n",
       "      <td>74103.92</td>\n",
       "      <td>15641.92</td>\n",
       "      <td>12499.30</td>\n",
       "      <td>5669.02</td>\n",
       "      <td>33810.24</td>\n",
       "      <td>107914.16</td>\n",
       "    </tr>\n",
       "    <tr>\n",
       "      <th>2</th>\n",
       "      <td>Calendar</td>\n",
       "      <td>2016</td>\n",
       "      <td>3</td>\n",
       "      <td>Human Welfare &amp; Neighborhood Development</td>\n",
       "      <td>WOM</td>\n",
       "      <td>Department of the Status of Women</td>\n",
       "      <td>323.0</td>\n",
       "      <td>Members of Boards and Commissions</td>\n",
       "      <td>0900</td>\n",
       "      <td>Management</td>\n",
       "      <td>...</td>\n",
       "      <td>33958</td>\n",
       "      <td>200.00</td>\n",
       "      <td>0.00</td>\n",
       "      <td>0.00</td>\n",
       "      <td>200.00</td>\n",
       "      <td>0.00</td>\n",
       "      <td>51.45</td>\n",
       "      <td>15.83</td>\n",
       "      <td>67.28</td>\n",
       "      <td>267.28</td>\n",
       "    </tr>\n",
       "    <tr>\n",
       "      <th>3</th>\n",
       "      <td>Calendar</td>\n",
       "      <td>2016</td>\n",
       "      <td>6</td>\n",
       "      <td>General Administration &amp; Finance</td>\n",
       "      <td>HRD</td>\n",
       "      <td>Human Resources</td>\n",
       "      <td>790.0</td>\n",
       "      <td>SEIU - Miscellaneous, Local 1021</td>\n",
       "      <td>8100</td>\n",
       "      <td>Legal &amp; Court</td>\n",
       "      <td>...</td>\n",
       "      <td>33073</td>\n",
       "      <td>1783.00</td>\n",
       "      <td>0.00</td>\n",
       "      <td>0.00</td>\n",
       "      <td>1783.00</td>\n",
       "      <td>325.05</td>\n",
       "      <td>257.23</td>\n",
       "      <td>153.85</td>\n",
       "      <td>736.13</td>\n",
       "      <td>2519.13</td>\n",
       "    </tr>\n",
       "    <tr>\n",
       "      <th>4</th>\n",
       "      <td>Fiscal</td>\n",
       "      <td>2015</td>\n",
       "      <td>5</td>\n",
       "      <td>Culture &amp; Recreation</td>\n",
       "      <td>REC</td>\n",
       "      <td>Recreation and Park Commission</td>\n",
       "      <td>790.0</td>\n",
       "      <td>SEIU - Miscellaneous, Local 1021</td>\n",
       "      <td>9900</td>\n",
       "      <td>Public Service Aide</td>\n",
       "      <td>...</td>\n",
       "      <td>15849</td>\n",
       "      <td>1102.50</td>\n",
       "      <td>0.00</td>\n",
       "      <td>0.00</td>\n",
       "      <td>1102.50</td>\n",
       "      <td>0.00</td>\n",
       "      <td>538.82</td>\n",
       "      <td>85.36</td>\n",
       "      <td>624.18</td>\n",
       "      <td>1726.68</td>\n",
       "    </tr>\n",
       "  </tbody>\n",
       "</table>\n",
       "<p>5 rows × 22 columns</p>\n",
       "</div>"
      ],
      "text/plain": [
       "  Year Type  Year  Organization Group Code  \\\n",
       "0  Calendar  2013                        2   \n",
       "1    Fiscal  2015                        4   \n",
       "2  Calendar  2016                        3   \n",
       "3  Calendar  2016                        6   \n",
       "4    Fiscal  2015                        5   \n",
       "\n",
       "                         Organization Group Department Code  \\\n",
       "0   Public Works, Transportation & Commerce             AIR   \n",
       "1                          Community Health             DPH   \n",
       "2  Human Welfare & Neighborhood Development             WOM   \n",
       "3          General Administration & Finance             HRD   \n",
       "4                      Culture & Recreation             REC   \n",
       "\n",
       "                          Department  Union Code  \\\n",
       "0                 Airport Commission        38.0   \n",
       "1                      Public Health       790.0   \n",
       "2  Department of the Status of Women       323.0   \n",
       "3                    Human Resources       790.0   \n",
       "4     Recreation and Park Commission       790.0   \n",
       "\n",
       "                                Union Job Family Code           Job Family  \\\n",
       "0  Plumbers and Pipefitters, Local 38            7300     Journeyman Trade   \n",
       "1    SEIU - Miscellaneous, Local 1021            2600       Dietary & Food   \n",
       "2   Members of Boards and Commissions            0900           Management   \n",
       "3    SEIU - Miscellaneous, Local 1021            8100        Legal & Court   \n",
       "4    SEIU - Miscellaneous, Local 1021            9900  Public Service Aide   \n",
       "\n",
       "          ...         Employee Identifier  Salaries  Overtime  Other Salaries  \\\n",
       "0         ...                       52206  98528.52      0.00         3955.59   \n",
       "1         ...                       52950  69169.82    755.02         4179.08   \n",
       "2         ...                       33958    200.00      0.00            0.00   \n",
       "3         ...                       33073   1783.00      0.00            0.00   \n",
       "4         ...                       15849   1102.50      0.00            0.00   \n",
       "\n",
       "   Total Salary  Retirement  Health/Dental  Other Benefits  Total Benefits  \\\n",
       "0     102484.11    20142.55       12918.24         8371.76        41432.55   \n",
       "1      74103.92    15641.92       12499.30         5669.02        33810.24   \n",
       "2        200.00        0.00          51.45           15.83           67.28   \n",
       "3       1783.00      325.05         257.23          153.85          736.13   \n",
       "4       1102.50        0.00         538.82           85.36          624.18   \n",
       "\n",
       "   Total Compensation  \n",
       "0           143916.66  \n",
       "1           107914.16  \n",
       "2              267.28  \n",
       "3             2519.13  \n",
       "4             1726.68  \n",
       "\n",
       "[5 rows x 22 columns]"
      ]
     },
     "execution_count": 384,
     "metadata": {},
     "output_type": "execute_result"
    }
   ],
   "source": [
    "employee.head()"
   ]
  },
  {
   "cell_type": "code",
   "execution_count": 60,
   "metadata": {
    "collapsed": true
   },
   "outputs": [],
   "source": [
    "# Filter data by calendar year \n",
    "CalendarYear = employee[employee['Year Type']=='Calendar']"
   ]
  },
  {
   "cell_type": "code",
   "execution_count": null,
   "metadata": {
    "collapsed": true
   },
   "outputs": [],
   "source": [
    "CalendarYear['Employee Identifier']"
   ]
  },
  {
   "cell_type": "code",
   "execution_count": 354,
   "metadata": {
    "collapsed": false
   },
   "outputs": [],
   "source": [
    "# get the series of JobFamily for each employee\n",
    "JobFamily = employee.groupby('Employee Identifier')['Job Family'].value_counts()"
   ]
  },
  {
   "cell_type": "code",
   "execution_count": 117,
   "metadata": {
    "collapsed": true
   },
   "outputs": [],
   "source": [
    "# define the function to calculate the mean for each column of each employee.\n",
    "def allAverage(col):\n",
    "    ave = employee.groupby('Employee Identifier')[col].mean()\n",
    "    return ave"
   ]
  },
  {
   "cell_type": "code",
   "execution_count": 118,
   "metadata": {
    "collapsed": false
   },
   "outputs": [],
   "source": [
    "# get all the average for each cokumn \n",
    "Salaries = allAverage('Salaries')"
   ]
  },
  {
   "cell_type": "code",
   "execution_count": 83,
   "metadata": {
    "collapsed": true
   },
   "outputs": [],
   "source": [
    "Overtime = allAverage('Overtime')"
   ]
  },
  {
   "cell_type": "code",
   "execution_count": 84,
   "metadata": {
    "collapsed": false
   },
   "outputs": [],
   "source": [
    "OtherS = allAverage('Other Salaries')"
   ]
  },
  {
   "cell_type": "code",
   "execution_count": 85,
   "metadata": {
    "collapsed": true
   },
   "outputs": [],
   "source": [
    "TotalS = allAverage('Total Salary')"
   ]
  },
  {
   "cell_type": "code",
   "execution_count": 86,
   "metadata": {
    "collapsed": true
   },
   "outputs": [],
   "source": [
    "Retirement= allAverage('Retirement')"
   ]
  },
  {
   "cell_type": "code",
   "execution_count": 87,
   "metadata": {
    "collapsed": true
   },
   "outputs": [],
   "source": [
    "Health = allAverage('Health/Dental')"
   ]
  },
  {
   "cell_type": "code",
   "execution_count": 88,
   "metadata": {
    "collapsed": true
   },
   "outputs": [],
   "source": [
    "OtherB = allAverage('Other Benefits')"
   ]
  },
  {
   "cell_type": "code",
   "execution_count": 89,
   "metadata": {
    "collapsed": true
   },
   "outputs": [],
   "source": [
    "TotalB = allAverage('Total Benefits')"
   ]
  },
  {
   "cell_type": "code",
   "execution_count": 90,
   "metadata": {
    "collapsed": true
   },
   "outputs": [],
   "source": [
    "TotalC = allAverage('Total Compensation')"
   ]
  },
  {
   "cell_type": "code",
   "execution_count": 359,
   "metadata": {
    "collapsed": false
   },
   "outputs": [],
   "source": [
    "# combine all the series \n",
    "frame = pd.concat([Salaries,Overtime, OtherS, TotalS,Retirement,Health,OtherB,TotalB,TotalC], axis=1)"
   ]
  },
  {
   "cell_type": "code",
   "execution_count": 210,
   "metadata": {
    "collapsed": false
   },
   "outputs": [],
   "source": [
    "frame['5%Salaries']=frame['Salaries'].apply(lambda x : x*0.05)"
   ]
  },
  {
   "cell_type": "code",
   "execution_count": 223,
   "metadata": {
    "collapsed": false
   },
   "outputs": [],
   "source": [
    "# find the people whose over time salary is greater than 5% of salaries\n",
    "frameObig = frame[frame['Overtime']>frame['5%Salaries']]"
   ]
  },
  {
   "cell_type": "code",
   "execution_count": 361,
   "metadata": {
    "collapsed": false
   },
   "outputs": [
    {
     "data": {
      "text/html": [
       "<div>\n",
       "<table border=\"1\" class=\"dataframe\">\n",
       "  <thead>\n",
       "    <tr style=\"text-align: right;\">\n",
       "      <th></th>\n",
       "      <th>Salaries</th>\n",
       "      <th>Overtime</th>\n",
       "      <th>Other Salaries</th>\n",
       "      <th>Total Salary</th>\n",
       "      <th>Retirement</th>\n",
       "      <th>Health/Dental</th>\n",
       "      <th>Other Benefits</th>\n",
       "      <th>Total Benefits</th>\n",
       "      <th>Total Compensation</th>\n",
       "      <th>5%Salaries</th>\n",
       "    </tr>\n",
       "    <tr>\n",
       "      <th>Employee Identifier</th>\n",
       "      <th></th>\n",
       "      <th></th>\n",
       "      <th></th>\n",
       "      <th></th>\n",
       "      <th></th>\n",
       "      <th></th>\n",
       "      <th></th>\n",
       "      <th></th>\n",
       "      <th></th>\n",
       "      <th></th>\n",
       "    </tr>\n",
       "  </thead>\n",
       "  <tbody>\n",
       "    <tr>\n",
       "      <th>6</th>\n",
       "      <td>132579.31000</td>\n",
       "      <td>33892.200000</td>\n",
       "      <td>19926.645000</td>\n",
       "      <td>187661.615000</td>\n",
       "      <td>29394.532500</td>\n",
       "      <td>15933.060000</td>\n",
       "      <td>3103.6650</td>\n",
       "      <td>48431.257500</td>\n",
       "      <td>236092.8725</td>\n",
       "      <td>6628.965500</td>\n",
       "    </tr>\n",
       "    <tr>\n",
       "      <th>8</th>\n",
       "      <td>51754.58750</td>\n",
       "      <td>4106.932500</td>\n",
       "      <td>1248.630000</td>\n",
       "      <td>57865.642500</td>\n",
       "      <td>13885.277500</td>\n",
       "      <td>10584.302500</td>\n",
       "      <td>4354.0175</td>\n",
       "      <td>28823.597500</td>\n",
       "      <td>86689.2400</td>\n",
       "      <td>2587.729375</td>\n",
       "    </tr>\n",
       "    <tr>\n",
       "      <th>18</th>\n",
       "      <td>69327.57500</td>\n",
       "      <td>27338.112500</td>\n",
       "      <td>2081.757500</td>\n",
       "      <td>99827.965000</td>\n",
       "      <td>19194.040000</td>\n",
       "      <td>14304.200000</td>\n",
       "      <td>7545.3750</td>\n",
       "      <td>41043.615000</td>\n",
       "      <td>140871.5800</td>\n",
       "      <td>3466.378750</td>\n",
       "    </tr>\n",
       "    <tr>\n",
       "      <th>20</th>\n",
       "      <td>52026.80125</td>\n",
       "      <td>5763.415000</td>\n",
       "      <td>882.415000</td>\n",
       "      <td>63231.962500</td>\n",
       "      <td>13241.057500</td>\n",
       "      <td>12437.577500</td>\n",
       "      <td>4823.9875</td>\n",
       "      <td>30502.622500</td>\n",
       "      <td>93734.5850</td>\n",
       "      <td>2601.340063</td>\n",
       "    </tr>\n",
       "    <tr>\n",
       "      <th>23</th>\n",
       "      <td>15962.41600</td>\n",
       "      <td>1214.496667</td>\n",
       "      <td>936.886667</td>\n",
       "      <td>15453.396667</td>\n",
       "      <td>3605.706667</td>\n",
       "      <td>4243.386667</td>\n",
       "      <td>1164.9800</td>\n",
       "      <td>9014.073333</td>\n",
       "      <td>24467.4700</td>\n",
       "      <td>798.120800</td>\n",
       "    </tr>\n",
       "  </tbody>\n",
       "</table>\n",
       "</div>"
      ],
      "text/plain": [
       "                         Salaries      Overtime  Other Salaries  \\\n",
       "Employee Identifier                                               \n",
       "6                    132579.31000  33892.200000    19926.645000   \n",
       "8                     51754.58750   4106.932500     1248.630000   \n",
       "18                    69327.57500  27338.112500     2081.757500   \n",
       "20                    52026.80125   5763.415000      882.415000   \n",
       "23                    15962.41600   1214.496667      936.886667   \n",
       "\n",
       "                      Total Salary    Retirement  Health/Dental  \\\n",
       "Employee Identifier                                               \n",
       "6                    187661.615000  29394.532500   15933.060000   \n",
       "8                     57865.642500  13885.277500   10584.302500   \n",
       "18                    99827.965000  19194.040000   14304.200000   \n",
       "20                    63231.962500  13241.057500   12437.577500   \n",
       "23                    15453.396667   3605.706667    4243.386667   \n",
       "\n",
       "                     Other Benefits  Total Benefits  Total Compensation  \\\n",
       "Employee Identifier                                                       \n",
       "6                         3103.6650    48431.257500         236092.8725   \n",
       "8                         4354.0175    28823.597500          86689.2400   \n",
       "18                        7545.3750    41043.615000         140871.5800   \n",
       "20                        4823.9875    30502.622500          93734.5850   \n",
       "23                        1164.9800     9014.073333          24467.4700   \n",
       "\n",
       "                      5%Salaries  \n",
       "Employee Identifier               \n",
       "6                    6628.965500  \n",
       "8                    2587.729375  \n",
       "18                   3466.378750  \n",
       "20                   2601.340063  \n",
       "23                    798.120800  "
      ]
     },
     "execution_count": 361,
     "metadata": {},
     "output_type": "execute_result"
    }
   ],
   "source": [
    "frameObig.head()"
   ]
  },
  {
   "cell_type": "code",
   "execution_count": 281,
   "metadata": {
    "collapsed": false
   },
   "outputs": [],
   "source": [
    "people = DataFrame(frameObig.index)"
   ]
  },
  {
   "cell_type": "code",
   "execution_count": 336,
   "metadata": {
    "collapsed": false
   },
   "outputs": [],
   "source": [
    "peopleList = people['Employee Identifier'].values.tolist()"
   ]
  },
  {
   "cell_type": "code",
   "execution_count": 362,
   "metadata": {
    "collapsed": true
   },
   "outputs": [],
   "source": [
    "# get the series of JobFamily for each employee\n",
    "JobFamily = DataFrame(employee.groupby('Employee Identifier')['Job Family'].value_counts())"
   ]
  },
  {
   "cell_type": "code",
   "execution_count": 363,
   "metadata": {
    "collapsed": false
   },
   "outputs": [
    {
     "data": {
      "text/plain": [
       "array([(1, 'Payroll, Billing & Accounting'),\n",
       "       (2, 'Protection & Apprehension'),\n",
       "       (3, 'Clerical, Secretarial & Steno'), ..., (55197, 'Nursing'),\n",
       "       (55198, 'Nursing'), (55199, 'Legal & Court')], dtype=object)"
      ]
     },
     "execution_count": 363,
     "metadata": {},
     "output_type": "execute_result"
    }
   ],
   "source": [
    "JobFamily.index.values\n",
    "# apply(lambda x : x[0][1])"
   ]
  },
  {
   "cell_type": "code",
   "execution_count": 364,
   "metadata": {
    "collapsed": false
   },
   "outputs": [],
   "source": [
    "JobFamilyf = DataFrame(JobFamily.index.values,columns=['Job Family'])"
   ]
  },
  {
   "cell_type": "code",
   "execution_count": 365,
   "metadata": {
    "collapsed": false
   },
   "outputs": [],
   "source": [
    "JobFamilyf['Employee Identifier'] = JobFamilyf['Job Family'].apply(lambda x : x[0])"
   ]
  },
  {
   "cell_type": "code",
   "execution_count": 366,
   "metadata": {
    "collapsed": false
   },
   "outputs": [],
   "source": [
    "JobFamilyf['Job Family'] = JobFamilyf['Job Family'].apply(lambda x : x[1])"
   ]
  },
  {
   "cell_type": "code",
   "execution_count": 367,
   "metadata": {
    "collapsed": false
   },
   "outputs": [],
   "source": [
    "newF = JobFamilyf[['Employee Identifier', 'Job Family']]"
   ]
  },
  {
   "cell_type": "code",
   "execution_count": 368,
   "metadata": {
    "collapsed": false
   },
   "outputs": [
    {
     "data": {
      "text/html": [
       "<div>\n",
       "<table border=\"1\" class=\"dataframe\">\n",
       "  <thead>\n",
       "    <tr style=\"text-align: right;\">\n",
       "      <th></th>\n",
       "      <th>Employee Identifier</th>\n",
       "      <th>Job Family</th>\n",
       "    </tr>\n",
       "  </thead>\n",
       "  <tbody>\n",
       "    <tr>\n",
       "      <th>0</th>\n",
       "      <td>1</td>\n",
       "      <td>Payroll, Billing &amp; Accounting</td>\n",
       "    </tr>\n",
       "    <tr>\n",
       "      <th>1</th>\n",
       "      <td>2</td>\n",
       "      <td>Protection &amp; Apprehension</td>\n",
       "    </tr>\n",
       "    <tr>\n",
       "      <th>2</th>\n",
       "      <td>3</td>\n",
       "      <td>Clerical, Secretarial &amp; Steno</td>\n",
       "    </tr>\n",
       "    <tr>\n",
       "      <th>3</th>\n",
       "      <td>4</td>\n",
       "      <td>Lab, Pharmacy &amp; Med Techs</td>\n",
       "    </tr>\n",
       "    <tr>\n",
       "      <th>4</th>\n",
       "      <td>5</td>\n",
       "      <td>Recreation</td>\n",
       "    </tr>\n",
       "  </tbody>\n",
       "</table>\n",
       "</div>"
      ],
      "text/plain": [
       "   Employee Identifier                     Job Family\n",
       "0                    1  Payroll, Billing & Accounting\n",
       "1                    2      Protection & Apprehension\n",
       "2                    3  Clerical, Secretarial & Steno\n",
       "3                    4      Lab, Pharmacy & Med Techs\n",
       "4                    5                     Recreation"
      ]
     },
     "execution_count": 368,
     "metadata": {},
     "output_type": "execute_result"
    }
   ],
   "source": [
    "newF.head()"
   ]
  },
  {
   "cell_type": "code",
   "execution_count": 377,
   "metadata": {
    "collapsed": true
   },
   "outputs": [],
   "source": [
    "df = pd.DataFrame(index=peopleList)"
   ]
  },
  {
   "cell_type": "code",
   "execution_count": 379,
   "metadata": {
    "collapsed": false
   },
   "outputs": [
    {
     "data": {
      "text/plain": [
       "array([    6,     8,    18, ..., 55190, 55194, 55197])"
      ]
     },
     "execution_count": 379,
     "metadata": {},
     "output_type": "execute_result"
    }
   ],
   "source": [
    "df.index.values"
   ]
  },
  {
   "cell_type": "code",
   "execution_count": 385,
   "metadata": {
    "collapsed": false
   },
   "outputs": [],
   "source": [
    "# newF['Employee Identifier'].apply(lambda x : x)"
   ]
  },
  {
   "cell_type": "code",
   "execution_count": null,
   "metadata": {
    "collapsed": true
   },
   "outputs": [],
   "source": []
  },
  {
   "cell_type": "code",
   "execution_count": 386,
   "metadata": {
    "collapsed": false
   },
   "outputs": [],
   "source": [
    "# employee['Job Family'].value_counts()"
   ]
  },
  {
   "cell_type": "code",
   "execution_count": 128,
   "metadata": {
    "collapsed": false
   },
   "outputs": [
    {
     "data": {
      "text/plain": [
       "array([52206, 52950, 33958, ..., 51269, 30906, 47691])"
      ]
     },
     "execution_count": 128,
     "metadata": {},
     "output_type": "execute_result"
    }
   ],
   "source": [
    "employee['Employee Identifier'].unique()"
   ]
  },
  {
   "cell_type": "code",
   "execution_count": 32,
   "metadata": {
    "collapsed": true
   },
   "outputs": [],
   "source": []
  },
  {
   "cell_type": "code",
   "execution_count": null,
   "metadata": {
    "collapsed": true
   },
   "outputs": [],
   "source": []
  },
  {
   "cell_type": "code",
   "execution_count": null,
   "metadata": {
    "collapsed": true
   },
   "outputs": [],
   "source": []
  }
 ],
 "metadata": {
  "anaconda-cloud": {},
  "kernelspec": {
   "display_name": "Python [conda root]",
   "language": "python",
   "name": "conda-root-py"
  },
  "language_info": {
   "codemirror_mode": {
    "name": "ipython",
    "version": 3
   },
   "file_extension": ".py",
   "mimetype": "text/x-python",
   "name": "python",
   "nbconvert_exporter": "python",
   "pygments_lexer": "ipython3",
   "version": "3.5.2"
  }
 },
 "nbformat": 4,
 "nbformat_minor": 1
}
