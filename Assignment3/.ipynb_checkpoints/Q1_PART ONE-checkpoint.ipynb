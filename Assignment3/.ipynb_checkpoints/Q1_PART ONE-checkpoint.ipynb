{
 "cells": [
  {
   "cell_type": "markdown",
   "metadata": {},
   "source": [
    "## NYC VEHICLE COLLISION ANALYSIS\n",
    "\n",
    "### Q1_PART ONE\n",
    "* Use ‘vehicle_collisions’ data set.\n",
    "* For each month in 2016, find out the percentage of collisions in Manhattan out of that year's total accidents in New York City.\n",
    "* Display a few rows of the output use df.head().\n",
    "* Generate a csv output with four columns (‘Month’, ‘Manhattan’, ‘NYC’, ‘Percentage’)"
   ]
  },
  {
   "cell_type": "markdown",
   "metadata": {},
   "source": [
    "### ? does the nan conted in the accident? "
   ]
  },
  {
   "cell_type": "code",
   "execution_count": 133,
   "metadata": {
    "collapsed": true
   },
   "outputs": [],
   "source": [
    "from pandas import Series, DataFrame\n",
    "import pandas as pd"
   ]
  },
  {
   "cell_type": "code",
   "execution_count": 161,
   "metadata": {
    "collapsed": true
   },
   "outputs": [],
   "source": [
    "import csv"
   ]
  },
  {
   "cell_type": "code",
   "execution_count": 135,
   "metadata": {
    "collapsed": false
   },
   "outputs": [],
   "source": [
    "car = pd.read_csv('Data/vehicle_collisions.csv')"
   ]
  },
  {
   "cell_type": "code",
   "execution_count": 136,
   "metadata": {
    "collapsed": false,
    "scrolled": true
   },
   "outputs": [
    {
     "data": {
      "text/html": [
       "<div>\n",
       "<table border=\"1\" class=\"dataframe\">\n",
       "  <thead>\n",
       "    <tr style=\"text-align: right;\">\n",
       "      <th></th>\n",
       "      <th>UNIQUE KEY</th>\n",
       "      <th>DATE</th>\n",
       "      <th>TIME</th>\n",
       "      <th>BOROUGH</th>\n",
       "      <th>ZIP CODE</th>\n",
       "      <th>LATITUDE</th>\n",
       "      <th>LONGITUDE</th>\n",
       "      <th>LOCATION</th>\n",
       "      <th>ON STREET NAME</th>\n",
       "      <th>CROSS STREET NAME</th>\n",
       "      <th>...</th>\n",
       "      <th>VEHICLE 1 TYPE</th>\n",
       "      <th>VEHICLE 2 TYPE</th>\n",
       "      <th>VEHICLE 3 TYPE</th>\n",
       "      <th>VEHICLE 4 TYPE</th>\n",
       "      <th>VEHICLE 5 TYPE</th>\n",
       "      <th>VEHICLE 1 FACTOR</th>\n",
       "      <th>VEHICLE 2 FACTOR</th>\n",
       "      <th>VEHICLE 3 FACTOR</th>\n",
       "      <th>VEHICLE 4 FACTOR</th>\n",
       "      <th>VEHICLE 5 FACTOR</th>\n",
       "    </tr>\n",
       "  </thead>\n",
       "  <tbody>\n",
       "    <tr>\n",
       "      <th>0</th>\n",
       "      <td>3146911</td>\n",
       "      <td>1/1/15</td>\n",
       "      <td>0:20</td>\n",
       "      <td>QUEENS</td>\n",
       "      <td>11358.0</td>\n",
       "      <td>40.751847</td>\n",
       "      <td>-73.787862</td>\n",
       "      <td>(40.7518471, -73.787862)</td>\n",
       "      <td>47 AVENUE</td>\n",
       "      <td>193 STREET</td>\n",
       "      <td>...</td>\n",
       "      <td>SPORT UTILITY/STATION WAGON</td>\n",
       "      <td>NaN</td>\n",
       "      <td>NaN</td>\n",
       "      <td>NaN</td>\n",
       "      <td>NaN</td>\n",
       "      <td>TRAFFIC CONTROL DISREGARDED</td>\n",
       "      <td>NaN</td>\n",
       "      <td>NaN</td>\n",
       "      <td>NaN</td>\n",
       "      <td>NaN</td>\n",
       "    </tr>\n",
       "    <tr>\n",
       "      <th>1</th>\n",
       "      <td>3146180</td>\n",
       "      <td>1/1/15</td>\n",
       "      <td>0:20</td>\n",
       "      <td>NaN</td>\n",
       "      <td>NaN</td>\n",
       "      <td>40.771289</td>\n",
       "      <td>-73.946693</td>\n",
       "      <td>(40.7712888, -73.9466928)</td>\n",
       "      <td>NaN</td>\n",
       "      <td>NaN</td>\n",
       "      <td>...</td>\n",
       "      <td>PASSENGER VEHICLE</td>\n",
       "      <td>NaN</td>\n",
       "      <td>NaN</td>\n",
       "      <td>NaN</td>\n",
       "      <td>NaN</td>\n",
       "      <td>ANIMALS ACTION</td>\n",
       "      <td>NaN</td>\n",
       "      <td>NaN</td>\n",
       "      <td>NaN</td>\n",
       "      <td>NaN</td>\n",
       "    </tr>\n",
       "    <tr>\n",
       "      <th>2</th>\n",
       "      <td>3146384</td>\n",
       "      <td>1/1/15</td>\n",
       "      <td>0:21</td>\n",
       "      <td>BROOKLYN</td>\n",
       "      <td>11205.0</td>\n",
       "      <td>40.689445</td>\n",
       "      <td>-73.955121</td>\n",
       "      <td>(40.6894449, -73.9551212)</td>\n",
       "      <td>BEDFORD AVENUE</td>\n",
       "      <td>LAFAYETTE AVENUE</td>\n",
       "      <td>...</td>\n",
       "      <td>PASSENGER VEHICLE</td>\n",
       "      <td>UNKNOWN</td>\n",
       "      <td>NaN</td>\n",
       "      <td>NaN</td>\n",
       "      <td>NaN</td>\n",
       "      <td>FATIGUED/DROWSY</td>\n",
       "      <td>UNSPECIFIED</td>\n",
       "      <td>NaN</td>\n",
       "      <td>NaN</td>\n",
       "      <td>NaN</td>\n",
       "    </tr>\n",
       "    <tr>\n",
       "      <th>3</th>\n",
       "      <td>3146013</td>\n",
       "      <td>1/1/15</td>\n",
       "      <td>0:30</td>\n",
       "      <td>BROOKLYN</td>\n",
       "      <td>11213.0</td>\n",
       "      <td>40.673845</td>\n",
       "      <td>-73.925080</td>\n",
       "      <td>(40.6738445, -73.9250801)</td>\n",
       "      <td>BUFFALO AVENUE</td>\n",
       "      <td>SAINT MARKS AVENUE</td>\n",
       "      <td>...</td>\n",
       "      <td>BUS</td>\n",
       "      <td>PASSENGER VEHICLE</td>\n",
       "      <td>NaN</td>\n",
       "      <td>NaN</td>\n",
       "      <td>NaN</td>\n",
       "      <td>LOST CONSCIOUSNESS</td>\n",
       "      <td>NaN</td>\n",
       "      <td>NaN</td>\n",
       "      <td>NaN</td>\n",
       "      <td>NaN</td>\n",
       "    </tr>\n",
       "    <tr>\n",
       "      <th>4</th>\n",
       "      <td>3146120</td>\n",
       "      <td>1/1/15</td>\n",
       "      <td>0:33</td>\n",
       "      <td>NaN</td>\n",
       "      <td>NaN</td>\n",
       "      <td>NaN</td>\n",
       "      <td>NaN</td>\n",
       "      <td>NaN</td>\n",
       "      <td>RICHMOND TERRACE</td>\n",
       "      <td>SOUTH AVENUE</td>\n",
       "      <td>...</td>\n",
       "      <td>UNKNOWN</td>\n",
       "      <td>PASSENGER VEHICLE</td>\n",
       "      <td>NaN</td>\n",
       "      <td>NaN</td>\n",
       "      <td>NaN</td>\n",
       "      <td>UNSPECIFIED</td>\n",
       "      <td>UNSPECIFIED</td>\n",
       "      <td>NaN</td>\n",
       "      <td>NaN</td>\n",
       "      <td>NaN</td>\n",
       "    </tr>\n",
       "  </tbody>\n",
       "</table>\n",
       "<p>5 rows × 29 columns</p>\n",
       "</div>"
      ],
      "text/plain": [
       "   UNIQUE KEY    DATE  TIME   BOROUGH  ZIP CODE   LATITUDE  LONGITUDE  \\\n",
       "0     3146911  1/1/15  0:20    QUEENS   11358.0  40.751847 -73.787862   \n",
       "1     3146180  1/1/15  0:20       NaN       NaN  40.771289 -73.946693   \n",
       "2     3146384  1/1/15  0:21  BROOKLYN   11205.0  40.689445 -73.955121   \n",
       "3     3146013  1/1/15  0:30  BROOKLYN   11213.0  40.673845 -73.925080   \n",
       "4     3146120  1/1/15  0:33       NaN       NaN        NaN        NaN   \n",
       "\n",
       "                    LOCATION    ON STREET NAME   CROSS STREET NAME  \\\n",
       "0   (40.7518471, -73.787862)         47 AVENUE          193 STREET   \n",
       "1  (40.7712888, -73.9466928)               NaN                 NaN   \n",
       "2  (40.6894449, -73.9551212)    BEDFORD AVENUE    LAFAYETTE AVENUE   \n",
       "3  (40.6738445, -73.9250801)    BUFFALO AVENUE  SAINT MARKS AVENUE   \n",
       "4                        NaN  RICHMOND TERRACE        SOUTH AVENUE   \n",
       "\n",
       "        ...                      VEHICLE 1 TYPE     VEHICLE 2 TYPE  \\\n",
       "0       ...         SPORT UTILITY/STATION WAGON                NaN   \n",
       "1       ...                   PASSENGER VEHICLE                NaN   \n",
       "2       ...                   PASSENGER VEHICLE            UNKNOWN   \n",
       "3       ...                                 BUS  PASSENGER VEHICLE   \n",
       "4       ...                             UNKNOWN  PASSENGER VEHICLE   \n",
       "\n",
       "   VEHICLE 3 TYPE  VEHICLE 4 TYPE  VEHICLE 5 TYPE  \\\n",
       "0             NaN             NaN             NaN   \n",
       "1             NaN             NaN             NaN   \n",
       "2             NaN             NaN             NaN   \n",
       "3             NaN             NaN             NaN   \n",
       "4             NaN             NaN             NaN   \n",
       "\n",
       "              VEHICLE 1 FACTOR  VEHICLE 2 FACTOR  VEHICLE 3 FACTOR  \\\n",
       "0  TRAFFIC CONTROL DISREGARDED               NaN               NaN   \n",
       "1               ANIMALS ACTION               NaN               NaN   \n",
       "2              FATIGUED/DROWSY       UNSPECIFIED               NaN   \n",
       "3           LOST CONSCIOUSNESS               NaN               NaN   \n",
       "4                  UNSPECIFIED       UNSPECIFIED               NaN   \n",
       "\n",
       "   VEHICLE 4 FACTOR VEHICLE 5 FACTOR  \n",
       "0               NaN              NaN  \n",
       "1               NaN              NaN  \n",
       "2               NaN              NaN  \n",
       "3               NaN              NaN  \n",
       "4               NaN              NaN  \n",
       "\n",
       "[5 rows x 29 columns]"
      ]
     },
     "execution_count": 136,
     "metadata": {},
     "output_type": "execute_result"
    }
   ],
   "source": [
    "car.head()"
   ]
  },
  {
   "cell_type": "code",
   "execution_count": 138,
   "metadata": {
    "collapsed": true
   },
   "outputs": [],
   "source": [
    "# get the year from all data\n",
    "car['Year'] = pd.to_datetime(car['DATE']).dt.year"
   ]
  },
  {
   "cell_type": "code",
   "execution_count": 139,
   "metadata": {
    "collapsed": false
   },
   "outputs": [],
   "source": [
    "# get the month from all data\n",
    "car['Month'] = pd.to_datetime(car['DATE']).dt.month"
   ]
  },
  {
   "cell_type": "code",
   "execution_count": 145,
   "metadata": {
    "collapsed": false
   },
   "outputs": [],
   "source": [
    "# get the 2016 year's data\n",
    "YearIn = car[car['Year']==2016]"
   ]
  },
  {
   "cell_type": "code",
   "execution_count": 166,
   "metadata": {
    "collapsed": true
   },
   "outputs": [],
   "source": [
    "MCountList=[]\n",
    "MList=[]\n",
    "PList=[]\n",
    "NYCList =[]\n",
    "\n",
    "for m in range(1, 13):\n",
    "    MonthIn = YearIn[YearIn['Month']==m]\n",
    "    TotalCount = YearIn[YearIn['Month']==m].count().Month\n",
    "    Mcount = MonthIn[MonthIn['BOROUGH']=='MANHATTAN'].count().BOROUGH\n",
    "    Percent = Mcount/TotalCount\n",
    "    \n",
    "    MList.append(m)\n",
    "    MCountList.append(Mcount)\n",
    "    NYCList.append(TotalCount)   \n",
    "    PList.append(Percent)\n",
    "    \n",
    "# MCountList\n",
    "# MList\n",
    "# PList\n",
    "# NYCList"
   ]
  },
  {
   "cell_type": "code",
   "execution_count": 167,
   "metadata": {
    "collapsed": false
   },
   "outputs": [
    {
     "data": {
      "text/html": [
       "<div>\n",
       "<table border=\"1\" class=\"dataframe\">\n",
       "  <thead>\n",
       "    <tr style=\"text-align: right;\">\n",
       "      <th></th>\n",
       "      <th>MANHATTAN</th>\n",
       "      <th>MONTH</th>\n",
       "      <th>NYC</th>\n",
       "      <th>PERCENTAGE</th>\n",
       "    </tr>\n",
       "  </thead>\n",
       "  <tbody>\n",
       "    <tr>\n",
       "      <th>0</th>\n",
       "      <td>3178</td>\n",
       "      <td>1</td>\n",
       "      <td>18101</td>\n",
       "      <td>0.175570</td>\n",
       "    </tr>\n",
       "    <tr>\n",
       "      <th>1</th>\n",
       "      <td>3195</td>\n",
       "      <td>2</td>\n",
       "      <td>15985</td>\n",
       "      <td>0.199875</td>\n",
       "    </tr>\n",
       "    <tr>\n",
       "      <th>2</th>\n",
       "      <td>3479</td>\n",
       "      <td>3</td>\n",
       "      <td>18471</td>\n",
       "      <td>0.188349</td>\n",
       "    </tr>\n",
       "    <tr>\n",
       "      <th>3</th>\n",
       "      <td>3540</td>\n",
       "      <td>4</td>\n",
       "      <td>18331</td>\n",
       "      <td>0.193115</td>\n",
       "    </tr>\n",
       "    <tr>\n",
       "      <th>4</th>\n",
       "      <td>3432</td>\n",
       "      <td>5</td>\n",
       "      <td>20052</td>\n",
       "      <td>0.171155</td>\n",
       "    </tr>\n",
       "  </tbody>\n",
       "</table>\n",
       "</div>"
      ],
      "text/plain": [
       "   MANHATTAN  MONTH    NYC  PERCENTAGE\n",
       "0       3178      1  18101    0.175570\n",
       "1       3195      2  15985    0.199875\n",
       "2       3479      3  18471    0.188349\n",
       "3       3540      4  18331    0.193115\n",
       "4       3432      5  20052    0.171155"
      ]
     },
     "execution_count": 167,
     "metadata": {},
     "output_type": "execute_result"
    }
   ],
   "source": [
    "data = {'MONTH':MList,'MANHATTAN':MCountList,'NYC':NYCList,'PERCENTAGE':PList}\n",
    "frame = DataFrame(data)\n",
    "frame.head()"
   ]
  },
  {
   "cell_type": "code",
   "execution_count": 170,
   "metadata": {
    "collapsed": true
   },
   "outputs": [],
   "source": [
    "# Write DataFrame to CSV \n",
    "frame.to_csv('Q1_PART ONE.csv')"
   ]
  },
  {
   "cell_type": "code",
   "execution_count": 171,
   "metadata": {
    "collapsed": false
   },
   "outputs": [],
   "source": [
    "output = pd.read_csv('Q1_PART ONE.csv')"
   ]
  },
  {
   "cell_type": "code",
   "execution_count": 172,
   "metadata": {
    "collapsed": false
   },
   "outputs": [
    {
     "data": {
      "text/html": [
       "<div>\n",
       "<table border=\"1\" class=\"dataframe\">\n",
       "  <thead>\n",
       "    <tr style=\"text-align: right;\">\n",
       "      <th></th>\n",
       "      <th>Unnamed: 0</th>\n",
       "      <th>MANHATTAN</th>\n",
       "      <th>MONTH</th>\n",
       "      <th>NYC</th>\n",
       "      <th>PERCENTAGE</th>\n",
       "    </tr>\n",
       "  </thead>\n",
       "  <tbody>\n",
       "    <tr>\n",
       "      <th>0</th>\n",
       "      <td>0</td>\n",
       "      <td>3178</td>\n",
       "      <td>1</td>\n",
       "      <td>18101</td>\n",
       "      <td>0.175570</td>\n",
       "    </tr>\n",
       "    <tr>\n",
       "      <th>1</th>\n",
       "      <td>1</td>\n",
       "      <td>3195</td>\n",
       "      <td>2</td>\n",
       "      <td>15985</td>\n",
       "      <td>0.199875</td>\n",
       "    </tr>\n",
       "    <tr>\n",
       "      <th>2</th>\n",
       "      <td>2</td>\n",
       "      <td>3479</td>\n",
       "      <td>3</td>\n",
       "      <td>18471</td>\n",
       "      <td>0.188349</td>\n",
       "    </tr>\n",
       "    <tr>\n",
       "      <th>3</th>\n",
       "      <td>3</td>\n",
       "      <td>3540</td>\n",
       "      <td>4</td>\n",
       "      <td>18331</td>\n",
       "      <td>0.193115</td>\n",
       "    </tr>\n",
       "    <tr>\n",
       "      <th>4</th>\n",
       "      <td>4</td>\n",
       "      <td>3432</td>\n",
       "      <td>5</td>\n",
       "      <td>20052</td>\n",
       "      <td>0.171155</td>\n",
       "    </tr>\n",
       "    <tr>\n",
       "      <th>5</th>\n",
       "      <td>5</td>\n",
       "      <td>2956</td>\n",
       "      <td>6</td>\n",
       "      <td>19433</td>\n",
       "      <td>0.152112</td>\n",
       "    </tr>\n",
       "    <tr>\n",
       "      <th>6</th>\n",
       "      <td>6</td>\n",
       "      <td>3055</td>\n",
       "      <td>7</td>\n",
       "      <td>19867</td>\n",
       "      <td>0.153773</td>\n",
       "    </tr>\n",
       "    <tr>\n",
       "      <th>7</th>\n",
       "      <td>7</td>\n",
       "      <td>2844</td>\n",
       "      <td>8</td>\n",
       "      <td>19678</td>\n",
       "      <td>0.144527</td>\n",
       "    </tr>\n",
       "    <tr>\n",
       "      <th>8</th>\n",
       "      <td>8</td>\n",
       "      <td>2744</td>\n",
       "      <td>9</td>\n",
       "      <td>19492</td>\n",
       "      <td>0.140776</td>\n",
       "    </tr>\n",
       "    <tr>\n",
       "      <th>9</th>\n",
       "      <td>9</td>\n",
       "      <td>2831</td>\n",
       "      <td>10</td>\n",
       "      <td>19666</td>\n",
       "      <td>0.143954</td>\n",
       "    </tr>\n",
       "    <tr>\n",
       "      <th>10</th>\n",
       "      <td>10</td>\n",
       "      <td>2838</td>\n",
       "      <td>11</td>\n",
       "      <td>19315</td>\n",
       "      <td>0.146932</td>\n",
       "    </tr>\n",
       "    <tr>\n",
       "      <th>11</th>\n",
       "      <td>11</td>\n",
       "      <td>2634</td>\n",
       "      <td>12</td>\n",
       "      <td>19214</td>\n",
       "      <td>0.137088</td>\n",
       "    </tr>\n",
       "  </tbody>\n",
       "</table>\n",
       "</div>"
      ],
      "text/plain": [
       "    Unnamed: 0  MANHATTAN  MONTH    NYC  PERCENTAGE\n",
       "0            0       3178      1  18101    0.175570\n",
       "1            1       3195      2  15985    0.199875\n",
       "2            2       3479      3  18471    0.188349\n",
       "3            3       3540      4  18331    0.193115\n",
       "4            4       3432      5  20052    0.171155\n",
       "5            5       2956      6  19433    0.152112\n",
       "6            6       3055      7  19867    0.153773\n",
       "7            7       2844      8  19678    0.144527\n",
       "8            8       2744      9  19492    0.140776\n",
       "9            9       2831     10  19666    0.143954\n",
       "10          10       2838     11  19315    0.146932\n",
       "11          11       2634     12  19214    0.137088"
      ]
     },
     "execution_count": 172,
     "metadata": {},
     "output_type": "execute_result"
    }
   ],
   "source": [
    "output"
   ]
  }
 ],
 "metadata": {
  "anaconda-cloud": {},
  "kernelspec": {
   "display_name": "Python [conda root]",
   "language": "python",
   "name": "conda-root-py"
  },
  "language_info": {
   "codemirror_mode": {
    "name": "ipython",
    "version": 3
   },
   "file_extension": ".py",
   "mimetype": "text/x-python",
   "name": "python",
   "nbconvert_exporter": "python",
   "pygments_lexer": "ipython3",
   "version": "3.5.2"
  }
 },
 "nbformat": 4,
 "nbformat_minor": 1
}
