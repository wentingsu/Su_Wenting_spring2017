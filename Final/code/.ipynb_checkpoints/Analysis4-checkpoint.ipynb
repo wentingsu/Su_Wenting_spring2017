{
 "cells": [
  {
   "cell_type": "markdown",
   "metadata": {},
   "source": [
    "# Analysis 4\n",
    "\n",
    "* analyse the variable\n",
    "* from previous analyses we can find out that the happiness scores difference between Western Europe and  Central and Eastern Europe is large. In this analysis, let's find out each how variables influence the outcomes."
   ]
  },
  {
   "cell_type": "code",
   "execution_count": 3,
   "metadata": {
    "collapsed": true
   },
   "outputs": [],
   "source": [
    "import pandas as pd\n",
    "# from pythainlp.segment import segment\n",
    "import seaborn as sns\n",
    "import numpy as np\n",
    "import matplotlib.pyplot as plt\n",
    "import math\n",
    "%matplotlib inline"
   ]
  },
  {
   "cell_type": "code",
   "execution_count": 4,
   "metadata": {
    "collapsed": true
   },
   "outputs": [],
   "source": [
    "# define the function to calculate and create the total score of happiness.\n",
    "def getTotalScore(str):\n",
    "    # load the data\n",
    "    data = pd.read_csv(str)\n",
    "    # get all the columns that to be added together\n",
    "    colums = data.ix[:,2:]\n",
    "    # add the new column named 'total score'\n",
    "    # data['total score'] = colums.sum(axis = 1).head()\n",
    "    data['total score'] = np.sum(colums,axis = 1)\n",
    "    # return the data frame\n",
    "    return data"
   ]
  },
  {
   "cell_type": "code",
   "execution_count": 5,
   "metadata": {
    "collapsed": true
   },
   "outputs": [],
   "source": [
    "data2015=getTotalScore('data/2015.csv')\n",
    "data2016=getTotalScore('data/2016.csv')"
   ]
  },
  {
   "cell_type": "code",
   "execution_count": 6,
   "metadata": {
    "collapsed": true
   },
   "outputs": [],
   "source": [
    "#define the function to sort based on total score and add a new column named rank\n",
    "def getRank(data):\n",
    "    newData = data.sort_values(by='total score',ascending=False)\n",
    "    newData['Rank'] = range(1,len(data) + 1)\n",
    "    newData.index = range(0,len(data))\n",
    "    return newData"
   ]
  },
  {
   "cell_type": "code",
   "execution_count": 7,
   "metadata": {
    "collapsed": true
   },
   "outputs": [],
   "source": [
    "data1 = getRank(data2015)\n",
    "data2 = getRank(data2016)"
   ]
  },
  {
   "cell_type": "code",
   "execution_count": 9,
   "metadata": {
    "collapsed": false
   },
   "outputs": [
    {
     "data": {
      "text/plain": [
       "Index(['Country', 'Region', 'Economy (GDP per Capita)', 'Family',\n",
       "       'Health (Life Expectancy)', 'Freedom', 'Trust (Government Corruption)',\n",
       "       'Generosity', 'Dystopia Residual', 'total score', 'Rank'],\n",
       "      dtype='object')"
      ]
     },
     "execution_count": 9,
     "metadata": {},
     "output_type": "execute_result"
    }
   ],
   "source": [
    "data1.columns"
   ]
  },
  {
   "cell_type": "code",
   "execution_count": null,
   "metadata": {
    "collapsed": true
   },
   "outputs": [],
   "source": [
    "# apply the PCA "
   ]
  },
  {
   "cell_type": "code",
   "execution_count": 13,
   "metadata": {
    "collapsed": true
   },
   "outputs": [],
   "source": [
    "from sklearn.preprocessing import StandardScaler"
   ]
  },
  {
   "cell_type": "code",
   "execution_count": 12,
   "metadata": {
    "collapsed": true
   },
   "outputs": [],
   "source": [
    "df = data2015.ix[:,2:-1]"
   ]
  },
  {
   "cell_type": "code",
   "execution_count": 33,
   "metadata": {
    "collapsed": false
   },
   "outputs": [
    {
     "data": {
      "text/html": [
       "<div>\n",
       "<table border=\"1\" class=\"dataframe\">\n",
       "  <thead>\n",
       "    <tr style=\"text-align: right;\">\n",
       "      <th></th>\n",
       "      <th>Economy (GDP per Capita)</th>\n",
       "      <th>Family</th>\n",
       "      <th>Health (Life Expectancy)</th>\n",
       "      <th>Freedom</th>\n",
       "      <th>Trust (Government Corruption)</th>\n",
       "      <th>Generosity</th>\n",
       "      <th>Dystopia Residual</th>\n",
       "    </tr>\n",
       "  </thead>\n",
       "  <tbody>\n",
       "    <tr>\n",
       "      <th>0</th>\n",
       "      <td>0.31982</td>\n",
       "      <td>0.30285</td>\n",
       "      <td>0.30335</td>\n",
       "      <td>0.23414</td>\n",
       "      <td>0.09719</td>\n",
       "      <td>0.36510</td>\n",
       "      <td>1.95210</td>\n",
       "    </tr>\n",
       "    <tr>\n",
       "      <th>1</th>\n",
       "      <td>0.87867</td>\n",
       "      <td>0.80434</td>\n",
       "      <td>0.81325</td>\n",
       "      <td>0.35733</td>\n",
       "      <td>0.06413</td>\n",
       "      <td>0.14272</td>\n",
       "      <td>1.89894</td>\n",
       "    </tr>\n",
       "    <tr>\n",
       "      <th>2</th>\n",
       "      <td>0.93929</td>\n",
       "      <td>1.07772</td>\n",
       "      <td>0.61766</td>\n",
       "      <td>0.28579</td>\n",
       "      <td>0.17383</td>\n",
       "      <td>0.07822</td>\n",
       "      <td>2.43209</td>\n",
       "    </tr>\n",
       "    <tr>\n",
       "      <th>3</th>\n",
       "      <td>0.75778</td>\n",
       "      <td>0.86040</td>\n",
       "      <td>0.16683</td>\n",
       "      <td>0.10384</td>\n",
       "      <td>0.07122</td>\n",
       "      <td>0.12344</td>\n",
       "      <td>1.94939</td>\n",
       "    </tr>\n",
       "    <tr>\n",
       "      <th>4</th>\n",
       "      <td>1.05351</td>\n",
       "      <td>1.24823</td>\n",
       "      <td>0.78723</td>\n",
       "      <td>0.44974</td>\n",
       "      <td>0.08484</td>\n",
       "      <td>0.11451</td>\n",
       "      <td>2.83600</td>\n",
       "    </tr>\n",
       "  </tbody>\n",
       "</table>\n",
       "</div>"
      ],
      "text/plain": [
       "   Economy (GDP per Capita)   Family  Health (Life Expectancy)  Freedom  \\\n",
       "0                   0.31982  0.30285                   0.30335  0.23414   \n",
       "1                   0.87867  0.80434                   0.81325  0.35733   \n",
       "2                   0.93929  1.07772                   0.61766  0.28579   \n",
       "3                   0.75778  0.86040                   0.16683  0.10384   \n",
       "4                   1.05351  1.24823                   0.78723  0.44974   \n",
       "\n",
       "   Trust (Government Corruption)  Generosity  Dystopia Residual  \n",
       "0                        0.09719     0.36510            1.95210  \n",
       "1                        0.06413     0.14272            1.89894  \n",
       "2                        0.17383     0.07822            2.43209  \n",
       "3                        0.07122     0.12344            1.94939  \n",
       "4                        0.08484     0.11451            2.83600  "
      ]
     },
     "execution_count": 33,
     "metadata": {},
     "output_type": "execute_result"
    }
   ],
   "source": [
    "df.head()"
   ]
  },
  {
   "cell_type": "code",
   "execution_count": 17,
   "metadata": {
    "collapsed": true
   },
   "outputs": [],
   "source": [
    "# standardize the data prior to a PCA,to make sure it was measured on the same scales. \n",
    "X_std = StandardScaler().fit_transform(df)"
   ]
  },
  {
   "cell_type": "code",
   "execution_count": 29,
   "metadata": {
    "collapsed": false
   },
   "outputs": [
    {
     "data": {
      "text/html": [
       "<div>\n",
       "<table border=\"1\" class=\"dataframe\">\n",
       "  <thead>\n",
       "    <tr style=\"text-align: right;\">\n",
       "      <th></th>\n",
       "      <th>0</th>\n",
       "      <th>1</th>\n",
       "      <th>2</th>\n",
       "      <th>3</th>\n",
       "      <th>4</th>\n",
       "      <th>5</th>\n",
       "      <th>6</th>\n",
       "    </tr>\n",
       "  </thead>\n",
       "  <tbody>\n",
       "    <tr>\n",
       "      <th>0</th>\n",
       "      <td>-1.309758</td>\n",
       "      <td>-2.534738</td>\n",
       "      <td>-1.327310</td>\n",
       "      <td>-1.294643</td>\n",
       "      <td>-0.386381</td>\n",
       "      <td>1.012045</td>\n",
       "      <td>-0.266180</td>\n",
       "    </tr>\n",
       "    <tr>\n",
       "      <th>1</th>\n",
       "      <td>0.080959</td>\n",
       "      <td>-0.687668</td>\n",
       "      <td>0.742975</td>\n",
       "      <td>-0.474552</td>\n",
       "      <td>-0.662678</td>\n",
       "      <td>-0.748915</td>\n",
       "      <td>-0.362520</td>\n",
       "    </tr>\n",
       "    <tr>\n",
       "      <th>2</th>\n",
       "      <td>0.231814</td>\n",
       "      <td>0.319235</td>\n",
       "      <td>-0.051156</td>\n",
       "      <td>-0.950802</td>\n",
       "      <td>0.254135</td>\n",
       "      <td>-1.259671</td>\n",
       "      <td>0.603690</td>\n",
       "    </tr>\n",
       "    <tr>\n",
       "      <th>3</th>\n",
       "      <td>-0.219880</td>\n",
       "      <td>-0.481190</td>\n",
       "      <td>-1.881606</td>\n",
       "      <td>-2.162065</td>\n",
       "      <td>-0.603424</td>\n",
       "      <td>-0.901587</td>\n",
       "      <td>-0.271091</td>\n",
       "    </tr>\n",
       "    <tr>\n",
       "      <th>4</th>\n",
       "      <td>0.516054</td>\n",
       "      <td>0.947251</td>\n",
       "      <td>0.637329</td>\n",
       "      <td>0.140632</td>\n",
       "      <td>-0.489595</td>\n",
       "      <td>-0.972301</td>\n",
       "      <td>1.335682</td>\n",
       "    </tr>\n",
       "  </tbody>\n",
       "</table>\n",
       "</div>"
      ],
      "text/plain": [
       "          0         1         2         3         4         5         6\n",
       "0 -1.309758 -2.534738 -1.327310 -1.294643 -0.386381  1.012045 -0.266180\n",
       "1  0.080959 -0.687668  0.742975 -0.474552 -0.662678 -0.748915 -0.362520\n",
       "2  0.231814  0.319235 -0.051156 -0.950802  0.254135 -1.259671  0.603690\n",
       "3 -0.219880 -0.481190 -1.881606 -2.162065 -0.603424 -0.901587 -0.271091\n",
       "4  0.516054  0.947251  0.637329  0.140632 -0.489595 -0.972301  1.335682"
      ]
     },
     "execution_count": 29,
     "metadata": {},
     "output_type": "execute_result"
    }
   ],
   "source": [
    "pd.DataFrame(X_std).head()"
   ]
  },
  {
   "cell_type": "code",
   "execution_count": 30,
   "metadata": {
    "collapsed": true
   },
   "outputs": [],
   "source": [
    "mean_vec = np.mean(X_std, axis=0)\n",
    "cov_mat = (X_std - mean_vec).T.dot((X_std - mean_vec)) / (X_std.shape[0]-1)"
   ]
  },
  {
   "cell_type": "code",
   "execution_count": 25,
   "metadata": {
    "collapsed": true
   },
   "outputs": [],
   "source": [
    "cov_mat = np.cov(X_std.T)\n",
    "eig_vals, eig_vecs = np.linalg.eig(cov_mat)"
   ]
  },
  {
   "cell_type": "code",
   "execution_count": 34,
   "metadata": {
    "collapsed": false
   },
   "outputs": [
    {
     "data": {
      "image/png": "[encoded data removed]",
      "text/plain": [
       "<matplotlib.figure.Figure at 0x116767d30>"
      ]
     },
     "metadata": {},
     "output_type": "display_data"
    }
   ],
   "source": [
    "#correlation matrix\n",
    "f, ax = plt.subplots(figsize=(12, 9))\n",
    "sns.heatmap(cov_mat, vmax=.8, square=True,linewidths=.5);\n",
    "plt.savefig('4-2.png')"
   ]
  },
  {
   "cell_type": "code",
   "execution_count": 100,
   "metadata": {
    "collapsed": false
   },
   "outputs": [
    {
     "data": {
      "text/plain": [
       "[(2.8998868143778158,\n",
       "  array([ 0.49931645,  0.45265178,  0.47867305,  0.41885976,  0.32896949,\n",
       "          0.17466946,  0.04987698])),\n",
       " (1.3678196069281936,\n",
       "  array([ 0.31135195,  0.23107241,  0.2428812 , -0.33910987, -0.41844308,\n",
       "         -0.63957515,  0.30253552])),\n",
       " (1.0074757567646027,\n",
       "  array([-0.20867813,  0.07426284, -0.23852648,  0.23128222,  0.08272121,\n",
       "          0.08781997,  0.90884376])),\n",
       " (0.15068643206936874,\n",
       "  array([-0.75559967,  0.21424596,  0.5929985 , -0.04127411,  0.11333   ,\n",
       "         -0.12827433, -0.02278232])),\n",
       " (0.70733802707912563,\n",
       "  array([-0.04193984,  0.23561227,  0.13335323, -0.0532868 , -0.72472621,\n",
       "          0.6294931 ,  0.02481347])),\n",
       " (0.52366365719237884,\n",
       "  array([-0.19354103,  0.55125738, -0.45084797,  0.48171367, -0.2118631 ,\n",
       "         -0.31579256, -0.28059635])),\n",
       " (0.38771569284966267,\n",
       "  array([ 0.00696697, -0.57523714,  0.28686538,  0.64767155, -0.3562077 ,\n",
       "         -0.20070142,  0.01088658]))]"
      ]
     },
     "execution_count": 100,
     "metadata": {},
     "output_type": "execute_result"
    }
   ],
   "source": [
    "# eig_pairs1"
   ]
  },
  {
   "cell_type": "code",
   "execution_count": 40,
   "metadata": {
    "collapsed": true
   },
   "outputs": [],
   "source": [
    "tot = sum(eig_vals)\n",
    "var_exp = [(i / tot)*100 for i in sorted(eig_vals, reverse=True)]\n",
    "cum_var_exp = np.cumsum(var_exp)"
   ]
  },
  {
   "cell_type": "code",
   "execution_count": 46,
   "metadata": {
    "collapsed": false
   },
   "outputs": [
    {
     "data": {
      "image/png": "[encoded data removed]",
      "text/plain": [
       "<matplotlib.figure.Figure at 0x11544a160>"
      ]
     },
     "metadata": {},
     "output_type": "display_data"
    }
   ],
   "source": [
    "with plt.style.context('seaborn-whitegrid'):\n",
    "    plt.figure(figsize=(6, 3))\n",
    "\n",
    "    plt.bar(range(7), var_exp, alpha=0.5, align='center',\n",
    "            label='individual explained variance')\n",
    "    plt.step(range(7), cum_var_exp, where='mid',\n",
    "             label='cumulative explained variance')\n",
    "    plt.ylabel('Explained variance ratio')\n",
    "    plt.xlabel('Principal components')\n",
    "    plt.legend(loc='best')\n",
    "    plt.tight_layout()\n",
    "#     plt.show()\n",
    "    plt.savefig('4-3.png')"
   ]
  },
  {
   "cell_type": "code",
   "execution_count": 48,
   "metadata": {
    "collapsed": false
   },
   "outputs": [],
   "source": [
    "tot = sum(eig_vals)\n",
    "var_exp = [(i / tot)*100 for i in eig_vals]\n",
    "cum_var_exp = np.cumsum(var_exp)"
   ]
  },
  {
   "cell_type": "code",
   "execution_count": 49,
   "metadata": {
    "collapsed": false
   },
   "outputs": [
    {
     "data": {
      "image/png": "[encoded data removed]",
      "text/plain": [
       "<matplotlib.figure.Figure at 0x116720400>"
      ]
     },
     "metadata": {},
     "output_type": "display_data"
    }
   ],
   "source": [
    "with plt.style.context('seaborn-whitegrid'):\n",
    "    plt.figure(figsize=(6, 3))\n",
    "\n",
    "    plt.bar(range(7), var_exp, alpha=0.5, align='center',\n",
    "            label='individual explained variance')\n",
    "    plt.step(range(7), cum_var_exp, where='mid',\n",
    "             label='cumulative explained variance')\n",
    "    plt.ylabel('Explained variance ratio')\n",
    "    plt.xlabel('Principal components')\n",
    "    plt.legend(loc='best')\n",
    "    plt.tight_layout()\n",
    "#     plt.show()\n",
    "    plt.savefig('4-4.png')"
   ]
  },
  {
   "cell_type": "code",
   "execution_count": 50,
   "metadata": {
    "collapsed": true
   },
   "outputs": [],
   "source": [
    "from sklearn.decomposition import PCA"
   ]
  },
  {
   "cell_type": "code",
   "execution_count": 51,
   "metadata": {
    "collapsed": true
   },
   "outputs": [],
   "source": [
    "X = np.array(X_std)"
   ]
  },
  {
   "cell_type": "code",
   "execution_count": 52,
   "metadata": {
    "collapsed": true
   },
   "outputs": [],
   "source": [
    "pca=PCA(n_components=6)"
   ]
  },
  {
   "cell_type": "code",
   "execution_count": 53,
   "metadata": {
    "collapsed": false
   },
   "outputs": [
    {
     "data": {
      "text/plain": [
       "PCA(copy=True, iterated_power='auto', n_components=6, random_state=None,\n",
       "  svd_solver='auto', tol=0.0, whiten=False)"
      ]
     },
     "execution_count": 53,
     "metadata": {},
     "output_type": "execute_result"
    }
   ],
   "source": [
    "pca.fit(X)"
   ]
  },
  {
   "cell_type": "code",
   "execution_count": 54,
   "metadata": {
    "collapsed": false
   },
   "outputs": [],
   "source": [
    "Y = pd.DataFrame(pca.transform(X))"
   ]
  },
  {
   "cell_type": "code",
   "execution_count": 59,
   "metadata": {
    "collapsed": false
   },
   "outputs": [],
   "source": [
    "Y.columns = ['Economy (GDP per Capita)','Family','Health (Life Expectancy)','Trust (Government Corruption)','Generosity','Dystopia Residual']"
   ]
  },
  {
   "cell_type": "code",
   "execution_count": 60,
   "metadata": {
    "collapsed": false
   },
   "outputs": [
    {
     "data": {
      "text/html": [
       "<div>\n",
       "<table border=\"1\" class=\"dataframe\">\n",
       "  <thead>\n",
       "    <tr style=\"text-align: right;\">\n",
       "      <th></th>\n",
       "      <th>Economy (GDP per Capita)</th>\n",
       "      <th>Family</th>\n",
       "      <th>Health (Life Expectancy)</th>\n",
       "      <th>Trust (Government Corruption)</th>\n",
       "      <th>Generosity</th>\n",
       "      <th>Dystopia Residual</th>\n",
       "    </tr>\n",
       "  </thead>\n",
       "  <tbody>\n",
       "    <tr>\n",
       "      <th>0</th>\n",
       "      <td>2.942569</td>\n",
       "      <td>1.442986</td>\n",
       "      <td>0.082748</td>\n",
       "      <td>-0.260193</td>\n",
       "      <td>1.332080</td>\n",
       "      <td>0.161303</td>\n",
       "    </tr>\n",
       "    <tr>\n",
       "      <th>1</th>\n",
       "      <td>0.480874</td>\n",
       "      <td>-0.854291</td>\n",
       "      <td>0.804998</td>\n",
       "      <td>0.041225</td>\n",
       "      <td>0.479697</td>\n",
       "      <td>0.684329</td>\n",
       "    </tr>\n",
       "    <tr>\n",
       "      <th>2</th>\n",
       "      <td>0.268802</td>\n",
       "      <td>-1.337895</td>\n",
       "      <td>-0.226689</td>\n",
       "      <td>0.852816</td>\n",
       "      <td>0.129276</td>\n",
       "      <td>-0.643638</td>\n",
       "    </tr>\n",
       "    <tr>\n",
       "      <th>3</th>\n",
       "      <td>2.503386</td>\n",
       "      <td>-0.843638</td>\n",
       "      <td>0.416558</td>\n",
       "      <td>0.376814</td>\n",
       "      <td>-0.072743</td>\n",
       "      <td>-1.271866</td>\n",
       "    </tr>\n",
       "    <tr>\n",
       "      <th>4</th>\n",
       "      <td>-0.786153</td>\n",
       "      <td>-1.717482</td>\n",
       "      <td>-0.931201</td>\n",
       "      <td>-0.054945</td>\n",
       "      <td>-0.238692</td>\n",
       "      <td>0.116693</td>\n",
       "    </tr>\n",
       "  </tbody>\n",
       "</table>\n",
       "</div>"
      ],
      "text/plain": [
       "   Economy (GDP per Capita)    Family  Health (Life Expectancy)  \\\n",
       "0                  2.942569  1.442986                  0.082748   \n",
       "1                  0.480874 -0.854291                  0.804998   \n",
       "2                  0.268802 -1.337895                 -0.226689   \n",
       "3                  2.503386 -0.843638                  0.416558   \n",
       "4                 -0.786153 -1.717482                 -0.931201   \n",
       "\n",
       "   Trust (Government Corruption)  Generosity  Dystopia Residual  \n",
       "0                      -0.260193    1.332080           0.161303  \n",
       "1                       0.041225    0.479697           0.684329  \n",
       "2                       0.852816    0.129276          -0.643638  \n",
       "3                       0.376814   -0.072743          -1.271866  \n",
       "4                      -0.054945   -0.238692           0.116693  "
      ]
     },
     "execution_count": 60,
     "metadata": {},
     "output_type": "execute_result"
    }
   ],
   "source": [
    "Y.head()"
   ]
  },
  {
   "cell_type": "code",
   "execution_count": 89,
   "metadata": {
    "collapsed": false
   },
   "outputs": [
    {
     "data": {
      "text/plain": [
       "array([ 0.41164759,  0.19416607,  0.14301419,  0.10040874,  0.07433562,\n",
       "        0.0550374 ])"
      ]
     },
     "execution_count": 89,
     "metadata": {},
     "output_type": "execute_result"
    }
   ],
   "source": [
    "pca.explained_variance_ratio_"
   ]
  },
  {
   "cell_type": "code",
   "execution_count": null,
   "metadata": {
    "collapsed": true
   },
   "outputs": [],
   "source": []
  }
 ],
 "metadata": {
  "anaconda-cloud": {},
  "kernelspec": {
   "display_name": "Python [conda root]",
   "language": "python",
   "name": "conda-root-py"
  },
  "language_info": {
   "codemirror_mode": {
    "name": "ipython",
    "version": 3
   },
   "file_extension": ".py",
   "mimetype": "text/x-python",
   "name": "python",
   "nbconvert_exporter": "python",
   "pygments_lexer": "ipython3",
   "version": "3.5.2"
  }
 },
 "nbformat": 4,
 "nbformat_minor": 1
}
