{
 "cells": [
  {
   "cell_type": "markdown",
   "metadata": {},
   "source": [
    "# Iterations and Comprehensions"
   ]
  },
  {
   "cell_type": "code",
   "execution_count": 2,
   "metadata": {
    "collapsed": false
   },
   "outputs": [
    {
     "name": "stdout",
     "output_type": "stream",
     "text": [
      "1 4 9 16 1 8 27 64 ss pp aa mm "
     ]
    }
   ],
   "source": [
    "for x in [1, 2, 3, 4]: print(x ** 2, end=' ')\n",
    "for x in (1, 2, 3, 4): print(x ** 3, end=' ')\n",
    "for x in 'spam': print(x * 2, end=' ')"
   ]
  },
  {
   "cell_type": "code",
   "execution_count": 3,
   "metadata": {
    "collapsed": false
   },
   "outputs": [
    {
     "data": {
      "text/plain": [
       "[11, 12, 13, 14, 15]"
      ]
     },
     "execution_count": 3,
     "metadata": {},
     "output_type": "execute_result"
    }
   ],
   "source": [
    "L = [1,2,3,4,5]\n",
    "for i in range(len(L)):\n",
    "    L[i] +=10\n",
    "L"
   ]
  },
  {
   "cell_type": "code",
   "execution_count": 4,
   "metadata": {
    "collapsed": true
   },
   "outputs": [],
   "source": [
    "L = [x + 10 for x in L]"
   ]
  },
  {
   "cell_type": "code",
   "execution_count": 5,
   "metadata": {
    "collapsed": false
   },
   "outputs": [
    {
     "ename": "FileNotFoundError",
     "evalue": "[Errno 2] No such file or directory: 'myfile.py'",
     "output_type": "error",
     "traceback": [
      "\u001b[0;31m---------------------------------------------------------------------------\u001b[0m",
      "\u001b[0;31mFileNotFoundError\u001b[0m                         Traceback (most recent call last)",
      "\u001b[0;32m<ipython-input-5-61c911984dc4>\u001b[0m in \u001b[0;36m<module>\u001b[0;34m()\u001b[0m\n\u001b[0;32m----> 1\u001b[0;31m \u001b[0mlines\u001b[0m \u001b[0;34m=\u001b[0m \u001b[0;34m[\u001b[0m\u001b[0mline\u001b[0m\u001b[0;34m.\u001b[0m\u001b[0mrstrip\u001b[0m\u001b[0;34m(\u001b[0m\u001b[0;34m)\u001b[0m \u001b[0;32mfor\u001b[0m \u001b[0mline\u001b[0m \u001b[0;32min\u001b[0m \u001b[0mopen\u001b[0m\u001b[0;34m(\u001b[0m\u001b[0;34m'myfile.py'\u001b[0m\u001b[0;34m)\u001b[0m\u001b[0;34m]\u001b[0m\u001b[0;34m\u001b[0m\u001b[0m\n\u001b[0m\u001b[1;32m      2\u001b[0m \u001b[0;34m[\u001b[0m\u001b[0mline\u001b[0m\u001b[0;34m.\u001b[0m\u001b[0mrstrip\u001b[0m\u001b[0;34m(\u001b[0m\u001b[0;34m)\u001b[0m\u001b[0;34m.\u001b[0m\u001b[0mupper\u001b[0m\u001b[0;34m(\u001b[0m\u001b[0;34m)\u001b[0m \u001b[0;32mfor\u001b[0m \u001b[0mline\u001b[0m \u001b[0;32min\u001b[0m \u001b[0mopen\u001b[0m\u001b[0;34m(\u001b[0m\u001b[0;34m'myfile.py'\u001b[0m\u001b[0;34m)\u001b[0m\u001b[0;34m]\u001b[0m\u001b[0;34m\u001b[0m\u001b[0m\n",
      "\u001b[0;31mFileNotFoundError\u001b[0m: [Errno 2] No such file or directory: 'myfile.py'"
     ]
    }
   ],
   "source": [
    "lines = [line.rstrip() for line in open('myfile.py')]\n",
    "[line.rstrip().upper() for line in open('myfile.py')]"
   ]
  },
  {
   "cell_type": "code",
   "execution_count": null,
   "metadata": {
    "collapsed": true
   },
   "outputs": [],
   "source": [
    "lines = [line.rstrip() for line in open('myfile.py') if line[0] == 'p']"
   ]
  },
  {
   "cell_type": "code",
   "execution_count": 6,
   "metadata": {
    "collapsed": false
   },
   "outputs": [
    {
     "data": {
      "text/plain": [
       "[0, 1, 4, 9, 16, 25, 36, 49, 64, 81]"
      ]
     },
     "execution_count": 6,
     "metadata": {},
     "output_type": "execute_result"
    }
   ],
   "source": [
    "res = [ord(x) for x in 'spam']    # [115, 112, 97, 109]\n",
    "[x ** 2 for x in range(10)]       # [0, 1, 4, 9, 16, 25, 36, 49, 64, 81]"
   ]
  },
  {
   "cell_type": "code",
   "execution_count": 13,
   "metadata": {
    "collapsed": false
   },
   "outputs": [
    {
     "data": {
      "text/plain": [
       "[0, 4, 16, 36, 64]"
      ]
     },
     "execution_count": 13,
     "metadata": {},
     "output_type": "execute_result"
    }
   ],
   "source": [
    "[x for x in range(5) if x % 2 == 0]    # [0, 2, 4]\n",
    "[x ** 2 for x in range(10) if x % 2 == 0] #  [0, 4, 16, 36, 64]"
   ]
  },
  {
   "cell_type": "code",
   "execution_count": null,
   "metadata": {
    "collapsed": true
   },
   "outputs": [],
   "source": [
    "'''\n",
    "Syntax : [ expression for target in iterable ]\n",
    "\n",
    "[ expression for target1 in iterable1 if condition1\n",
    "             for target2 in iterable2 if condition2 ...\n",
    "             for targetN in iterableN if conditionN ]\n",
    "'''"
   ]
  },
  {
   "cell_type": "code",
   "execution_count": 16,
   "metadata": {
    "collapsed": false
   },
   "outputs": [
    {
     "name": "stdout",
     "output_type": "stream",
     "text": [
      "[100, 200, 300, 101, 201, 301, 102, 202, 302]\n"
     ]
    }
   ],
   "source": [
    "res = [x + y for x in [0, 1, 2] for y in [100, 200, 300]]\n",
    "\n",
    "# [100, 200, 300, 101, 201, 301, 102, 202, 302]\n",
    "\n",
    "res = []\n",
    "for x in [0, 1, 2]:\n",
    "    for y in [100, 200, 300]: \n",
    "        res.append(x + y)\n",
    "print (res)"
   ]
  },
  {
   "cell_type": "code",
   "execution_count": 30,
   "metadata": {
    "collapsed": false
   },
   "outputs": [
    {
     "name": "stdout",
     "output_type": "stream",
     "text": [
      "[100, 200, 300, 101, 201, 301, 102, 202, 302]\n"
     ]
    }
   ],
   "source": [
    "res = [x + y for x in [0, 1, 2] for y in [100, 200, 300]]\n",
    "print(res)"
   ]
  },
  {
   "cell_type": "code",
   "execution_count": 10,
   "metadata": {
    "collapsed": false
   },
   "outputs": [
    {
     "data": {
      "text/plain": [
       "['sP2', 'sP3', 'sA2', 'sA3', 'mP2', 'mP3', 'mA2', 'mA3']"
      ]
     },
     "execution_count": 10,
     "metadata": {},
     "output_type": "execute_result"
    }
   ],
   "source": [
    "[x + y for x in 'abc' for y in 'lmn']\n",
    "[x + y for x in 'spam' if x in 'sm' for y in 'SPAM' if y in ('P', 'A')]\n",
    "# ['sP', 'sA', 'mP', 'mA']\n",
    "\n",
    "[x + y + z  for x in 'spam' if x in 'sm'\n",
    "            for y in 'SPAM' if y in ('P', 'A')\n",
    "            for z in '123' if z > '1']"
   ]
  },
  {
   "cell_type": "code",
   "execution_count": 17,
   "metadata": {
    "collapsed": false
   },
   "outputs": [
    {
     "data": {
      "text/plain": [
       "['sP', 'sA', 'mP', 'mA']"
      ]
     },
     "execution_count": 17,
     "metadata": {},
     "output_type": "execute_result"
    }
   ],
   "source": [
    "[x + y for x in 'abc' for y in 'lmn']\n",
    "[x + y for x in 'spam' if x in 'sm' for y in 'SPAM' if y in ('P', 'A')]"
   ]
  },
  {
   "cell_type": "code",
   "execution_count": 7,
   "metadata": {
    "collapsed": false
   },
   "outputs": [
    {
     "data": {
      "text/plain": [
       "{0: 0, 1: 1, 2: 4, 3: 9, 4: 16, 5: 25, 6: 36, 7: 49, 8: 64, 9: 81}"
      ]
     },
     "execution_count": 7,
     "metadata": {},
     "output_type": "execute_result"
    }
   ],
   "source": [
    "{x: x * x for x in range(10)}"
   ]
  },
  {
   "cell_type": "code",
   "execution_count": 27,
   "metadata": {
    "collapsed": false
   },
   "outputs": [],
   "source": [
    "import nltk\n",
    "from nltk.corpus import inaugural\n",
    "inaugural.fileids()[-5:]\n",
    "words_obama = inaugural.words('2009-Obama.txt')"
   ]
  },
  {
   "cell_type": "code",
   "execution_count": 29,
   "metadata": {
    "collapsed": false
   },
   "outputs": [
    {
     "data": {
      "text/plain": [
       "43"
      ]
     },
     "execution_count": 29,
     "metadata": {},
     "output_type": "execute_result"
    }
   ],
   "source": [
    "#Using for comprehension : \n",
    "#1. Find words starting with a from obama inaugral adress using for comprehension\n",
    "len(set(word for word in inaugural.words('2009-Obama.txt') if word.startswith('a')))"
   ]
  },
  {
   "cell_type": "code",
   "execution_count": 33,
   "metadata": {
    "collapsed": true
   },
   "outputs": [],
   "source": [
    "#2. Find how many words are overlapping austern-emma.txt and shakespare-hamlet.txt\n",
    "from nltk.corpus import gutenberg\n",
    "emma = gutenberg.words('austen-emma.txt')\n",
    "sh = gutenberg.words('shakespeare-hamlet.txt')"
   ]
  },
  {
   "cell_type": "code",
   "execution_count": 35,
   "metadata": {
    "collapsed": true
   },
   "outputs": [],
   "source": [
    "sh = set([word.lower() for word in sh])\n",
    "emma = set ([word.lower() for word in emma])"
   ]
  },
  {
   "cell_type": "code",
   "execution_count": 41,
   "metadata": {
    "collapsed": false
   },
   "outputs": [
    {
     "data": {
      "text/plain": [
       "1519"
      ]
     },
     "execution_count": 41,
     "metadata": {},
     "output_type": "execute_result"
    }
   ],
   "source": [
    "len(set([word for word in emma if word in sh]))\n",
    "#[word for word in sh if word in emma]"
   ]
  },
  {
   "cell_type": "code",
   "execution_count": 40,
   "metadata": {
    "collapsed": false
   },
   "outputs": [
    {
     "data": {
      "text/plain": [
       "4716"
      ]
     },
     "execution_count": 40,
     "metadata": {},
     "output_type": "execute_result"
    }
   ],
   "source": [
    "len(sh)"
   ]
  },
  {
   "cell_type": "markdown",
   "metadata": {},
   "source": [
    "## Generator Functions and Expressions"
   ]
  },
  {
   "cell_type": "code",
   "execution_count": 42,
   "metadata": {
    "collapsed": false
   },
   "outputs": [
    {
     "ename": "StopIteration",
     "evalue": "",
     "output_type": "error",
     "traceback": [
      "\u001b[0;31m---------------------------------------------------------------------------\u001b[0m",
      "\u001b[0;31mStopIteration\u001b[0m                             Traceback (most recent call last)",
      "\u001b[0;32m<ipython-input-42-d5c1cf6ae97f>\u001b[0m in \u001b[0;36m<module>\u001b[0;34m()\u001b[0m\n\u001b[1;32m      8\u001b[0m \u001b[0mnext\u001b[0m\u001b[0;34m(\u001b[0m\u001b[0mx\u001b[0m\u001b[0;34m)\u001b[0m       \u001b[0;31m# 4\u001b[0m\u001b[0;34m\u001b[0m\u001b[0m\n\u001b[1;32m      9\u001b[0m \u001b[0mnext\u001b[0m\u001b[0;34m(\u001b[0m\u001b[0mx\u001b[0m\u001b[0;34m)\u001b[0m       \u001b[0;31m# 9\u001b[0m\u001b[0;34m\u001b[0m\u001b[0m\n\u001b[0;32m---> 10\u001b[0;31m \u001b[0mnext\u001b[0m\u001b[0;34m(\u001b[0m\u001b[0mx\u001b[0m\u001b[0;34m)\u001b[0m       \u001b[0;31m#Error\u001b[0m\u001b[0;34m\u001b[0m\u001b[0m\n\u001b[0m\u001b[1;32m     11\u001b[0m \u001b[0;34m\u001b[0m\u001b[0m\n\u001b[1;32m     12\u001b[0m \u001b[0;34m\u001b[0m\u001b[0m\n",
      "\u001b[0;31mStopIteration\u001b[0m: "
     ]
    }
   ],
   "source": [
    "def gensquares(N):\n",
    "    for i in range(N):\n",
    "        yield i ** 2          # Resume here later\n",
    "        \n",
    "x = gensquares(4)\n",
    "next(x)       # 0\n",
    "next(x)       # 1\n",
    "next(x)       # 4\n",
    "next(x)       # 9\n",
    "next(x)       #Error\n",
    "\n",
    "\n",
    "for i in gensquares(5): # Resume the function \n",
    "    print(i, end=' : ') # Print last yielded value"
   ]
  },
  {
   "cell_type": "code",
   "execution_count": 43,
   "metadata": {
    "collapsed": false
   },
   "outputs": [
    {
     "data": {
      "text/plain": [
       "[0, 1, 4, 9]"
      ]
     },
     "execution_count": 43,
     "metadata": {},
     "output_type": "execute_result"
    }
   ],
   "source": [
    "[x ** 2 for x in range(4)]       # List comprehension: build a list\n",
    "(x ** 2 for x in range(4)) # Generator expression: make an iterable\n",
    "list(x ** 2 for x in range(4))"
   ]
  },
  {
   "cell_type": "markdown",
   "metadata": {},
   "source": [
    "# Function Basics"
   ]
  },
  {
   "cell_type": "markdown",
   "metadata": {},
   "source": [
    "### Why use functions ?\n",
    "* Maximizing code reuse and minimizing redundancy\n",
    "* def is executable code\n",
    "* def creates an object and assigns it to a name\n",
    "* return sends a result object back to the caller\n",
    "* yield sends a result object back to the caller, but remembers where it left off\n",
    "* Arguments are passed by position, unless you say otherwise.\n",
    "* Arguments, return values, and variables are not declared"
   ]
  },
  {
   "cell_type": "code",
   "execution_count": null,
   "metadata": {
    "collapsed": true
   },
   "outputs": [],
   "source": [
    "'''\n",
    "Function defination :\n",
    "\n",
    "def name(arg1, arg2,... argN): ...\n",
    "    return value\n",
    "    \n",
    "Functions are\n",
    "if test:\n",
    "    def func():\n",
    "... else:\n",
    "    def func(): ...\n",
    "        ... func()\n",
    "'''"
   ]
  },
  {
   "cell_type": "code",
   "execution_count": 49,
   "metadata": {
    "collapsed": false
   },
   "outputs": [
    {
     "name": "stdout",
     "output_type": "stream",
     "text": [
      "user language :hello\n",
      "/x008/x567/x786\n"
     ]
    }
   ],
   "source": [
    "#example\n",
    "if input('user language :')=='en':\n",
    "    def helloworld():\n",
    "        print('Hello World')\n",
    "else:\n",
    "    def helloworld():\n",
    "        print('/x008/x567/x786')\n",
    "\n",
    "helloworld();"
   ]
  },
  {
   "cell_type": "code",
   "execution_count": 51,
   "metadata": {
    "collapsed": false
   },
   "outputs": [
    {
     "name": "stdout",
     "output_type": "stream",
     "text": [
      "/x008/x567/x786\n"
     ]
    }
   ],
   "source": [
    "#example\n",
    "    def helloworld():\n",
    "        print('Hello World')\n",
    "\n",
    "    def helloworld():\n",
    "        print('/x008/x567/x786')\n",
    "\n",
    "helloworld();"
   ]
  },
  {
   "cell_type": "code",
   "execution_count": 52,
   "metadata": {
    "collapsed": false,
    "scrolled": true
   },
   "outputs": [
    {
     "name": "stdout",
     "output_type": "stream",
     "text": [
      "8\n",
      "12.56\n"
     ]
    },
    {
     "data": {
      "text/plain": [
       "'NiNiNiNi'"
      ]
     },
     "execution_count": 52,
     "metadata": {},
     "output_type": "execute_result"
    }
   ],
   "source": [
    "def times(x, y): # Create and assign function ... \n",
    "    return x * y\n",
    "print(times(2, 4))\n",
    "\n",
    "x = times(3.14, 4)\n",
    "print(x)\n",
    "times('Ni', 4)\n"
   ]
  },
  {
   "cell_type": "code",
   "execution_count": 55,
   "metadata": {
    "collapsed": false
   },
   "outputs": [
    {
     "name": "stdout",
     "output_type": "stream",
     "text": [
      "['S', 'A', 'M']\n"
     ]
    },
    {
     "data": {
      "text/plain": [
       "['S', 'A', 'M']"
      ]
     },
     "execution_count": 55,
     "metadata": {},
     "output_type": "execute_result"
    }
   ],
   "source": [
    "def intersect(seq1, seq2): \n",
    "    res = []\n",
    "    for x in seq1:\n",
    "        if x in seq2:\n",
    "            res.append(x) \n",
    "    return res\n",
    "\n",
    "s1 = \"SPAM\"\n",
    "s2 = \"SCAM\"\n",
    "print(intersect(s1, s2))\n",
    "\n",
    "[x for x in s1 if x in s2]"
   ]
  },
  {
   "cell_type": "code",
   "execution_count": 58,
   "metadata": {
    "collapsed": true
   },
   "outputs": [],
   "source": [
    "def add(a,b):\n",
    "    return a,b,a+b\n",
    "\n",
    "value_1,value_2,value_sum = add(3,4)"
   ]
  },
  {
   "cell_type": "markdown",
   "metadata": {},
   "source": [
    "# Scopes"
   ]
  },
  {
   "cell_type": "markdown",
   "metadata": {},
   "source": [
    "* If a variable is assigned inside a def, it is local to that function.\n",
    "* If a variable is assigned in an enclosing def, it is nonlocal to nested functions.\n",
    "* If a variable is assigned outside all defs, it is global to the entire file.\n",
    "* The global scope spans a single file only\n",
    "* Assigned names are local unless declared global or nonlocal\n",
    "* All other names are enclosing function locals, globals, or built-ins. \n",
    "* Each call to a function creates a new local scope"
   ]
  },
  {
   "cell_type": "markdown",
   "metadata": {},
   "source": [
    "### The LEGB Rule "
   ]
  },
  {
   "cell_type": "code",
   "execution_count": 59,
   "metadata": {
    "collapsed": false
   },
   "outputs": [
    {
     "data": {
      "text/plain": [
       "100"
      ]
     },
     "execution_count": 59,
     "metadata": {},
     "output_type": "execute_result"
    }
   ],
   "source": [
    "#local, enclosing, global, builtin\n",
    "X = 99              # Global scope\n",
    "def func(Y):\n",
    "    # Local scope\n",
    "    Z = X + Y\n",
    "    return Z\n",
    "\n",
    "func(1)             # func in module: result=100\n"
   ]
  },
  {
   "cell_type": "code",
   "execution_count": null,
   "metadata": {
    "collapsed": true
   },
   "outputs": [],
   "source": [
    "def hider():\n",
    "    open = 'spam' # Local variable, hides built-in here\n",
    "    ...\n",
    "    open('data.txt') # Error: this no longer opens a file in this scope!"
   ]
  },
  {
   "cell_type": "code",
   "execution_count": 60,
   "metadata": {
    "collapsed": false
   },
   "outputs": [
    {
     "name": "stdout",
     "output_type": "stream",
     "text": [
      "99\n",
      "88\n"
     ]
    }
   ],
   "source": [
    "X = 88          # Global X\n",
    "def func(): \n",
    "    X = 99      # Local X: hides global, but we want this here\n",
    "    print(X)\n",
    "func() \n",
    "print(X)        # Prints 88: unchanged"
   ]
  },
  {
   "cell_type": "markdown",
   "metadata": {},
   "source": [
    "## Global Statement"
   ]
  },
  {
   "cell_type": "code",
   "execution_count": 66,
   "metadata": {
    "collapsed": false
   },
   "outputs": [
    {
     "name": "stdout",
     "output_type": "stream",
     "text": [
      "99\n"
     ]
    }
   ],
   "source": [
    "X = 88          # Global X\n",
    "def func(): \n",
    "    global X\n",
    "    X = 99      # Global X: outside def\n",
    "func() \n",
    "print(X)        # Prints 99"
   ]
  },
  {
   "cell_type": "code",
   "execution_count": 67,
   "metadata": {
    "collapsed": true
   },
   "outputs": [],
   "source": [
    "y, z = 1, 2            # Global variables in module\n",
    "def all_global():\n",
    "    global x           # Declare globals assigned\n",
    "    x = y + z\n",
    "    \n",
    "    \n",
    "    \n",
    "# Note : try to define as less global variable as possible inside functions\n",
    "\n",
    "X = 99\n",
    "def func1():\n",
    "    global X \n",
    "    X = 88\n",
    "def func2(): \n",
    "    global X\n",
    "    X = 77"
   ]
  },
  {
   "cell_type": "code",
   "execution_count": 68,
   "metadata": {
    "collapsed": false
   },
   "outputs": [
    {
     "ename": "ImportError",
     "evalue": "No module named 'first'",
     "output_type": "error",
     "traceback": [
      "\u001b[0;31m---------------------------------------------------------------------------\u001b[0m",
      "\u001b[0;31mImportError\u001b[0m                               Traceback (most recent call last)",
      "\u001b[0;32m<ipython-input-68-50cbdca05a3c>\u001b[0m in \u001b[0;36m<module>\u001b[0;34m()\u001b[0m\n\u001b[1;32m      3\u001b[0m \u001b[0;34m\u001b[0m\u001b[0m\n\u001b[1;32m      4\u001b[0m \u001b[0;31m# second.py\u001b[0m\u001b[0;34m\u001b[0m\u001b[0;34m\u001b[0m\u001b[0m\n\u001b[0;32m----> 5\u001b[0;31m \u001b[0;32mimport\u001b[0m \u001b[0mfirst\u001b[0m\u001b[0;34m\u001b[0m\u001b[0m\n\u001b[0m\u001b[1;32m      6\u001b[0m \u001b[0mprint\u001b[0m\u001b[0;34m(\u001b[0m\u001b[0mfirst\u001b[0m\u001b[0;34m.\u001b[0m\u001b[0mX\u001b[0m\u001b[0;34m)\u001b[0m  \u001b[0;31m# OK: references a name in another file\u001b[0m\u001b[0;34m\u001b[0m\u001b[0m\n\u001b[1;32m      7\u001b[0m \u001b[0mfirst\u001b[0m\u001b[0;34m.\u001b[0m\u001b[0mX\u001b[0m \u001b[0;34m=\u001b[0m \u001b[0;36m88\u001b[0m    \u001b[0;31m# But changing it can be too subtle and implicit\u001b[0m\u001b[0;34m\u001b[0m\u001b[0m\n",
      "\u001b[0;31mImportError\u001b[0m: No module named 'first'"
     ]
    }
   ],
   "source": [
    "# first.py\n",
    "X = 99          # This code doesn't know about second.py\n",
    "\n",
    "# second.py\n",
    "import first \n",
    "print(first.X)  # OK: references a name in another file\n",
    "first.X = 88    # But changing it can be too subtle and implicit\n",
    "\n",
    "\n",
    "# A better way to do this :\n",
    "\n",
    "# first.py\n",
    "X = 99\n",
    "def setX(new): # Accessor make external changes explit\n",
    "    global X  # And can manage access in a single place\n",
    "    X = new\n",
    "\n",
    "# second.py\n",
    "import first \n",
    "first.setX(88)  # Call the function instead of changing directly"
   ]
  },
  {
   "cell_type": "code",
   "execution_count": 69,
   "metadata": {
    "collapsed": false
   },
   "outputs": [
    {
     "ename": "ImportError",
     "evalue": "No module named 'thismod'",
     "output_type": "error",
     "traceback": [
      "\u001b[0;31m---------------------------------------------------------------------------\u001b[0m",
      "\u001b[0;31mImportError\u001b[0m                               Traceback (most recent call last)",
      "\u001b[0;32m<ipython-input-69-fd4805cc0f76>\u001b[0m in \u001b[0;36m<module>\u001b[0;34m()\u001b[0m\n\u001b[1;32m     19\u001b[0m     \u001b[0mprint\u001b[0m\u001b[0;34m(\u001b[0m\u001b[0mvar\u001b[0m\u001b[0;34m)\u001b[0m\u001b[0;34m\u001b[0m\u001b[0m\n\u001b[1;32m     20\u001b[0m \u001b[0;34m\u001b[0m\u001b[0m\n\u001b[0;32m---> 21\u001b[0;31m \u001b[0;32mimport\u001b[0m \u001b[0mthismod\u001b[0m\u001b[0;34m\u001b[0m\u001b[0m\n\u001b[0m\u001b[1;32m     22\u001b[0m \u001b[0mthismod\u001b[0m\u001b[0;34m.\u001b[0m\u001b[0mtest\u001b[0m\u001b[0;34m(\u001b[0m\u001b[0;34m)\u001b[0m      \u001b[0;31m# 99 102\u001b[0m\u001b[0;34m\u001b[0m\u001b[0m\n\u001b[1;32m     23\u001b[0m \u001b[0mthismod\u001b[0m\u001b[0;34m.\u001b[0m\u001b[0mvar\u001b[0m         \u001b[0;31m#102\u001b[0m\u001b[0;34m\u001b[0m\u001b[0m\n",
      "\u001b[0;31mImportError\u001b[0m: No module named 'thismod'"
     ]
    }
   ],
   "source": [
    "var = 99        # Global variable == module attribute\n",
    "def local(): \n",
    "    var = 0\n",
    "def glob1(): \n",
    "    global var\n",
    "    var += 1\n",
    "def glob2(): \n",
    "    var = 0\n",
    "    import thismod \n",
    "    thismod.var += 1\n",
    "def glob3(): \n",
    "    var = 0\n",
    "    import sys\n",
    "    glob = sys.modules['thismod'] \n",
    "    glob.var += 1\n",
    "def test(): \n",
    "    print(var)\n",
    "    local(); glob1(); glob2(); glob3() \n",
    "    print(var)\n",
    "    \n",
    "import thismod\n",
    "thismod.test()      # 99 102\n",
    "thismod.var         #102"
   ]
  },
  {
   "cell_type": "markdown",
   "metadata": {},
   "source": [
    "## Nested Functions "
   ]
  },
  {
   "cell_type": "code",
   "execution_count": 70,
   "metadata": {
    "collapsed": false
   },
   "outputs": [
    {
     "name": "stdout",
     "output_type": "stream",
     "text": [
      "88\n"
     ]
    }
   ],
   "source": [
    "X = 99               # Global scope name: not used\n",
    "def f1(): \n",
    "    X = 88           # Enclosing def local\n",
    "    def f2(): \n",
    "        print(X)     # Reference made in nested def\n",
    "    f2() \n",
    "f1()                 # Prints 88: enclosing def local"
   ]
  },
  {
   "cell_type": "code",
   "execution_count": 73,
   "metadata": {
    "collapsed": false
   },
   "outputs": [
    {
     "name": "stdout",
     "output_type": "stream",
     "text": [
      "88\n"
     ]
    }
   ],
   "source": [
    "X = 99               # Global scope name: not used\n",
    "def f1(): \n",
    "    X = 88           # Enclosing def local\n",
    "    def f2():\n",
    "        def f3():\n",
    "            x=999                \n",
    "        f3()\n",
    "        print(X)     # Reference made in nested def\n",
    "    f2() \n",
    "f1()                 # Prints 88: enclosing def local"
   ]
  },
  {
   "cell_type": "code",
   "execution_count": 81,
   "metadata": {
    "collapsed": false
   },
   "outputs": [
    {
     "name": "stdout",
     "output_type": "stream",
     "text": [
      "88\n"
     ]
    }
   ],
   "source": [
    "def f1(): \n",
    "    X = 88\n",
    "    def f2(): \n",
    "        print(X)\n",
    "    return f2\n",
    "action = f1() \n",
    "action()            # prints 88"
   ]
  },
  {
   "cell_type": "code",
   "execution_count": 79,
   "metadata": {
    "collapsed": false
   },
   "outputs": [
    {
     "name": "stdout",
     "output_type": "stream",
     "text": [
      "199\n"
     ]
    }
   ],
   "source": [
    "def f1(b): \n",
    "    X = 88\n",
    "    def f2(a): \n",
    "        print(a+X+b)\n",
    "    return f2\n",
    "action = f1(99) \n",
    "action(12)"
   ]
  },
  {
   "cell_type": "markdown",
   "metadata": {},
   "source": [
    "## Closures"
   ]
  },
  {
   "cell_type": "code",
   "execution_count": null,
   "metadata": {
    "collapsed": true
   },
   "outputs": [],
   "source": [
    "def maker(N):\n",
    "    def action(X):       # Make and return action\n",
    "        return X ** N    # action retains N from enclosing scope \n",
    "    return action\n",
    "f = maker(2)             # Pass 2 to argument N\n",
    "f(3)                     # 9\n",
    "f(4)                     # 16\n",
    "g = maker(3)\n",
    "g(4)                     # 64\n",
    "f(4)                     # 16"
   ]
  },
  {
   "cell_type": "code",
   "execution_count": null,
   "metadata": {
    "collapsed": true
   },
   "outputs": [],
   "source": [
    "def maker(N):\n",
    "    return lambda X: X ** N\n",
    "h = maker(3)\n",
    "h(4)                      # 64"
   ]
  },
  {
   "cell_type": "code",
   "execution_count": null,
   "metadata": {
    "collapsed": true
   },
   "outputs": [],
   "source": [
    "def func(): \n",
    "    x= 4\n",
    "    action = (lambda n: x ** n) \n",
    "    return action\n",
    "\n",
    "x = func() \n",
    "print(x(2))         # 16"
   ]
  },
  {
   "cell_type": "markdown",
   "metadata": {
    "collapsed": true
   },
   "source": [
    "## Non Local statement"
   ]
  },
  {
   "cell_type": "code",
   "execution_count": null,
   "metadata": {
    "collapsed": true
   },
   "outputs": [],
   "source": [
    "def tester(start):\n",
    "    state = start              # Referencing nonlocals works normally\n",
    "    def nested(label):\n",
    "        print(label, state)    # Remembers state in enclosing scope\n",
    "    return nested\n",
    "\n",
    "F = tester(0)\n",
    "F('spam')           # spam 0\n",
    "F('ham')            # ham 0"
   ]
  },
  {
   "cell_type": "code",
   "execution_count": null,
   "metadata": {
    "collapsed": true
   },
   "outputs": [],
   "source": []
  },
  {
   "cell_type": "code",
   "execution_count": null,
   "metadata": {
    "collapsed": true
   },
   "outputs": [],
   "source": []
  }
 ],
 "metadata": {
  "anaconda-cloud": {},
  "kernelspec": {
   "display_name": "Python [default]",
   "language": "python",
   "name": "python3"
  },
  "language_info": {
   "codemirror_mode": {
    "name": "ipython",
    "version": 3
   },
   "file_extension": ".py",
   "mimetype": "text/x-python",
   "name": "python",
   "nbconvert_exporter": "python",
   "pygments_lexer": "ipython3",
   "version": "3.5.2"
  }
 },
 "nbformat": 4,
 "nbformat_minor": 0
}
