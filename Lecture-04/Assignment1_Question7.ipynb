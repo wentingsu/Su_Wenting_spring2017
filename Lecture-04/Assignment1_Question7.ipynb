{
 "cells": [
  {
   "cell_type": "markdown",
   "metadata": {},
   "source": [
    "# Question 7\n",
    "\n",
    "1. Use Name corpus, calculate the probability of a name being of a male or female base on the last character(s) of name.\n",
    "2. Sample steps:\n",
    "3. For char ‘a’:\n",
    "\t#total_names = sum(names ending with ‘a’)\n",
    "\t#male_names = sum(male names ending with ‘a’)\n",
    "\t#female_names = sum(female names ending with ‘a’)\n",
    "\tProbability of name being male = 100 * male_names / total_names\n",
    "8. Do this for all characters. \n",
    "9. Output must come with proper title (e.g. [a] male: 25%, female: 60%)\n"
   ]
  },
  {
   "cell_type": "code",
   "execution_count": null,
   "metadata": {
    "collapsed": true
   },
   "outputs": [],
   "source": []
  }
 ],
 "metadata": {
  "kernelspec": {
   "display_name": "Python [default]",
   "language": "python",
   "name": "python3"
  },
  "language_info": {
   "codemirror_mode": {
    "name": "ipython",
    "version": 3
   },
   "file_extension": ".py",
   "mimetype": "text/x-python",
   "name": "python",
   "nbconvert_exporter": "python",
   "pygments_lexer": "ipython3",
   "version": "3.5.2"
  }
 },
 "nbformat": 4,
 "nbformat_minor": 1
}
