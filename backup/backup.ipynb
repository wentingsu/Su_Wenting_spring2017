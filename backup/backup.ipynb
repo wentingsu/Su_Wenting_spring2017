{
 "cells": [
  {
   "cell_type": "code",
   "execution_count": null,
   "metadata": {
    "collapsed": true
   },
   "outputs": [],
   "source": [
    "import os, json\n",
    "import csv"
   ]
  },
  {
   "cell_type": "code",
   "execution_count": null,
   "metadata": {
    "collapsed": true
   },
   "outputs": [],
   "source": [
    "path_to_json='data/'\n",
    "json_files = [pos_json for pos_json in os.listdir(path_to_json) if pos_json.endswith('.json')]\n",
    "\n",
    "# step: find all json the type is restaurant and put them into one folder\n",
    "for js in json_files:\n",
    "    with open(os.path.join(path_to_json, js)) as json_file:\n",
    "        # \n",
    "        alldata= json.load(json_file)\n",
    "        category = alldata['term']\n",
    "        newpath_res = r'AllRestaurant'\n",
    "        if category=='restaurants':       \n",
    "            if not os.path.exists(newpath_res):\n",
    "                os.makedirs(newpath_res)\n",
    "                shutil.copy('data/'+js ,'AllRestaurant/'+js)\n",
    "            else:\n",
    "                shutil.copy('data/'+js ,'AllRestaurant/'+js)"
   ]
  },
  {
   "cell_type": "code",
   "execution_count": null,
   "metadata": {
    "collapsed": true
   },
   "outputs": [],
   "source": [
    "path_allres_json='AllRestaurant/'\n",
    "json_res_files = [pos_json for pos_json in os.listdir(path_allres_json) if pos_json.endswith('.json')]\n",
    "# print (json_files)  # for me this prints ['foo.json']"
   ]
  },
  {
   "cell_type": "code",
   "execution_count": null,
   "metadata": {
    "collapsed": true
   },
   "outputs": [],
   "source": [
    "\n",
    "for js in json_res_files: \n",
    "    nameList= []\n",
    "    cityList=[]\n",
    "    CountryList=[]\n",
    "    starMinList=[]\n",
    "    startHList=[]\n",
    "    endHList=[]\n",
    "    endMinList=[]\n",
    "    dayList=[]\n",
    "    \n",
    "    dayList.insert(0,'Day of Week')\n",
    "    startHList.insert(0,'Start Time Hour')\n",
    "    starMinList.insert(0,'Start Time Minute')\n",
    "    endHList.insert(0,'End Time Hour')\n",
    "    endMinList.insert(0,'End Time Minute')\n",
    "    \n",
    "    with open(os.path.join(path_allres_json, js)) as json_rest_file:\n",
    "        # do something with your json; I'll just print\n",
    "        try:\n",
    "            resdata= json.load(json_rest_file)     \n",
    "            country = resdata['location']['country']    \n",
    "            city = resdata['location']['city']\n",
    "            category = resdata['term']\n",
    "            state = resdata['location']['state']        \n",
    "            name = resdata['name']\n",
    "            res_id = resdata['id']\n",
    "            \n",
    "            openday = resdata['hours']\n",
    "            \n",
    "            for day in openday: \n",
    "                for one in day['open']: \n",
    "                    dayList.append(one['day'])\n",
    "\n",
    "                    starMinList.append(one['start'][-2:])                 \n",
    "                    if(len(one['start']))==3:   \n",
    "                        startHList.append(one['start'][:1])\n",
    "                    else:\n",
    "                        startHList.append(one['start'][:2])\n",
    "                    \n",
    "                    endMinList.append(one['end'][-2:])                 \n",
    "                    if(len(one['end']))==3:   \n",
    "                        endHList.append(one['end'][:1])\n",
    "                    else:\n",
    "                        endHList.append(one['end'][:2])\n",
    "\n",
    "            nameList= [name+'',] * (len(dayList)-1)\n",
    "            nameList.insert(0,'Name of Restaurant')\n",
    "            \n",
    "            cityList =[city+'',] * (len(dayList)-1)\n",
    "            cityList.insert(0,'City')\n",
    "            \n",
    "            CountryList=[country+'',]*(len(dayList)-1)     \n",
    "            CountryList.insert(0,'Country Code')\n",
    " \n",
    "            print(nameList)\n",
    "            print((dayList))\n",
    "            print(starMinList)\n",
    "            \n",
    "            csv_out = open ('restaurantsAll2.csv','a')\n",
    "            mywriter = csv.writer(csv_out)\n",
    "            \n",
    "            for row in zip(nameList,cityList,CountryList,dayList,startHList,starMinList,endHList,endMinList):         \n",
    "                mywriter.writerow(row)\n",
    "                \n",
    "            csv_out.close()\n",
    "            \n",
    "            \n",
    "#                     pprint(one['day'])\n",
    "#                     pprint(one['end'])\n",
    "#                     pprint(one['start'])\n",
    "                \n",
    "        except (ValueError, KeyError, TypeError):\n",
    "            print (\"JSON format error\" )   \n",
    "            "
   ]
  }
 ],
 "metadata": {
  "anaconda-cloud": {},
  "kernelspec": {
   "display_name": "Python [conda root]",
   "language": "python",
   "name": "conda-root-py"
  },
  "language_info": {
   "codemirror_mode": {
    "name": "ipython",
    "version": 3
   },
   "file_extension": ".py",
   "mimetype": "text/x-python",
   "name": "python",
   "nbconvert_exporter": "python",
   "pygments_lexer": "ipython3",
   "version": "3.5.2"
  }
 },
 "nbformat": 4,
 "nbformat_minor": 1
}
