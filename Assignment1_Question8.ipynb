{
 "cells": [
  {
   "cell_type": "markdown",
   "metadata": {},
   "source": [
    "# Question 8\n",
    "\n",
    "1. Use nps_chat and wordlist corpus.\n",
    "2. If you find a word in nps_chat but not in wordlist, it is considered an unusual word. (e.g. Heyyyy, gr8, 4ever can be considered unusual words for this analysis)\n",
    "3. Find out how many unusual words people speak in chat (notice: usernames should not be counted)\n",
    "4. Bonus: What if I want to  count : ) , : ( all these emoticons in. (optional)\n"
   ]
  },
  {
   "cell_type": "code",
   "execution_count": 1,
   "metadata": {
    "collapsed": false
   },
   "outputs": [],
   "source": [
    "from nltk.corpus import nps_chat as nps\n",
    "from nltk.corpus import words"
   ]
  },
  {
   "cell_type": "code",
   "execution_count": 2,
   "metadata": {
    "collapsed": false
   },
   "outputs": [],
   "source": [
    "chatWords= nps.words()\n",
    "wordlist = words.words() "
   ]
  },
  {
   "cell_type": "code",
   "execution_count": 87,
   "metadata": {
    "collapsed": false
   },
   "outputs": [
    {
     "name": "stdout",
     "output_type": "stream",
     "text": [
      "abcdefghijklmnopqrstuvwxyzABCDEFGHIJKLMNOPQRSTUVWXYZ\n",
      "0123456789\n"
     ]
    }
   ],
   "source": [
    "#clean the content\n",
    "import string\n",
    "AllChar = string.ascii_letters\n",
    "nums =string.digits\n",
    "print(AllChar)\n",
    "print(nums)\n",
    "punc=string.punctuation"
   ]
  },
  {
   "cell_type": "code",
   "execution_count": 75,
   "metadata": {
    "collapsed": false
   },
   "outputs": [],
   "source": [
    "# print(chatWords[:30])\n",
    "# print(wordlist[:20])"
   ]
  },
  {
   "cell_type": "code",
   "execution_count": 76,
   "metadata": {
    "collapsed": false
   },
   "outputs": [],
   "source": [
    "# unusualWords =[]\n",
    "# for word in chatWords:\n",
    "#     if word not in wordlist:\n",
    "#         unusualWords.append(word)\n",
    "# len(unusualWords)"
   ]
  },
  {
   "cell_type": "code",
   "execution_count": 74,
   "metadata": {
    "collapsed": false
   },
   "outputs": [
    {
     "name": "stdout",
     "output_type": "stream",
     "text": [
      "{'', 'balck', 'aqwesome', 'Mooooooooooooooooooooooooooo', 'RULES', '((((((((', 'wif', 'yum', 'youer', 'congrats', 'AOL.COM', 'playing', 'nails', 'suprised', 'Holla', 'hes', 'jokes', 'LATE', 'boing', '27', 'ones', 'That', '@$$', 'brightened', 'Salesman', 'az', 'jumpin', 'sucks', 'sprays', 'pc', 'Dr', 'Meep', 'shoots', 'Fishers', 'Crazy', 'Im', 'hio', '<<<<<<<<<<<<<<', 'gret', 'sorta', 'adoted', 'choc', 'YaY', 'pedofile', 'moanin', 'violators', 'pulling', '<----------', 'iamahotnipwithpics', 'nc', 'lmao', 'MP3', 'oopps', '13', '!!!!!!', 'Music', 'gloria', 'slkfjsldkfjs', 't he', '224', 'huggs', 'kmph', 'huggss', 'firs', 'sunnn', 'S3x0r', 'Look', 'anygirl', 'spins', 'use full', \"'s\", 'oooh', 'decades', 'LMAO', 'Show', '20.', 'waz', 'lisa', 'n\"t', '23', 'Howdy', 'has', 'shpwing', 'powers', 'hows', '1012.', 'Pour', \"t'anks\", 'adds', 'wheeeeeeeeeeeeeeeeeeeeeeeeeeeeeeeeee', 'Kittie', 'johnson', 'Tyrese', '!...', 'f.b.i.', 'w/', 'sum1', 'Indiantown', 'ssi', 'ughhh', 'kentucky', 'geeze', 'gayoholic', 'Playstation', 'shades', '453', 'clooney', 'DELIGHTFUL', 'fawker', 'DJ', 'pounds', 'missed', 'OC', 'yall', 'farts', 'London', 'Hi', 'rarly', 'early20s', 'AFK', 'HEY', 'CA', 'HolocaustYourMom', 'caps', 'casts', 'fo', 'yuuuuuuuuuuuummmmmmmmmmmm', '92780', 'solved', 'Rule', '>', 'hangin', 'CanEhda', \"='s\", 'oppsss', 'AHAHHA', 'hix', 'builds', 'stories', 'hav', 'Rooster', 'tabasco', 'stinky', 'oooooooooooglyyyyyyyy', 'dollars', 'mothas', 'mopeds', 'boobs', 'HELLO', 'sits', 'repeats', ':@', 'slaps', 'rethinks', 'Hott', 'Ceiling', 'ehh', 'skateboard', 'End', 'whispers', 'strickly', 'uh', 'miles', 'HAHA', \"<3's\", 'Tennessee', 'Back', '10', '))))))))', 'Anyway', 'called', 'thang', 'harley', 'hugsssssssss', 'lez', 'jackie', 'eeewww', '6:51', 'checkin', 'lucy-fur', 'Video', 'hugs', '37', \"'\", 'NOT', 'caused', 'HAVE', 'smells', 'names', 'heyyyyy', 'DO', 'HOT', 'welll', 'danny', 'fallout', 'PRIVMSG', 'Yeh', 'nm', 'heheh', '--------->', 'hmmmmmmmmmm', 'stares', 'estra', 'takes', '73042', 'Considerably', 'eeeeeeeeewwwwwwww', 'AROUND', 'looks', 'baord', 'TALKING', 'HHEEYYYYYYYYYYYYYYYYYYYYYYYYYYYYYYYYYYYYYYYYYYYYYYY', 'imma', 'cakes', 'houses', 'hoo', 'ques', 'td', 'Repeatedly', 'wooo', 'gonna', 'Stop', '-------------', 'jerks', 'trippin', '#14-19teens', 'messed', 'eww', 'pms', 'contast', 'GA', 'walked', '!!!!', 'geeshh', 'grrr', 'raarrrrrr', 'aim.com', 'huuuuuuuuuuuuuuuuuuuuuuuuuuuuuuuuuuugZ', 'any1', 'tx', 'Ha', 'deop', 'pandas', 'Denver', 'sox', 'thot', 'theere', 'doody', 'drops', 'dreaded', 'themself', 'LOUDER', 'pujols', 'lasts', 'dayum', 'chics', 'yout', 'dropped', '6:38', 'gm', '.;)', '(((((((((((((((((((((((', 'european', 'wanders', '28147', 'TEXT', 'keys', 'exwife', 'nite', 'Punta', 'horriable', 'unisom', 'gguyyyzzzz', '!!!!!!!!!!!!!!!!!!!!!!!!!!!!!!!!!!!!!!!!!!!!!!!!!!!!!!', 'Favorite', 'oot', 'killeded', 'Indeed', 'trials', 'oi', '-_-', 'yikes', 'downloaded', 'scorpio', '))))', 'tjhe', 'died', 'Sun', 'awwww', 'OUT', 'yayayayayyy', 'alotta', 'hellos', 'n;t', 'LOl', 'goneee', 'surfing', 'grabs', 'To', 'tuesday', 'thows', 'Lime', 'biyatch', '22', 'dolls', 'paints', 'Supreme', 'passes', 'hhehe', 'using', 'Kold', 'chatr', '\\\\', 'boght', 'kewl', 'West', 'Quarter', 'geez', '9', 'va', '30.00.', '16', 'pleaseeeee', 'victims', \"'ve\", 'It', 'Troll', 'guyzz', 'Tiff', 'BE', 'Gracemont', \"N'T\", 'goodnight', 'Web', 'martini', 'sucka', 'Damn', 'google', 'thoughts', 'MD', 'SExy', 'orders', '(__I__)', 'heyyyy', 'things', 'nz', 'But', 'pasties', '#prideIsland', 'pokes', 'serties', 'gurlie', 'kool', 'cookies', '))))))))))))))))))))))', 'T-Mobile', 'nerd', 'Ooo', 'mexican', 'snorts', 'gettysburg', 'tom', '1016.', 'flirts', 'Yeah', 'sharing', 'fulfilling', ':', 'kneez', 'carolina', 'oldest', 'abou', '+*+*+*+*', 'grea', 'Talk', 'planned', 'plz', 'words', 'shocked', '.. .', 'scrambled', 'suggested', 'extensions', 'guts', '<----', 'jus', 'frustrating', 'screamo', 'umm', 'COM', 'SSRI', 'arrived', '?!?!', 'Marlaya', 'worries', 'talkcity', 'sw', 'yawns', '<<<<,', 'Daveeee', 'thanx', 'Perception', 'Cleveland', 'Need', 'jerimiah', 'specials', '(((((((((((((', 'heyyyyyyyyyyyyyy', 'Niceeeee', 'pigs', 'Pullin', 'backfrontsidewaysandallaroundtheworld', 'peeps', 'gawd', 'fishercats', 'Always', 'Books', 'nawp', 'asl', 'alterz', 'pr', 'imhave', 'NAME', 'talkin', 'weapons', 'lies', 'CSI', 'calls', 'ahhhh', \"y'\", 'il', 'seems', 'hahahahaaa', '10:49', 'coffe', 'laughin', 'women', 'geessh', 'Borat', 'chats', 'hb', 'watchin', 'mmmmmmmmmmmmmm', 'dyslexic', 'Through', 'comp', 'bouncers', 'rumours', 'Soilwork', 'Wisconsin', 'waaa', 'yvw', 'NC', 'splains', 'co op', 'fliuds', 'shhhh', 'nawwww', 'sevendust', 'ps2', 'haaa', 'sux', ')))))))))))))))', 'WILL', 'IM', 'mmmomom', 'EVEN', 'waht', 'PayPal', 'Wainwright', 'changed', 'aok', 'apoligize', 'Whats', 'Geographic', 'suree', 'goodie', 'Memory', 'Booyah', 'Zebrahead', 'perv', 'hafta', '30', 'Spank', 'Added', 'Yay', 'Rutger', '?', 'Wellbutrin', 'mainland', 'illinois', '=-\\\\', 'Hey', 'daniel', 'wears', 'detroit', 'spain', 'beattles', 'willis', 'specalily', 'posts', '^^^', 'neverneverland', 'Hill', 'straightens', 'Devil', 'applaudes', 'byeeeeeeee', 'winks', 'babes', 'wanan', 'How', 'Cool', 'beats', 'homeade', ')))))))))))))))))', 'LIVE', '=[', 't/y', 'mhm', 'teehee', 'jesus', 'couldnt', 'o_O', 'byb', ')))))))))))))', 'adjusts', 'canadian', 'degrees', 'Average', '!!!!!!!!!!!!!!!!', 'mmm', 'Own', 'earplugs', 'waddles', '<--', 'beeehave', 'Froogle', 'omg', 'VIRGINIA', 'ole', 'BLONDES', 'homies', 'giva', '55%', 'G-Mobile', 'Leeches', '$', 'memories', 'Flatts', 'Sup', '1-900-anal-sex', 'Bone', 'aiiiiiiiiiiiiiiiiiiiiiiii', 'neysa', 'SIZE', 'Bye', \"c'm\", 'sumfin', 'kong', 'buses', 'shocks', 'affairs', '19', 'chinese', 'recovering', 'Little', 'hPa', 'phylosipher', 'obbts', 'Shinedown', '!!!!!!!!!!!!!!!!!!!!!!!!!!!!', '.)', 'concernin', 'withing', 'co-op', 'affects', 'maine', 'Series', 'moochhhhhhhhh', 'JRZ', 'fongul', 'AM', 'Yoko', \"'ll\", 'dotn', 'sldfjlsdf', 'jammers', '^_^', 'lex', 'sweeeeeeeeet', ')))))))))', 'sposs', 'eitther', 'stationed', 'Fingers', 'virgo', 'shoulders', 'GNG', 'typing', 'hangs', 'lolol', 'goodbye', 'Long', 'wishes', 'irl', '(', 'bites', 'farting', '423', 'PErvs', '30.', 'moonie', 'hahah', 'GIRLS', 'Paxil', '!!...', 'Coincidence', '100%', 'RUN', 'remembers', '!!!!!!!!!!!!!', 'fellows', 'coudl', 'dya', 'Three', 'iz', '<<<<<<<', 'disocvered', 'Eyes', 'winds', 'Nooo', 'Hahhaa', 'wz', 'yeee', 'chatland', 'love4s', '138', 'Maybe', 'sexs', 'caan', 'chineese', '((((((((((((((((((', 'proked', 'Oy', ';0', 'Sorry', '=O', 'chattanooga', 'hogs', 'thanksss', 'Jonesboro', 'noooooooooooooo', 'Course', 'wuuppin', 'Guess', '60', 'laptop', 'Officer', 'QUESTION', 'n/', 'sesky', 'bandito', 'elbows', 'jk', 'Patient', 'nickelback', 'chica', 'sf', 'woods', 'MAN', 'CT', 'Gay', 'Type', 'gags', '?....', '###', 'loc', 'kness', 'yrs', 'impaired', 'We', 'caiuse', '-(', 'Could', 'She', 'psh', 'BOOTS', 'heyyyyyyyyy', 'yawnssss', 'lurks', 'Okkkkkk', 'alternatives', 'oklahoma', 'wisconsin', 'DAMN', 'mp3', 'smallfry', 'Heyyyyyyy', \"s'\", '!??', 'Oops', 're-think', '!.', 'LoVe', 'freaks', 'Shore', 'hates', 'ASS', 'soakin', 'ol', 'photshopped', 'wheels', 'yeppers', '?????', 'Tide', 'started', 'Sneeze', ')))))))))))))))))))))))))))))))', 'email', 'cries', 'Birdgang', 'Rofl', 'yeas', 'computor', 'scusezzy', 'smax', 'Stick', \"n't\", 'appears', 'fishercat', 'Anyone', 'years', 'enters', 'whitte', 'lookin', '\\\\ty', 'shivers', 'pisses', 'seeee', 'knees', 'blew', 'outs', 'Same', \"@..3-,'~.\", 'riiiight', 'WHY', 'lucifer', ':-o', '5', 'md', 'checks', 'pmsl', 'pp', 'sleep over', 'Maps', 'lolololll', 'reunion.', '102.6', 'WHEN', 'btw', 'Night', 'alzheimers', 'thx', 'ppl', 'phil', '!!!!!!!!!!', 'None', 'coworkers', ')))', 'mena', '59%', 'AKDT', 'othing', 'confessed', 'scuba', 'CALI', 'WEEEEEEEEEEEEEEEEEE', 'florida', 'Ahhh', 'muahhh', '-stay-', 'Length', 'hohohohhohhoo', 'davis', '98.5', ']]]]]]]]]]]]]]]]]]]]]', 'Lmfao', 'nakie', 'Save', 'proocessing', 'freind', 'bothering', 'lol.', 'saME', 'Dang', 'Children', 'starts', ';', 'SINGLEEEEEEEE', 'Pastor', '........................', 'Liam', 'kookies', 'Reading', '!!!!!!!!', ':]', '#talkcity_adults', 'every1', '50', ':-(', 'http://forums.talkcity.com/tc-adults/start ', '31', 'puzzles', 'albert', 'footprints', 'software', 'Her', 'oops', 'whatcha', '?.', 'EST', 'rules', 'playas', 'z-ro', 'shes', 'bloe', 'Shaneeeeeeeee', 'yoooou', 'Poor', '1200', 'okikes', 'knockin', '...................', 'brrrrrrr', 'popped', 'tennesee', '..', '98.6', 'dances', 'changing', 'lists', 'tries', 'retahhhhded', 'Drop', '76%', 'sores', 'moms', 'cams', 'stressed', 'parents', 'declaw', 'males', 'Wtf', 'patsy', 'perked', 'owuldnt', 'frst', 'rey', 'vanished', 'thristy', 'Out', 'fav', 'lamborghini', 'knocked', 'shakin', 'tighty', 'aloha', 'Yes', 'cris-cross', '(((((((((((((((((', 'flops', 'MATCH', '~winkZ~', 'ciggareets', 'fock', 'hrs', '>>>>>>>>>>', 'Oak', 'RIGHT', 'Welcome', 'nah', 'f-ing', '3:45', 'burryed', 'wonderin', 'Ack', '!!.', '((((((((((((((((((((((((', 'feeds', 'quistion', \"martini's\", 'nickleback', 'Actually', 'powter', 'flavors', 'Niters', 'Downy', 'rofl', 'cya', 'roomate', 'ops', 'wel', 'THERES', 'n e', 'heyy', 'booboo', 'guns', 'weeks', 'brbbb', 'skydiving', 'MISHAP', 'opps', 'rocks', 'whaaaaats', '<empty>', 'bandsaw', 'hii', '14-16', 'uk', 'Greetings', '579', 'Where', 'mmmmmm', 'dj', 'innocense', 'ky', \"PM's\", '(((((', 'tenn', 'sowwy', 'tickets', 'excuuuuuuse', 'Rush', 'Fergalicious', 'messages', 'Easily', 'MRIs', 'tits', 'tryin', 'fucking', 'maryland', '33982', 'refrains', 'Come', 'que', 'Cry', 'Biiiiiitch', 'backatchya', 'ahahah', 'FF', 'tonawanda', 'wrecked', 'HAHAHA', 'bears', 'OOH', 'soory', 'bodies', 'appologize', 'sounds', 'lotta', 'Smoochies', 'tracey', 'pussies', 'barbie', '~blusherZ~', 'mmmmk', 'doupt', '=/', 'drivin', 'diego', 'experimenting', 'Hungry', '75%', 'Rascal', 'chp', 'affari', 'ooooooo', 't-shirt', 'leakin', '((((', 'techniques', 'coupons', 'waves', 'proud', 'heyyy', 'Cradle', 'forwads', 'sheesin', 'chokes', '................', 'stores', 'China', 'LPN', 'tacoma', 'YOUR', 'jajajaaa', 'mexicans', 'ages', 'ONE', '?!', 'mercedes', '20s', 'Puddle', 'ooer', 'Evanescence', 'ridem', 'Hard', 'stretches', 'quizes', 'Only', 'mins', 'picks', 'BUT', 'IS', 'eroticaust', 'bishes', 'Plssss', '29', 'scorpions', 'sexi', 'claws', 'shit', 'f*cktards', 'cougs', '56.', 'y/w', 'Mom', 'wazz', '!!!!!!.', 'Post-haste', 'MODE', 'hI', 'peoples', 'e-mail', 'ENOUGH', 'handing', '1299', \"passin'\", 'innit', '!!!!!!!!!!!!!!!!!!!!!!', 'Lives', 'Still', 'dryer', 'april', 'wildcard', 'deceived', 'sry', 'LOUD', 'lois', 'awwwwwwwwww', 'Depends', '^', 'nods', 'Our', 'tapes', '........', 'Too', '\"s', 'definately', 'lala', 'caca', 'looked', 'Fort', 'cyber.', 'beans', ']:)', 'pounces', 'Humidity', 'Chingy', 'Whispering', 'suked', '99701', 'Nothing', 'AKST', ')))))', 'HE', 'roads', 'gettin', 'whos', '06.', 'chuckles', 'noth', 'licks', 'youre', '24', 'scrolls', 'currious', 'ep', 'Are', 'pics', '(((((((', 'ok', 'cho-co-late', 'tah', 'constituents', 'Seee', 'Fisher', 'homes', 'Days', '-', 'seconds', 'comments', 'ft', '73%', 'Laguna', 'wth', 'whjat', 'deeper', 'plently', 'roleplay', 'hfglhs', 'Chickens', 'darlings', 'throws', 'tc', 'hheeyyy', 'victors', '******', 'polllution', \"ya'\", 'Row', 'lol', 'See', 'febe', 'DETROIT', 'cuz', 'ooppsss', 'coem', 'SYNDORME', 'issues', 'What', 'sleepin', 'everbody', 'WITH', 'wins', 'Werd', 'othah', 'gees', 'moved', 'answering', 'arround', 'fluids', '2.3', 'muhaha', '*WOW*', 'withdrawl', 'Drive', 'iamahotnipwithhotnippics', '@', '32', 'nuttin', 'THERE', 'mwahs', 'problems', 'hyy', '>.>->', 'Playing', '`', 'recieve', 'despie', '.).', 'arizona', '12%', \"shakin'\", 'hearin', 'moves', 'hawt', 'eva', 'Love', 'LONLEY', '1985', '...........', '1', 'aynawy', 'e-husband', 'P.ussy', 'dummmm', 'involves', '!!!!!!!!!', 'News', 'gained', 'comprende', 'MORE', 'SOME', 'cookie', 'tks', 'GOING', 'lights', 'hiii', 'friends', 'fwd', 'nebraska', 'gotta', 'Mmm', 'putting', 'kissed', 'noooooooooo', 'Last', 'retared', ':)', '+', 'Boyz', 'welcomes', 'BIG', 'mmmmmmmmiiiiiiiiinnnnnnnnneeeeeeee', 'Define', 'gaspppp', 'CST', 'samn', 'eeek', 'joking', 'tabbed', 'swats', \"doin'\", 'jumps', \"ok'd\", 'maidstone', 'Fix', 'eyes', 'miiiiiiiiiiiiinnnnnnnnnnneeeeeeeeee', 'givs', '<33333333333333333', 'Lousiana', 'weenis', 'offa', 'AHAHH', 'frenchkiss', 'naughtier', 'canadain', 'streched', 'Sure', '(((((((((((((((', 'porn', 'match.', 'pleez', 'runs', 'Whitesnake', 'YALL', ':.', '..........', 'hiiii', 'luvs', '147.7', 'laffin', 'shouldve', 'Any', 'heee', 'pos', 'kneess', 'paragraphs', 'Meh', 'smewchies', 'Why', ':|', 'dumbass', 'muahz', 'Zoloft', 'deals', \"ex's\", 'dd', '!!!!....', 'sleepover', 'cutes', 'abs', 'geeshhh', 'sales', 'IN', 'de-tubetop', 'PMSL', 'pukes', 'movin', '93', 'anithing', '818', 'seagulls', 'urs', 'whiteys', ':D', 'LONG', 'GrlZ', 'N\"T', 'ANY', 'thje', '?!?!?', 'extras', 'teo', 'adults', 'WOW', 'me/', 'liked', 'hmmmmm', 'woooooooooaaaahhhhhhhhhhhh', 'freeeezinggg', 'themselvs', 'hang', 'drivers', 'cusion', 'seconds.', 'sooo', 'NICK', 'welome', 'LATER', 'sentences', 'awww', '121.7', 'sweetshybbw', 'Finally', 'Wyte', 'Zyban', 'redneck', 'reschedual', 'wussups', 'NO', '#40sPlus', 'FL', 'Nu', '2DAY', '34', 'Cyber', '>>>>>>>>>>>', 'Jordison', 'Cardinals', 'hott', 'hugggs', \"pm'n\", 'fucks', 'miiiiiinnnnnnnnnneeeeeeee', 'norny', 'loveing', 'Salisbury', '....', 'shaun', 'fkajslf', 'hgfhgfjgf', 'gamefly', 'rapest', 'warts', '>>>', 'f.', '))))))))))))))))))))))))))))', \"k's\", 'misbehaving', 'perth', 'New', 'yada', 'dratts', '.45', 'meyooky', 'wheres', 'Gorda', 'deciding', '-o', 'blazed', 'fragged', 'barks', ':O', 'coonarsee', 'criss-cross', 'xmas', '++', 'controll', '12', 'Dr.', 'kts', 'Or', 'danes', \"g'\", 'GIRL', 'telllin', 'plays', 'TIME', 'rained', 'teachers', 'problemo', 'latina', 'yoll', 'wanted', 'dated', 'lysol', 'entitled', 'scuk', 'marilyn', 'kidnaped', 'Thats', 'crosses', 'goths', 'zzzzzzzz', 'sunglasses', '<---', 'aaahhhh', 'massaged', 'IT', ':-)', 'HOW', 'WHISPER', 'priorities', 'Is', 'thnx', 'Painted', '<333333333', 'invisiable', \"?'\", 'uuuhhh', 'legs', 'THEY', 'asnwer', 'nooooo', 'estefan', 'lllllllliiiiiiiiiikeee', 'uses', 'oooOOOOoooo', 'o<|=D', 'll', 'frm', 'boning', 'douchebag', 'elected', 'Kewl', 'ed', 'drinks', 'He', 'ringtones', 'sounded', 'shakes', 'eeekk', 'shoes', 'warned', 'alohas', 'tosses', '-21', 'noo', 'Heyy', 'contemplating', 'lavendar', 'f**kalicious', 'tears', 'ignored', 'waddup', 'questioned', 'lmaooo', '=D', 'packs', 'mama', 'non-smoker', 'shup', '#', 'STOP', 'Salut', 'aussies', '((((((((((((((((((((', 'exchanged', 'When', 'Not', 'muh', 'JUST', 'controlling', 'controllers', 'ahhhhhh', '3', '8082653953', 'gf', 'shrugs', 'hahhahahaha', 'Relax', '220', 'whewwwwww', 'bein', 'declawed', 'ooo', 'questions', 'awesomee', 'fawked', 'LOVES', '21', 'costumes', 'laguna', 'knw', 'strangers', '17', 'ovr', 'categories', 'burried', 'PEOPLE', 'tips', 'nevah', 'yw', 'misses', 'Check', 'gritt', 'ms', 'Lets', '..............................', 'definitley', 'fractured', 'hahaha', 'hgey', 'Would', 'peeks', 'pineapples', 'nakey', 'peppersteak', 'chatt', 'goddamn', '=]', '246', 'hots', 'texas', 'raaaaaaaaaaaaaaaaaaaaaaaaaaaaa', ';p', 'freaked', 'muzak', 'hmmm', '80', 'adduser', 'Covered', 'choco', '15', 'depends', 'ltns', 'seuss', 'listenin', 'noting', 'yooou', 'bj', 'hmm', 'wOOt', 'cpr', 'sets', 'ohio', ':p', 'dontcha', \"iggy'd\", 'anyyyyyyyyyyyyyyyyy', 'Ct', 'Swim', 'byeeeeeeeeeeeee', \"'re\", 'scopes', '247', 'omggg', 'ello', 'nostrils', 'Mine', 'Does', 'Eggs', 'buh', 'pervs', 'typed', 'excitin', 'Remember', 'hendrix', 'anti-sexy', 'thah', 'litening', '&', 'trippy', 'Just', 'yards', 'pleased', 'wrek', 'ACTION', 'kennedy', 'In', 'xbox', 'caint', 'sips', 'happpy', 'toes', 'Again', 'doublewide', 'placce', 'trashed', 'folks', 'babay', 'Sat.', 'itches', 'dreams', 'mowin', 'Ico', 'tv', 'talks', 'passed', '10th', '185', 'cus', 'boi', 'You', 'cool1024', 'predicted', 'havin', 'walks', 'AND', 'allowed', 'doin', 'ewwwwwww', 'toenails', 'hmph', 'losted', 'Screach', '(((((((((((((((((((((((((', 'Whereabouts', 'drugs', '43', 'dr', 'Muahz', 'oooooooooooo', 'mahn', 'd=', '1900', 'driveby', 'yup', 'freeezinggggg', 'mofo', 'comin', 'oooooooooooooonnnnnnnnnnnneeeeeeeeeeeeeeesssssssss', 'Id', 'Hail', 'vm', 'hehehehe', 'heh', 'gagas', 'ans', ':o *', 'babi', 'pictures', 'yoder', 'orgies', 'TX', 'FOLKS', 'appleton', 'AI', 'muahssssssssssssssss', 'Girl', 'nuff', 'Life', 'Ahh', 'profiles', 'loved', 'Doing', 'At', '?..', 'co', 'XXXXXXXXXX', 'playin', ':love:', 'temptations', '75', 'PMs', 'urself', 'beckley', 'THE', 'Now', 'MsUtah', 'Swackhammer', 'burns', 'Swinging', 'sneezed', 'elbowS', 'Ive', 'o.k.', 'Aww', 'yummylicious', 'lucifuge', 'heyyyyyy', '####', '!!!!!!!!!!!', 'dahlin', 'lovelies', 'ewwww', 'moanz', 'sumpin', 'laughs', 'completly', 'fawk', 'px', 'fuck', 'yello', '//', '49', 'asss', 'waits', 'Slip', 'doggies', 'dangit', 'usa', 'shoppin', 'counts', 'uffff', 'peace-and-quiet', 'DING', 'homophobic', 'Because', 'heya', 'ima', 'heyheyhey', 'tisk', 'cares', '*blush*', 'blech', 'Earth', 'My', 'PERVS', '1cos', 'shane', 'freakin', 'outa', 'attracted', 'akron', 'sympathies', 'GN', \"sayin'\", '<~~~', 'itz', '18', 'Beach', 'asses', 'tennies', \"RN's\", 'churches', '35', '29.88.', 'grins', 'bigest', 'Well', 'ms.', 'heeeey', 'pouts', 'standin', 'yes.', 'dsklgjsdk', 'les', 'SAY', '-->', 'ifr', 'brady', '((((((((((((((((((((((((((', 'grrrrrrrrr', 'smacked', 'Really', 'lmaoooo', 'females', 'tok', 'CO', '. . .', 'wahoooooooski', 'Bonus', 'Shakin', 'hands', 'fucker', 'sexiest', '\"...', 'TELLIN', 'Player', '^^', 'syck', 'Ohh', 'Cardnials', 'fries', 'smiles', 'Cheeeez', 'pissing', 'Can', 'gurrrrl', 'neone', 'ontario', 'mmhmm', 'Barometer', 'Laters', 'thomas', 'coughed', 'cardinals', 'minigames', '>>>>>>>>>>>>', 'chik', 'b-day', 'spaces', 'Heys', 'orta', 'TRUTH', \"ol'\", 'tdr', 'e-herpes', 'signed', 'Sat', '85%', '280', 'wiltou', '??????', 'nyone', 'illin', 'Ridin', 'Steel', '~smirkZ~', '??', 'kold', 'bulls', 'nd', 'nauty', 'addy', 'texan', 'Sessions', 'bwahahahahahahahahahaha', 'Ciara', 'lovin', 'hr', 'Hand', 'geeks', 'kid', 'ebay', 'appologise', 'moths', '*VBS*', 'kev', 'checking', 'jucilicious', 'sdlfkjsj', 'lets', 'nce', 'idnt', 'defragging', '*sniffs*', 'Man', 'nicks', 'throught', 'paitently', 'o0o', 'chews', 'freaking', 'edgewood', 'Older', '.(..(.vMp3 vi.p.t.)..).', 'Nova', '(((', 'byes', 'comon', 'Very', 'knows', 'atl', 'humple', '\"', 'dork', '#talkcity-20s', 'raymond', 'ewwwwww', 'So', 'lives', 'lawl', '>.>', 'john', 'xcitable', 'Fade', 'newp', 'ads', 'divorced', 'elo', 'jammed', 'buddyyyyyy', 'erm', 'smacks', 'ladz', 'msn', 'betta', 'removes', 'Russion', 'scared', 'others', 'agaibn', 'kicked', 'CUZ', 'italian', '47', 'pppppppppppew', '99', 'Nadda', 'wtf', 'xxxxxx', 'gays', 'anytime', 'ohh', 'talkiing', 'Even', '=p', 'boed', 'Live', 'turkish', '93%', 'FINE', 'manson', 'farms', 'makes', 'TC', 'byeee', 'aime', 'H0rny', 'hehehe', 'opr', 'TALK', '!', 'limits', 'ive', 'pedals', 'High', 'e-bay', 'monsters', 'hooo', 'Gs', '39', 'DIRTY', 'bacl', 'bahahahaa', 'idiots', 'wana', 'grrrrrrrrrrrrrrrrr', 'pming', 'Men', '!!!!!!!!!!!!!!!!!!!!!!!!!!!', 'Over', 'luv', 'ignoring', 'Flames', 'mami', 'numbers', 'un-freeze', 't/c', 'hitting', 'touches', 'LoL', 'CAPS', 'hugsss', 'louisianna', 'VBox', '..(..', 'controllin', 'reminded', 'Fergie', 'ABOUT', 'lapd', 'needed', 'Kiss', 'jerkettes', 'pies', 'balad', 'Louisville', 'nada', 'dunno', '!!!!!!!!!!!!!!!!!!!!!!!', 'nekkies', 'Hugs', 'ahah', 'Living', 'downnnnnn', 'WOULD', 'ROFL', 'courtney', 'yu', 'Stalker', 'im', 'Better', 'hearthechatters', 'gente', 'Change', 'antidepressants', 'Help', 'Elle', 'Death', 'nyc', 'bored', 'flippin', 'Messaging', 'PST', 'mikeeeeeeeeeeeeeeeeeeeeeeeeee', 'capab;e', '??@', 'o.o', 'insuklting', 'Amazingness', 'hottie', 'congrat', 'DONT', 'freaing', 'finers', 'rooms', 'brothers', 'muahzzzz', 'DOWNS', 'covers', 'okies', 'OMG', 'Heyyy', 'spanish', 'whou', 'dl', 'Strapped', 'gurls', 'pffft', 'azerbaijan', '....................', 'haha', 'cheers', '<<<<<<', 'arggghhh', 'receprion', \"e'wjfghky\", 'holdin', '4:03', 'This', 'Yikes', 'cramps', 'outta', 'hahahaa', 'anymore', ':(', 'convo', 'cute.-ass', 'Ladies', 'played', 'hmmmm', 'appearently', '3333333', 'meredith', 'Cream', 'copone', 'birfday', '-...)...-', 'charlie', \"makin'\", 'howz', 'fallz', 'dreammm', 'husteling', '2006', 'files', 'heeee', 'SLEEP', 'omnious', 'pm', 'TY', 'snuggles', \"'m\", 'hun', 'mising', 'huskers', 'Nooooooooooooooo', '1996', 'Hahaaaa', 'happened', '????????', 'KNOW', '$27', 'woah', 'laffs', 'Cookies', 'veg', '(((((((((((', 'armtnpeat', \"'ello\", 'FreesBee', 'bachelorette', 'aussie', 'drools', 'Cards', '396', 'perved', 'boinked', 'chcken', 'Private', 'walmart', 'brooklyn', 'lmfao', 'hih', 'b/c', 'washington', 'banned', 'pushed', 'streaks', 'hunters', 'sincy', 'wonders', '20', 'courst', '*', 'chocha', 'puts', 'hahahahahahahahahahahahahahahaha', 'este', 'plows', 'dman', 'acros', 'ummm', '4.20', 'cuffed', 'hahahahahahaha', 'MOUTH', 'Its', 'youuuu', 'mmmmm', 'ewwwww', '14', '.(..(.vMp3 v1.7.4.).)', 'tryina', 'geesh', 'Hummmm', 'Ocean', 'MY', 'horrified', '4', '<<<', 'hugzzzzzzz', 'darlin', 'hooooo', 'downloading', 'happens', '!?', '45.5', 'coconuts', 'awesomes', 'Ships', 'wants', 'k-mart', 'fishin', 'shups', 'grrl', '.', 'PmS', 'reasons', 'superhiway', 'hmmmmmmm', 'NIght', 'Roadrunner', 'babycakeses', 'YoU', 'bumber', 'remembah', '1980', 'otay', 'wanna', 'earrings', 'myspace.com', 'WOMAN', 'ros', '2:55', 'QUIT', 'Connected', 'chatroom', 'rubs', 'wubs', 'enjoys', 'Reminder', 'biatch', 'fraggle', 'Highway', 'tyvm', 'fck', 'goodnite', 'Do', 'lmaoo', 'oppertunity', \"stuffin'\", 'cuddlicious', 'zzzzzzzing', 'puhleaze', 'ooh', 'Eticket', 'children', 'girlfriend', 'depeche', 'boys', 'Finding', 'Set', 'christian', 'fer', '???????', 'ogan', 'confusting', 'Lithium', 'ohhhh', '((((((((((', 'Tigers', '!=', '(*&(^', 'TWO', 'seminilla', 'escaped', 'pinches', ',,', '((((((((((((((', 'Whistlin', 'pours', 'bitdh', 'hheeyy', \"scrollin'\", 'wasup', 'wb', \"''\", 'BAAAAALLLLLLLLIIIIIIINNNNNNNNNNN', '<-', 'bugs', 'jush', 'BOY', 'kids', 'Hiya', 'brb', 'North', 'Care', 'msg', 'Sunrise', 'EVERYTHING', ':/', \"mf'er\", 'Offspring', 'buying', '=)', 'Hero', '???', 'beams', 'O.o', 'aggravated', 'aaaaaaaaaaaaaaaaa', 'Nevermind', 'fingers', 'cripos', 'CDT', 'Dipset', '2Pac', '*smewchies*', 'oates', 'bares', 'burito', 'snores', 'hotties', '!!!!!!!', 'Jeter', 'kinda', 'fiddles', 'II', '!!!!!', 'niteeeeeeeeeeeeeeeeeee', 'having', '=(', 'recomend', 'webcams', 'tryer', 'fl', 'Maidstone', 'pills', 'ohhh', 'Changing', 'lb', 'Something', 'White', 'kawing', 'Dawnstar', '77', 'sooners', 'PM', 'scares', 'humm', 'didnts', 'Mercy', 'lesbo', 'creme', 'robbie', '<333', 'computers', 'ribs', 'BOOTY', 'perving', 'dik', 'TO', 'hiom', 'Lion', '9.53', 'INTERESTING', 'Round', 'From', 'likes', 'answers', 'pro-se', 'Groups', 'WHO', '-6', 'ME', ':blush:', 'darwin', '............', 'CHIPS', 'misbeahve', 'dunkin', 'Ask', 'hahahahahaha', '<,', 'dem', 'kidding', 'giggles', 'mittens', 'Washing', 'typin', 'hawT', 'Silent', 'sigur', 'japanese', 'kicks', \"it's\", 'Kansas', 'Kellogs', '60s', 'paradis', 'fillin', 'ppolitical', 'mmmkay', 'smarter', 'laters', '<<<<', 'laughed', 'Fetish', 'NTMN', 'Dude', 'boyfriend', 'whooo', 'roses', 'Song', 'catches', 'sweats', 'HALO', 'edmonton', 'afe', 'breaks', 'boooooooooooglyyyyyy', 'xxxed', 'killed', 'loveliest', 'czeching', '11', 'arrested', 'tounge', 'bc', 'playstation', 'clients', ',,,,,', '57401', 'Pearl', 'Deep', 'commanded', 'eskimo', 'intersting', 'rafters', '55', 'louis', 'kiddin', 'Virius', 'oo', 'puter', 'injureis', 'fuckin', '#prideisland', 'chococake', 'items', 'Dreams', 'msners', 'SHOWS', 'chunks', 'jujubees', 'steve', 'babblein', 'lasts30', 'cyber', 'falls', 'choices', 'yikesssss', 'missin', 'LA', 'gottsa', 'hawaii', 'macho', 'Of', 'abortions', 'nodda', 'helped', 'Lmao', 'whhhooooo', 'FACE', 'ewww', 'suggestions', 'robert', 'smokes', '28', 'isnt', 'hehe', 'j/k', 'realises', 'callifornia', \"pro's\", 'Oh', 'Dying', 'hon', 'Wow', '<<', 'elvis', 'ballin', 'ja', '46.', 'MSN', 'thru', 'VVil', '??!?!??!', ';-(', 'Mp3', 'Aw', 'Whore', 'alwys', 'christ', 'born-again', 'St', 'STALLION', 'chatted', '9:10', 'delivers', 'halfa', ',,,,,,,,,,,', 'worl', 'australia', 'ty', 'spose', 'dissing', '?????????', 'TYPR', '.:', 'fits', 'okey', 'OF', 'says', 'j/p', 'lotsa', 'american', '26', 'schmoopies', 'dies', 'heyyyyyyyyyy', '68%', '=', 'eeewwwwww', 'ltnc', 'wv', 'CHAT', 'leaders', 'gotaa', 'yess', 'anythin', 'garciae', 'fart', 'Harmony', ',,,,,,,', 'sicily', 'chanop', 'wiltshire', 'Dokken', 'mah', 'yepper s', 'bois', 'cigars', 'sayn', 'ahhhhhhhhhhhhhh', 'damnit', 'meeeeeeeeeeeee', 'sheesh', 'hu', 'canadaian', '!!', 'Lol', 'soybeans', 'Wb', '*hugs*', 'months', 'rights', 'yoko', '-17', 'u550436035', 'kickass', 'Awww', 'Yo', '46', \"'.\", \"yw's\", 'Trivium', 'socks', 'whatca', 'assholes', 'brwn', '_', 'tackles', ')))))))', ',,,,', 'Ty', 'tastes', 'geeZe', '$$', 're-thinking', \"'n'\", 'updated', 'pissed', 'moped', 'goooooo', 'internet', 'rockies', 'ahhh', 'hubbys', 'saratoga', 'burger', 'Lay', 'hugsssss', 'And', 'spanked', '99703', 'feelings', 'smirks', 'p u s s y', '2', 'dawg', 'n9ne', 'Like', 'F5', 'wooooooooooooohoooooooooooooooo', 'ft.', 'About', 'ALL', 'cnnecticut', 'oO', 'Get', '.owner.', 'snickers', 'coughs', 'italy', 'halloween', 'gettign', 'wearin', 'ryaon', 'WHOA', 'Metallica', 'senor', 'whupped', 'People', 'IRC', 'peolpe', 'bf', 'donuts', 'ussy', 'sexist', 'QQ', 'ohhhhhh', 'paypal', 'allergies', ';]', 'Point', 'livin', '((((((', 'showered', 'comenting', 'Born', 'com', 'tatatatnanaantatat', 'Biographys', 'Whaaa', 'femine', 'backroom', 'adreniline', 'whoaaaaaaaaaaaa', 'World', 'eng', 'tootsie', 'Sunny', 'Permenant', 'plenaty', 'biebsa', 'flattered', 'Watching', 'bbl', 'LuverZ', 'hugss', 'teh', 'ciao', 'YOU', 'sites', 'Here', 'mkay', 'johny', 'hopin', 'Ctrl', 'dokey', '7', 'descriminate', 'hissy', 'Were', 'Wowsa', 'Snake', 'Huh', 'wher', 'Elev', 'pssst', '33', 'ewedding', 'bucks', 'comps', '!!!', 'lesbian', 'Yarrrr', 'Thugs', 'overplaying', 'llloooozzzzeeerrrrzzzzzzzzzzzzzzzzzzzzzzzzzzzzzzzzzzzzzzzzzzzzzzzzz', 'First', 'brakes', 'mspace', 'ooooook', 'eay', 'heads', 'LOLOLOLLL', '16.', 'raed', 'munches', 'bumped', 'gives', 'lacking', 'WHISPre', 'whistles', 'o/~', '))))))))))', 'satisfie', 'girls', 'o.0', 'everone', 'hiya', 'Nope', '//www.wunderground.com/cgi-bin/findweather/getForecast?query=95953#FIR', '.op.', '2nd', 'grrrrrrrr', 'raining', 'PMING', 'Chica', 'sexcite', 'Aiken', 'james', 'An', 'serg', 'rumour', 'Lil', 'Down', 'cops', 'notes', 'means', 'awwwwwww', 'donno', 'Parkway', 'waters', 'Turn', 'Take', 'chattin', '70%', 'fella', 'Everytime', 'wothough', 'riiiiight', 'mornign', 'yerself', 'hhaaaaatttee', '18ST', 'teenagers', 'hahahhahah', 'Resident', 'english', 'martinis', 'holds', 'chanowner', 'gezzz', 'subsitute', '<3333', 'Fails', 'lincoln', 'Box', 'metallica', 'hom', 'bio', 'beachhhh', 'heard', 'HOTT', 'Let', 'HERE', '*spank*', '1930', 'Observed', 'ooeer', 'paxil', 'grettings', 'chops', 'bbbbbyyyyyyyeeeeeeeee', 'oOo', 'Evil', 'Obviously', 'PMing', 'toledo', 'lool', 'FEMALE', 'tooo', 'deleware', '!???', ')))))))))))))))))))))', 'hiding', '7:45', 'tthe', 'kansas', '~!', 'AGAIN', 'whys', 'thinks', 'compoud', 'cepn', 'abourted', 'foxes', 'awwwwww', 'Me', 'realise', 'elections', 'minutes', 'Great', 'ontrobution', 'ooopppps', 'wings', 'reached', 'clinicals', 'o_0', 'yessum', ')))))))))))))))))))', '(.', 'headach', 'schlep', '<<<<<<,', 'heyyyyyyyy', 'sisters', 'heeheeheeheeheehee', 'PA', 'roomies', 'Hug', 'Vroooom', 'gn', '; ..', '~', 'cyb3r', 'Sexy', '47.', 'okay', 'nads', 'tellin', 'latins', 'prono', 'bikes', 'kisses', 'ohhhhhhhhhhhhhhhh', 'hiy', 'Did', 'shorty', 'vetrabrate', 'evah', 'Hello', 're-thinks', 'errrrr', 'Dolls', 'assumes', 'cars', 'jammies', 'seee', 'adams', 'tennessee', 'bouts', 'sammich', '??!!', \"rollin'\", 'Hay', 'asked', 'yay', 'babiess', 'spirits', '--', '43.', 'In.', 'Roses', 'Chamillionaire', '>_>', 'NOTICE', '20S', 'wats', '(((((..', 'smirkz', 'vega', '6:41', '))))))))))))))', 'DVD', ';-)', 'Ahhhh', 'Temp.', '1.98', '300', 'hoping', 'Heya', 'benz', 'prolly', 'Hmm', 'bbiam', 'url', 'Food', 'bounced', 'Ms', 'erics', 'blowjob', 'Barbieee', '64.8', 'rashes', 'poorrr', 'Almost', 'jude', 'PS', '<perk>', 'aligator', 'prays', 'joined', '. .', 'kellogs', '*waves*', 'wc', 'CHATHIDE', 'monday', 'PART', 'pmers', 'lyin', 'flashed', 'du', 'Rothlisburger', 'respec', 'Foxwoods', 'asking', 'Chop', '<', 'repeating', 'NY', \"talkin'\", 'exchanging', 'OK', 'evertonr', 'italians', 'topics', 'crashed', 'AWAY', '*drools*', 'jacking', 'multitasking', 'shows', 'coggieeee', 'bak', 'Fighting', 'impressed', 'christianity', '*grins*', '56', 'talked', 'JESUS', 'agurlwithbigguns', 'nudes', '38', 'mmmmmmmmmm', 'drags', 'Go', 'midgets', 'aww', 'Silverstein', 'headlights', 'urls', 'doors', 'ohwa', 'pweeze', 'bible', '))))))))))))', '????', 'NONE', 'wondered', 'asks', 'vuela', 'hertory', 'FROM', 'Then', 'YES', 'Lampert', 'Everyone', 'Touching', 'cereals', 'dyed', 'normy', '.....', 'soojn', 'denzel', 'foreplay', 'Filth', 'Pa', 'judges', 'beuty', 'Clock', 'Looking', 'hel', ':-@', 'youuu', 'clubs', 'lovers', 'awsome', 'Thank', 'Been', 'named', 'syllables', '29803', 'grrrrrring', 'george', 'HUGE', 'reads', 'futurama', 'Rang', '65%', 'Break', 'pages', 'prrty', 'Your', 'nic', 'OOooOO', 'www.Wunderground.com', 'woot', 'fettish', 'gals', 'n.n', 'sleeps', 'blankie', 'On', 'DOES', 'magine', 'docs', 'lambergini', 'cheaking', 'complains', '36', 'Cum', 'Road', 'neked', 'bedford', 'muahhhhh', 'ltnsea', 'aTerry', 'ihavehotnips', 'suprise', 'Jerketts', 'eeeek', 'pfft', 'facilitated', 'thinkin', 'ldskdlsf', 'mornin', 'wahoooooooo', 'pokkies', 'pervin', 'jw', 'Cute', 'CAN', 'babies', 'offence', 'salsa', 'cuppers', 'haters', 'heroes', 'BUt', 'profilrs', 'stans', ',', 'w/b', 'O.K', 'bro', 'Burger', 'duh', 'foothills', 'GUYS', 'tooooooooooo', 'frags', '<3333333333333333', 'Figured', 'pwns', 'wowsa', 'History', 'hx', 'whered', 'LAst', 'Yea', 'qwertyuiop', 'Truth', 'woooohoooo', 'bootay', 'Please', 'weeeeeeeee', 'splelnig', 'hmmmmmmmm', 'suffers', 'pssssh', 'lthen', '-s', 'Tower', 'SO', 'Fairbanks', 'Question', 'KoOL', '......', \"miss'n\", 'yepper', '.(.', 'ssid', 'mwahhss', 'oatmel', 'monthes', 'AHHAH', 'BYE', 'hartford', \"@-,'~\", 'o.O', 'actualy', 'Constitution', 'nad', 'guyz', 'Tisk', 'handyMan', '((((((((((((', '95953', 'Splashing', 'Edgewood', 'cyb3r-lover', 'clicked', 'fuked', 'towels', '&^', 'SEE', '.........', 'owww', 'Room', 'lixxx', 'Bwhaha', ':P', 'Finger', 'nbc', 'deaths', 'OOPS', 'bi', 'barfights', 'GOOD', 'Holy', 'Record', 'Catterick', '360', 'Someone', '<3', 'democrats', 'iamahotniplickme', 'DAamn', 'Thanks', \"O's\", 'Whisper', 'mcgraw', '!!!!!.', 'subscriptions', 'purty', '!!!.', 'meds', 'ghet', 'burps', \"cyberin'\", 'awrighty', 'whoopZ', 'manhattan', \"pm's\", '0', 'wansta', 'IF', '>:->', '..................', 'Ark', 'cooooooooookiiiiiiiiiiiieeeeeeeeeeee', 'sp', 'masturbating', 'sighs', 'win win', 'Time', '\"?', 'lubbs', 'cho-co-la-te', 'screams', 'mmmm', 'hiYas', '6', '<33333', 'jr', 'City', 'Niceeee', 'watches', ',,,', 'bitches', 'o0', 'Advisory', 'hours', 'beleive', 'yesh', 'JOIN', 'Lies', 'kc', 'cheking', 'Have', 'Ohhh', 'pokin', 'mm', 'Track', 'hits', 'wiggleZ', 'Money', 'finds', 'http', 'wed-lock', 'allo', 'spelled', 'SOMETHING', 'Good', 'iamahotnip', 'dirrrrty', '55.', '--------------------', 'wantin', 'Jayse', 'ROOM', 'sean', 'Females', 'norman', 'confusing', 'THAT', 'splenda', 'rotflmao', 'stairs', 'relaxes', 'beatles', 'Checked', '[[[[[[[[[[[[[[[[[[', '<<<<<', 'Apparently', '41', 'Joshy', 'Slide', 'gets', 'belongings', '57', 'CHOCO', 'JTo', 'gooo', '.............', 'nicer', 'online', 'hahaaa', 'akon', ')?', 'Apocalypse', ';)', 'rats', 'ltr', 'Omg', 'Dood', 'Ghetto', 'lil', 'paid', 'temples', 'pvt', '700', 'nj', 'brings', 'SEEN', 'shots', 'Haha', 'byeeee', 'biiiatch', 'daughters', '25', 'myspace', 'e-v-e-r-y', 'Compliments', 'mauh', '53', 'ooperative', 'tlak', 'OR', 'cali', 'willams', '(((((((((((((((((((((', 'nortenos', 'petunias', 'stirred', 'diggin', 'lmaooooo', 'weeeeeeeeeeeeeeee', 'Okay', 'tere', 'gentlemen', 'beeeeehave', 'afk', 'pushes', 'Tell', 'poooland', 'lamborgini', 'songs', 'trolls', 'herE', 'prisoners', 'dojn', 'DON', 'LOL', 'IL', 'soo', 'infor', 'voices', 'ahhahahaha', 'Nickelback', 'Kick', 'DOING', 'Connecticutt', '.......', 'Hallo', 'feet', 'claire', 'out.', 'netflix', '. ...', 'walderslade', 'http://www.shadowbots.com', 'Prof', 'cleared', 'totaly', 'defrags', 'Naples', 'e1', 'wuts', '1.99', 'results', 'LIX', 'dat', 'Lovely', 'mmmmmmmmmmmmm', 'Ontario', 'They', 'cottons', 'If', 'poeple', 'pursued', 'hairs', ':tongue:', 'enuf', 'prittier', 'surprised', 'op', 'onuimso', 'Images', 'Away', 'ears', 'impared', 'sucked', '295', 'settles', 'helloooo', 'hola', 'no-no', 'warnings', 'whuuped', 'gtg', 'gaaaaaaay', 'inhales', 'burpin', 'askin', 'twoel', \"'d\", '>?', 'Pic', 'Simple', 'Who', 'hahahah', 'Bloooooooood', 'wimmins', 'balls', 'pumpkins', '92129', 'hehehee', 'goin', 'Horace', ':):):)', 'x-mas', '39.3', 'downs', '/', 'Way', 'ny', 'alot', 'xD', 'diseast', 'weeeeeeeeeeeeeeeeeeeeeeeeed', 'P.', 'ther', 'tommorrow', 'tazzmaniane', '8', 'muahsssssssssssssssssss', 'webcam', 'COME', 'ladis', 'conway', 'ahh', 'wooooohoooo', '59', 'reallly', 'bagels', 'ck', 'Bloooooooooooood', 'games', 'mame', 'laterssss', 'hahahaha', 'ARE', 'necromancers', 'pasa', '(((((((((', 'enuff', 'hahahaHA', '100', 'cmon', 'K-Fed', 'twizted', 'b4', 'ELSE', 'WTF', 'grilfriend', 'cyas', 'ID', 'Visit', '3~<-..4@.', 'glitches', 'Pounder', 'ysssssssss', 'lbs', 'YOu', '...', 'Home', 'ono', 'immersed', '45', 'loves', 'bied', 'vs.', 'alohaaa', 'despises', 'icky', 'mwahhs', '90', 'bbs', 'nicname', 'stron', 'ANYONE', 'feels', 'hm', 'wellbutrin', 'fuddahnut', 'nicnames', 'bones', 'guys', 'Fixed', 'cums', 'rolls', 'sullivan', 'bruises', 'WANNA', 'Bloooooooooood', 'Breaking', 'moans', 'York', 'homeboys', 'blessings', '6:53', 'Teck', 'listens', 'Nashville', 'Tense', 'euphamisms', '( o Y o )', '<33', 'WA', 'sings', '05.', 'Diary', 'argh', 'Hold', '69', 'uyes', 'england', 'handheld', 'Rock', 'keeps', 'PDT', 'fetterline', 'eeww', 'happend', 'asshole', 'takers', 'combo', 'Gosh', 'closes', 'O.k.', 'Current', 'french', 'Dew', 'HUH', 'coolcat', ')))))))))))', 'waitin', 'lurkin', 'mothers', 'lix', 'knuckles', 'banjoes', 'curls', 'Chat', 'Broken', 'petanmart', 'MUAH', \"shinnin'\", 'Foley', 'attempted', ':beer:', '51', 'HI', 'S.M.R.', 'forgets', 'aberdeen', ')', 'Americans', 'RI', 'whisling', 'nothin', 'h.s', 'austin', 'mom', '.A.n.a.c.?.n.?.a.'}\n"
     ]
    }
   ],
   "source": [
    "unusualWords =[]\n",
    "for word in chatWords:\n",
    "    if word not in wordlist:#find the words in nps_chat but not in wordlist\n",
    "        if word.startswith('U') == 0:#remove the user count\n",
    "            unusualWords.append(word)        \n",
    "uniqu_unusual = set(unusualWords)\n",
    "print(uniqu_unusual)"
   ]
  },
  {
   "cell_type": "code",
   "execution_count": 4,
   "metadata": {
    "collapsed": false
   },
   "outputs": [
    {
     "data": {
      "text/plain": [
       "3450"
      ]
     },
     "execution_count": 4,
     "metadata": {},
     "output_type": "execute_result"
    }
   ],
   "source": [
    "unusualWords =[]\n",
    "for word in chatWords:\n",
    "    if word not in wordlist:#find the words in nps_chat but not in wordlist\n",
    "        if word.startswith('U') == 0:#remove the user count\n",
    "            unusualWords.append(word)        \n",
    "uniqu_unusual = set(unusualWords)\n",
    "len(uniqu_unusual)"
   ]
  },
  {
   "cell_type": "code",
   "execution_count": 7,
   "metadata": {
    "collapsed": false
   },
   "outputs": [],
   "source": [
    "uniqu = set(unusualWords)\n",
    "# print(uniqu)"
   ]
  },
  {
   "cell_type": "code",
   "execution_count": 128,
   "metadata": {
    "collapsed": false
   },
   "outputs": [
    {
     "data": {
      "text/plain": [
       "3030"
      ]
     },
     "execution_count": 128,
     "metadata": {},
     "output_type": "execute_result"
    }
   ],
   "source": [
    "# for char in AllChar:\n",
    "emotion=[]\n",
    "for char in AllChar:\n",
    "    for word in uniqu: \n",
    "        if word.endswith(char)==1 or word.startswith(char)==1:\n",
    "#         if word.find(char)!= 1:\n",
    "            emotion.append(word)\n",
    "unique = set(emotion)  \n",
    "len(unique)"
   ]
  },
  {
   "cell_type": "code",
   "execution_count": 129,
   "metadata": {
    "collapsed": false
   },
   "outputs": [
    {
     "data": {
      "text/plain": [
       "3030"
      ]
     },
     "execution_count": 129,
     "metadata": {},
     "output_type": "execute_result"
    }
   ],
   "source": [
    "unique = set(emotion)  \n",
    "len(unique)"
   ]
  },
  {
   "cell_type": "code",
   "execution_count": 133,
   "metadata": {
    "collapsed": false
   },
   "outputs": [
    {
     "data": {
      "text/plain": [
       "51"
      ]
     },
     "execution_count": 133,
     "metadata": {},
     "output_type": "execute_result"
    }
   ],
   "source": [
    "newfinal =[]\n",
    "for num in nums:\n",
    "    for one in final:\n",
    "        if one.startswith(num) == 1:\n",
    "            newfinal.append(one)\n",
    "len(set(newfinal)) "
   ]
  },
  {
   "cell_type": "code",
   "execution_count": 149,
   "metadata": {
    "collapsed": false
   },
   "outputs": [
    {
     "name": "stdout",
     "output_type": "stream",
     "text": [
      "322\n"
     ]
    },
    {
     "data": {
      "text/plain": [
       "233"
      ]
     },
     "execution_count": 149,
     "metadata": {},
     "output_type": "execute_result"
    }
   ],
   "source": [
    "final =[]\n",
    "for one in uniqu:\n",
    "    if one not in unique:\n",
    "         if one.isdigit() == 0:\n",
    "            final.append(one)\n",
    "emoBeforeNum = set(final)     \n",
    "print(len(emoBeforeNum))\n",
    "\n",
    "newfinal =[]\n",
    "for num in nums:\n",
    "    for one in final:\n",
    "        if one.startswith(num) == 1:\n",
    "            newfinal.append(one)\n",
    "uniNum = set(newfinal)\n",
    "len(uniNum)\n",
    "\n",
    "emo=[]\n",
    "for each in emoBeforeNum:\n",
    "    if each not in uniNum and each.endswith('>')==0 and each.startswith('<')==0:\n",
    "        emo.append(each)\n",
    "len(emo)"
   ]
  },
  {
   "cell_type": "code",
   "execution_count": 77,
   "metadata": {
    "collapsed": false
   },
   "outputs": [],
   "source": [
    "# print(unusualWords[:70])"
   ]
  }
 ],
 "metadata": {
  "anaconda-cloud": {},
  "kernelspec": {
   "display_name": "Python [conda root]",
   "language": "python",
   "name": "conda-root-py"
  },
  "language_info": {
   "codemirror_mode": {
    "name": "ipython",
    "version": 3
   },
   "file_extension": ".py",
   "mimetype": "text/x-python",
   "name": "python",
   "nbconvert_exporter": "python",
   "pygments_lexer": "ipython3",
   "version": "3.5.2"
  }
 },
 "nbformat": 4,
 "nbformat_minor": 1
}
