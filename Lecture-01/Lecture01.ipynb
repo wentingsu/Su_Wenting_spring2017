{
 "cells": [
  {
   "cell_type": "markdown",
   "metadata": {},
   "source": [
    "# String"
   ]
  },
  {
   "cell_type": "markdown",
   "metadata": {},
   "source": [
    "!['Common dictionary literals and operations'](img/s1.png)"
   ]
  },
  {
   "cell_type": "markdown",
   "metadata": {},
   "source": [
    "!['Common dictionary literals and operations'](img/s2.png)"
   ]
  },
  {
   "cell_type": "markdown",
   "metadata": {},
   "source": [
    "# List\n",
    "* Ordered collections of arbitrary objects\n",
    "* Accessed by offset\n",
    "* Variable-length, heterogeneous, and arbitrarily nestable\n",
    "* Of the category “mutable sequence”"
   ]
  },
  {
   "cell_type": "markdown",
   "metadata": {},
   "source": [
    "##  Creating List"
   ]
  },
  {
   "cell_type": "markdown",
   "metadata": {},
   "source": [
    "!['Common dictionary literals and operations'](img/l1.png)"
   ]
  },
  {
   "cell_type": "markdown",
   "metadata": {},
   "source": [
    "!['Common dictionary literals and operations'](img/l2.png)"
   ]
  },
  {
   "cell_type": "markdown",
   "metadata": {},
   "source": [
    "### Indexing"
   ]
  },
  {
   "cell_type": "code",
   "execution_count": 18,
   "metadata": {
    "collapsed": false
   },
   "outputs": [
    {
     "name": "stdout",
     "output_type": "stream",
     "text": [
      "1.\n",
      "['am', 'here']\n",
      "2.\n",
      "['here', 'at']\n"
     ]
    }
   ],
   "source": [
    "l = ['I','am','here','at','NEU']\n",
    "l[0]             # 'I'\n",
    "l[-1]            # 'NEU'\n",
    "print('1.')\n",
    "print(l[1:3])\n",
    "print('2.')\n",
    "print(l[-3:-1])"
   ]
  },
  {
   "cell_type": "markdown",
   "metadata": {},
   "source": [
    "### Mutable Lists"
   ]
  },
  {
   "cell_type": "code",
   "execution_count": 19,
   "metadata": {
    "collapsed": false
   },
   "outputs": [
    {
     "name": "stdout",
     "output_type": "stream",
     "text": [
      "1.\n",
      "['spam', 'eggs', 'SPAM!']\n"
     ]
    }
   ],
   "source": [
    "L = ['spam', 'Spam', 'SPAM!']\n",
    "L[1] = 'eggs'\n",
    "print('1.')\n",
    "print(L)\n",
    "L = [1, 2, 3]\n",
    "L[1:2]= [4,5]            # [1, 4, 5, 3]       - Replacement/insertion\n",
    "L[1:1]= [6,7]            # [1, 6, 7, 4, 5, 3] - Insertion (replace nothing)\n",
    "L[1:2] = []              # [1, 7, 4, 5, 3]    - Deletion (insert nothing)\n",
    "del L[0]\n",
    "del L[1:]"
   ]
  },
  {
   "cell_type": "markdown",
   "metadata": {},
   "source": [
    "### Sorting List"
   ]
  },
  {
   "cell_type": "code",
   "execution_count": 21,
   "metadata": {
    "collapsed": false
   },
   "outputs": [
    {
     "name": "stdout",
     "output_type": "stream",
     "text": [
      "1.\n",
      "['ABD', 'aBe', 'abc']\n",
      "2.\n",
      "['abc', 'ABD', 'aBe']\n",
      "3.\n",
      "['aBe', 'ABD', 'abc']\n"
     ]
    }
   ],
   "source": [
    "L = ['abc', 'ABD', 'aBe']\n",
    "L.sort()\n",
    "print('1.')\n",
    "print(L)\n",
    "L = ['abc', 'ABD', 'aBe']\n",
    "L.sort(key=str.lower)\n",
    "print('2.')\n",
    "print(L)\n",
    "L = ['abc', 'ABD', 'aBe']\n",
    "L.sort(key=str.lower, reverse=True)\n",
    "print('3.')\n",
    "print(L)"
   ]
  },
  {
   "cell_type": "markdown",
   "metadata": {},
   "source": [
    "### Other List operations \n",
    "* list.(CMD/Ctrl + space)"
   ]
  },
  {
   "cell_type": "markdown",
   "metadata": {},
   "source": [
    "# Dictionaries\n",
    "* Accessed by key, not offset position\n",
    "* Unordered collections of arbitrary objects\n",
    "* Variable-length, heterogeneous, and arbitrarily nestable\n",
    "* Of the category “mutable mapping”"
   ]
  },
  {
   "cell_type": "markdown",
   "metadata": {},
   "source": [
    "!['Common dictionary literals and operations'](img/dic.png)"
   ]
  },
  {
   "cell_type": "markdown",
   "metadata": {},
   "source": [
    "### Indexing"
   ]
  },
  {
   "cell_type": "code",
   "execution_count": null,
   "metadata": {
    "collapsed": true
   },
   "outputs": [],
   "source": [
    "D = {'spam': 2, 'ham': 1, 'eggs': 3}\n",
    "D['spam']                      # 2\n",
    "D.get('spam')                  # 2\n",
    "# D.get('toast')               # Error\n",
    "D.get('toast', 88)"
   ]
  },
  {
   "cell_type": "markdown",
   "metadata": {},
   "source": [
    "### Mutable Dictionaries"
   ]
  },
  {
   "cell_type": "code",
   "execution_count": 26,
   "metadata": {
    "collapsed": false
   },
   "outputs": [
    {
     "name": "stdout",
     "output_type": "stream",
     "text": [
      "1.\n",
      "{'spam': 2, 'ham': ['grill', 'bake', 'fry'], 'eggs': 3}\n",
      "2.\n",
      "{'spam': 2, 'brunch': 'Bacon', 'ham': ['grill', 'bake', 'fry'], 'eggs': 3}\n",
      "3.\n",
      "{'spam': 2, 'brunch': 'Bacon', 'ham': ['grill', 'bake', 'fry']}\n",
      "4.\n",
      "True\n"
     ]
    }
   ],
   "source": [
    "D = {'spam': 2, 'ham': 1, 'eggs': 3}\n",
    "D['ham'] = ['grill', 'bake', 'fry']        # Change entry\n",
    "print('1.')\n",
    "print(D)\n",
    "D['brunch'] = 'Bacon'                      # Add new entry\n",
    "print('2.')\n",
    "print(D)\n",
    "del D['eggs']\n",
    "print('3.')\n",
    "print(D)\n",
    "print('4.')\n",
    "print('spam' in D)"
   ]
  },
  {
   "cell_type": "markdown",
   "metadata": {},
   "source": [
    "# Tuples"
   ]
  },
  {
   "cell_type": "markdown",
   "metadata": {},
   "source": [
    "* Ordered collections of arbitrary objects\n",
    "* Accessed by offset\n",
    "* Of the category “immutable sequence”\n",
    "* Fixed-length, heterogeneous, and arbitrarily nestable"
   ]
  },
  {
   "cell_type": "markdown",
   "metadata": {},
   "source": [
    "!['Tuples operations'](img/t1.png)"
   ]
  },
  {
   "cell_type": "markdown",
   "metadata": {},
   "source": [
    "!['Tuples operations-2'](img/t2.png)"
   ]
  },
  {
   "cell_type": "code",
   "execution_count": 14,
   "metadata": {
    "collapsed": false
   },
   "outputs": [
    {
     "data": {
      "text/plain": [
       "(1, (2, 3))"
      ]
     },
     "execution_count": 14,
     "metadata": {},
     "output_type": "execute_result"
    }
   ],
   "source": [
    "# Basic Operations\n",
    "(1, 2) + (3, 4)               # (1, 2, 3, 4)\n",
    "(1, 2) * 4                    # (1, 2, 1, 2, 1, 2, 1, 2)\n",
    "T = (1, 2, 3, 4)\n",
    "T[0], T[1:3]"
   ]
  },
  {
   "cell_type": "code",
   "execution_count": 15,
   "metadata": {
    "collapsed": false
   },
   "outputs": [
    {
     "name": "stdout",
     "output_type": "stream",
     "text": [
      "40\n",
      "(40,)\n"
     ]
    }
   ],
   "source": [
    "# Int vs Tuple\n",
    "x = (40)\n",
    "print(x)\n",
    "y = (40,)\n",
    "print(y)"
   ]
  },
  {
   "cell_type": "markdown",
   "metadata": {},
   "source": [
    "### Why List and Tuples ?"
   ]
  },
  {
   "cell_type": "markdown",
   "metadata": {},
   "source": [
    "# Files"
   ]
  },
  {
   "cell_type": "markdown",
   "metadata": {},
   "source": [
    "![Files](img/f1.png)"
   ]
  },
  {
   "cell_type": "markdown",
   "metadata": {},
   "source": [
    "### Using Files\n",
    "* File iterators are best for reading lines\n",
    "* Content is strings, not objects\n",
    "* Files are buffered and seekable\n",
    "* close is often optional"
   ]
  },
  {
   "cell_type": "code",
   "execution_count": null,
   "metadata": {
    "collapsed": true
   },
   "outputs": [],
   "source": [
    "# Files in Action\n",
    "myfile = open('myfile.txt', 'w')\n",
    "myfile.write('hello text file\\n')\n",
    "myfile.write('goodbye text file\\n')\n",
    "myfile.close()\n",
    "# ----- #\n",
    "myfile = open('myfile.txt')\n",
    "myfile.readline()               # 'hello text file\\n'"
   ]
  },
  {
   "cell_type": "markdown",
   "metadata": {},
   "source": [
    "### Using Pickle"
   ]
  },
  {
   "cell_type": "code",
   "execution_count": null,
   "metadata": {
    "collapsed": true
   },
   "outputs": [],
   "source": [
    "D = {'a': 1, 'b': 2}\n",
    "import pickle\n",
    "with open('myPickle.pkl','w')as f:\n",
    "    pickle.dump(D, f)\n",
    "with open('myPickle.pkl')as f:\n",
    "    E = pickle.load(f)"
   ]
  },
  {
   "cell_type": "markdown",
   "metadata": {},
   "source": [
    "### Using JSON"
   ]
  },
  {
   "cell_type": "code",
   "execution_count": null,
   "metadata": {
    "collapsed": true
   },
   "outputs": [],
   "source": [
    "import json\n",
    "name = dict(first='Bob', last='Smith')\n",
    "rec = dict(name=name, job=['dev', 'mgr'], age=40.5)\n",
    "json.dumps(rec)             # {\"job\": [\"dev\", \"mgr\"], \"name\": {\"last\": \"Smith\", \"first\": \"Bob\"}, \"age\": 40.5}\n",
    "with open('myJson.json','w')as f:\n",
    "    json.dump(D, f)\n",
    "P = json.load(open('testjson.txt'))"
   ]
  },
  {
   "cell_type": "markdown",
   "metadata": {},
   "source": [
    "### References Versus Copies"
   ]
  },
  {
   "cell_type": "code",
   "execution_count": null,
   "metadata": {
    "collapsed": true
   },
   "outputs": [],
   "source": [
    "L = [1,2,3]\n",
    "D = {'a':1, 'b':2}\n",
    "A = L         # Reference\n",
    "B = D         \n",
    "X = L[:]\n",
    "Y = D.copy()"
   ]
  },
  {
   "cell_type": "markdown",
   "metadata": {},
   "source": [
    "### Comparisons and Equality"
   ]
  },
  {
   "cell_type": "code",
   "execution_count": 27,
   "metadata": {
    "collapsed": false
   },
   "outputs": [
    {
     "data": {
      "text/plain": [
       "(True, False)"
      ]
     },
     "execution_count": 27,
     "metadata": {},
     "output_type": "execute_result"
    }
   ],
   "source": [
    "L1 = [1, ('a', 3)]\n",
    "L2 = [1, ('a', 3)]\n",
    "L1 == L2, L1 is L2"
   ]
  },
  {
   "cell_type": "code",
   "execution_count": 28,
   "metadata": {
    "collapsed": false
   },
   "outputs": [
    {
     "name": "stdout",
     "output_type": "stream",
     "text": [
      "1.\n",
      "True True\n",
      "2.\n",
      "True False\n"
     ]
    }
   ],
   "source": [
    "S1 = 'spam'\n",
    "S2 = 'spam'\n",
    "print('1.')\n",
    "print(S1 == S2, S1 is S2)\n",
    "S1 = 'a longer string'\n",
    "S2 = 'a longer string'\n",
    "print('2.')\n",
    "print(S1 == S2, S1 is S2)"
   ]
  },
  {
   "cell_type": "code",
   "execution_count": null,
   "metadata": {
    "collapsed": true
   },
   "outputs": [],
   "source": [
    "!['Common dictionary literals and operations'](img/l1.png)"
   ]
  },
  {
   "cell_type": "markdown",
   "metadata": {},
   "source": [
    "# Exercise"
   ]
  },
  {
   "cell_type": "markdown",
   "metadata": {},
   "source": [
    "## Strings\n",
    "* Check if the stirng ends with .py\n",
    "* Given string s1 and s2. Check if s2 startsWith s1.\n",
    "* Make '   Hello ' as 'hello'\n",
    "## List\n",
    "* Create a list L1 containing odd numbers from 1 to 50.\n",
    "* Create a list L2 containing all the multiple of 5 and which are between 1 to 100.\n",
    "* Select last 3 elements from each list and create a new list combining both.\n",
    "* Select last 5 elements but skipping each following element.\n",
    "* Given a variable n, create a list L3, using L2 which contains n elements and they are multiple of 10. (use drop function)\n",
    "* Reverse L3.\n",
    "* Get 3 highest element from L1.\n",
    "## Dictionary\n",
    "* Create a dict D1 which can store the Name,age and Gender of 3 students.\n",
    "* Add assignment scores to student1 from D1. Assignments can be multiple.\n",
    "* Check for student2 if gender is Male.\n",
    "* Print all the details for student1\n",
    "## Files\n",
    "* Save the dict as a json file and read it again in D2.\n",
    "* Check if both are same.\n",
    "* Read the example json file and display the username and email id.\n",
    "\n",
    "* Create a dict of length 10 containing odd numbers as keys and n*7 as value. "
   ]
  },
  {
   "cell_type": "code",
   "execution_count": null,
   "metadata": {
    "collapsed": true
   },
   "outputs": [],
   "source": []
  },
  {
   "cell_type": "code",
   "execution_count": null,
   "metadata": {
    "collapsed": true
   },
   "outputs": [],
   "source": []
  }
 ],
 "metadata": {
  "anaconda-cloud": {},
  "kernelspec": {
   "display_name": "Python [default]",
   "language": "python",
   "name": "python3"
  },
  "language_info": {
   "codemirror_mode": {
    "name": "ipython",
    "version": 3
   },
   "file_extension": ".py",
   "mimetype": "text/x-python",
   "name": "python",
   "nbconvert_exporter": "python",
   "pygments_lexer": "ipython3",
   "version": "3.5.2"
  }
 },
 "nbformat": 4,
 "nbformat_minor": 0
}
