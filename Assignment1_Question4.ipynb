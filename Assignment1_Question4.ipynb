{
 "cells": [
  {
   "cell_type": "markdown",
   "metadata": {},
   "source": [
    "# Question 4\n",
    "\n",
    "1. Under package nps_chat, see what files are in it.\n",
    "2. Find 'user121' and see how many posts he posted in all.\n",
    "3. Find out how many unique user in each age range group. (20s, 30s,...)(Hint: files' name)"
   ]
  },
  {
   "cell_type": "code",
   "execution_count": 2,
   "metadata": {
    "collapsed": true
   },
   "outputs": [],
   "source": [
    "from nltk.corpus import nps_chat as nps"
   ]
  },
  {
   "cell_type": "code",
   "execution_count": 3,
   "metadata": {
    "collapsed": false,
    "scrolled": true
   },
   "outputs": [
    {
     "data": {
      "text/plain": [
       "['10-19-20s_706posts.xml',\n",
       " '10-19-30s_705posts.xml',\n",
       " '10-19-40s_686posts.xml',\n",
       " '10-19-adults_706posts.xml',\n",
       " '10-24-40s_706posts.xml',\n",
       " '10-26-teens_706posts.xml',\n",
       " '11-06-adults_706posts.xml',\n",
       " '11-08-20s_705posts.xml',\n",
       " '11-08-40s_706posts.xml',\n",
       " '11-08-adults_705posts.xml',\n",
       " '11-08-teens_706posts.xml',\n",
       " '11-09-20s_706posts.xml',\n",
       " '11-09-40s_706posts.xml',\n",
       " '11-09-adults_706posts.xml',\n",
       " '11-09-teens_706posts.xml']"
      ]
     },
     "execution_count": 3,
     "metadata": {},
     "output_type": "execute_result"
    }
   ],
   "source": [
    "#Under package nps_chat, see what files are in it.\n",
    "nps.fileids()"
   ]
  },
  {
   "cell_type": "code",
   "execution_count": 4,
   "metadata": {
    "collapsed": false
   },
   "outputs": [
    {
     "data": {
      "text/plain": [
       "'40s'"
      ]
     },
     "execution_count": 4,
     "metadata": {},
     "output_type": "execute_result"
    }
   ],
   "source": [
    "'11-08-40s_706posts.xml'[6:-13]"
   ]
  },
  {
   "cell_type": "code",
   "execution_count": 5,
   "metadata": {
    "collapsed": false
   },
   "outputs": [
    {
     "name": "stdout",
     "output_type": "stream",
     "text": [
      "<!-- edited with XMLSpy v2007 sp1 (http://www.altova.com) by Eric Forsyth (Naval Postgradu\n"
     ]
    }
   ],
   "source": [
    "all =nps.raw('10-26-teens_706posts.xml')\n",
    "print(all[:90])"
   ]
  },
  {
   "cell_type": "code",
   "execution_count": 165,
   "metadata": {
    "collapsed": false
   },
   "outputs": [],
   "source": [
    "all_raw = nps.raw(nps.fileids())\n",
    "new_all_raw = all_raw.replace(\">\", \" \")\n",
    "# print(all_raw)"
   ]
  },
  {
   "cell_type": "code",
   "execution_count": 70,
   "metadata": {
    "collapsed": false
   },
   "outputs": [],
   "source": [
    "linePost= new_all_raw.split()\n",
    "# print(linePost)"
   ]
  },
  {
   "cell_type": "code",
   "execution_count": 164,
   "metadata": {
    "collapsed": false
   },
   "outputs": [
    {
     "data": {
      "text/plain": [
       "10567"
      ]
     },
     "execution_count": 164,
     "metadata": {},
     "output_type": "execute_result"
    }
   ],
   "source": [
    "#find all the user from all xml\n",
    "num3=0\n",
    "AllusrList=[]\n",
    "for line in linePost:\n",
    "    if line.startswith('user=\"') != 0:\n",
    "        AllusrList.append(line)\n",
    "        num3 += 1\n",
    "\n",
    "num3\n",
    "# print(AllusrList)"
   ]
  },
  {
   "cell_type": "code",
   "execution_count": 68,
   "metadata": {
    "collapsed": false
   },
   "outputs": [
    {
     "data": {
      "text/plain": [
       "132"
      ]
     },
     "execution_count": 68,
     "metadata": {},
     "output_type": "execute_result"
    }
   ],
   "source": [
    "#find all user121\n",
    "num121 = 0\n",
    "for user in AllusrList:\n",
    "    if user.endswith('User121\"') == 1:\n",
    "        num121 +=1\n",
    "num121"
   ]
  },
  {
   "cell_type": "code",
   "execution_count": 83,
   "metadata": {
    "collapsed": false
   },
   "outputs": [
    {
     "data": {
      "text/plain": [
       "630"
      ]
     },
     "execution_count": 83,
     "metadata": {},
     "output_type": "execute_result"
    }
   ],
   "source": [
    "clean_allUser = []\n",
    "uniqu_users = {}\n",
    "for user in AllusrList:\n",
    "    clean_user = user[12:-1]\n",
    "    clean_allUser.append(clean_user)\n",
    "uniqu_users = set(clean_allUser)\n",
    "len(uniqu_users) "
   ]
  },
  {
   "cell_type": "code",
   "execution_count": 163,
   "metadata": {
    "collapsed": false
   },
   "outputs": [
    {
     "name": "stdout",
     "output_type": "stream",
     "text": [
      "the number in 20s is:  162\n",
      "the number in 30s is:  44\n",
      "the number in 40s is:  80\n",
      "the number in teens is:  206\n",
      "the number in adults is:  138\n"
     ]
    }
   ],
   "source": [
    "\n",
    "def UserFunction(str):\n",
    "    count_user =0\n",
    "    for user in uniqu_users:\n",
    "        if user.startswith(str) ==1:\n",
    "            count_user +=1 \n",
    "    print ('the number in', str, 'is: ', count_user)\n",
    "\n",
    "UserFunction('20s'),\n",
    "UserFunction('30s'),\n",
    "UserFunction('40s'),\n",
    "UserFunction('teens'),\n",
    "UserFunction('adults')"
   ]
  },
  {
   "cell_type": "code",
   "execution_count": 43,
   "metadata": {
    "collapsed": false
   },
   "outputs": [
    {
     "name": "stdout",
     "output_type": "stream",
     "text": [
      "{'30s', '40s', 'teens', 'adults', '20s'}\n"
     ]
    }
   ],
   "source": [
    "all_xml = nps.fileids()\n",
    "clean_xmls =[]\n",
    "for xml in all_xml:\n",
    "    clean_xml = xml[6:-13]\n",
    "    clean_xmls.append(clean_xml)\n",
    "uniqu_xml = set(clean_xmls)\n",
    "print(uniqu_xml)"
   ]
  },
  {
   "cell_type": "code",
   "execution_count": 12,
   "metadata": {
    "collapsed": false
   },
   "outputs": [
    {
     "data": {
      "text/plain": [
       "0"
      ]
     },
     "execution_count": 12,
     "metadata": {},
     "output_type": "execute_result"
    }
   ],
   "source": [
    "len(set(word for word in raw_20s if word.startswith('10-19-20sUser')))"
   ]
  },
  {
   "cell_type": "code",
   "execution_count": 163,
   "metadata": {
    "collapsed": false
   },
   "outputs": [],
   "source": [
    "posts = nps.xml_posts() #get all posts content from all nps files.\n",
    "# print(posts[:20])"
   ]
  }
 ],
 "metadata": {
  "anaconda-cloud": {},
  "kernelspec": {
   "display_name": "Python [conda root]",
   "language": "python",
   "name": "conda-root-py"
  },
  "language_info": {
   "codemirror_mode": {
    "name": "ipython",
    "version": 3
   },
   "file_extension": ".py",
   "mimetype": "text/x-python",
   "name": "python",
   "nbconvert_exporter": "python",
   "pygments_lexer": "ipython3",
   "version": "3.5.2"
  }
 },
 "nbformat": 4,
 "nbformat_minor": 1
}
